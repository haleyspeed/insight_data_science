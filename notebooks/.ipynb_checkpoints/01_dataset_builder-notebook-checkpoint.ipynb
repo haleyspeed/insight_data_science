{
 "cells": [
  {
   "cell_type": "markdown",
   "metadata": {},
   "source": [
    "# WoW Stats (API Returns Inconsistent Values Between Methods)"
   ]
  },
  {
   "cell_type": "markdown",
   "metadata": {},
   "source": [
    "Pipeline\n",
    "1. Get leaderboards\n",
    "2. Get guilds in leaderboards\n",
    "3. Get characters in guilds in leaderboards\n",
    "4. Get player stats from leaderboards\n",
    "\n",
    "Rinse repeat with achievements"
   ]
  },
  {
   "cell_type": "markdown",
   "metadata": {},
   "source": [
    "## Initialize Default Values and Functions"
   ]
  },
  {
   "cell_type": "markdown",
   "metadata": {},
   "source": [
    "#### Import Packages"
   ]
  },
  {
   "cell_type": "code",
   "execution_count": null,
   "metadata": {},
   "outputs": [],
   "source": [
    "import requests\n",
    "import configparser\n",
    "import json\n",
    "import os\n",
    "import pandas as pd\n",
    "import csv\n",
    "import glob\n",
    "from IPython.display import HTML\n",
    "from datetime import datetime\n",
    "import numpy as np\n"
   ]
  },
  {
   "cell_type": "markdown",
   "metadata": {},
   "source": [
    "#### Define reusable functions and get API keys"
   ]
  },
  {
   "cell_type": "code",
   "execution_count": null,
   "metadata": {},
   "outputs": [],
   "source": [
    "def unpack_json(txt):\n",
    "    \"\"\"Converts json data from API calls into dicts and lists for parsing.\"\"\"\n",
    "    unpacked = json.loads(txt)\n",
    "    return unpacked\n",
    "\n",
    "def get_access_token (blizzard_key, blizzard_secret):\n",
    "    \"\"\"Gets a Blizzard access token for use with the Blizzard API.\"\"\"\n",
    "    r = requests.post('https://us.battle.net/oauth/token', data={'grant_type': 'client_credentials'},\n",
    "                  auth=(blizzard_key, blizzard_secret))\n",
    "    unpacked = unpack_json(r.text)\n",
    "    access_token = unpacked['access_token']\n",
    "    return access_token\n",
    "\n",
    "# Read in keys and secret IDs for APIs from a separate conig file\n",
    "f_config = 'config.ini'\n",
    "config = configparser.ConfigParser()\n",
    "config.read(f_config)\n",
    "blizzard_key = config.get('KEYS', 'blizzard')\n",
    "blizzard_secret = config.get('KEYS', 'blizzard_secret')\n",
    "access_token = get_access_token(blizzard_key, blizzard_secret)\n",
    "locale = 'en_US'\n",
    "namespace = 'static-us'"
   ]
  },
  {
   "cell_type": "markdown",
   "metadata": {},
   "source": [
    "#### Get a list of all the US-based World of Warcraft Servers and IDs "
   ]
  },
  {
   "cell_type": "code",
   "execution_count": null,
   "metadata": {},
   "outputs": [],
   "source": [
    "def get_wow_realms_list (namespace, locale):\n",
    "    directory = 'data/wow/realm/index'\n",
    "    url = 'https://us.api.blizzard.com/' + directory + '?namespace=dynamic-us' + \\\n",
    "          '&locale=' + locale + '&access_token=' + access_token\n",
    "    r = requests.get(url)\n",
    "    unpacked = unpack_json(r.text)\n",
    "    realm_names = []\n",
    "    realm_ids = []\n",
    "    realm_slugs = []\n",
    "    for realm in unpacked ['realms']:\n",
    "        realm_names.append(realm['name'])\n",
    "        realm_ids.append(realm['id'])\n",
    "        realm_slugs.append(realm['slug'])\n",
    "    return realm_names, realm_ids, realm_slugs\n",
    "\n",
    "realm_names,realm_ids,slugs = get_wow_realms_list (namespace, locale)\n",
    "for i,slug in enumerate(slugs):\n",
    "    print(realm_ids[i], slug)"
   ]
  },
  {
   "cell_type": "markdown",
   "metadata": {},
   "source": [
    "## Mythic Dungeons\n",
    "This works really well for old seasons (period id <200) but BFA dungeon data does not include player roster. Only an id, a map, and dungeon name, so it's not useful anymore."
   ]
  },
  {
   "cell_type": "code",
   "execution_count": null,
   "metadata": {
    "scrolled": false
   },
   "outputs": [],
   "source": [
    "\n",
    "def get_mythic_dungeon_index (access_token):\n",
    "    url = 'https://us.api.blizzard.com/data/wow/mythic-keystone/dungeon/index?namespace=dynamic-us&locale=en_US&access_token=' + access_token\n",
    "    r = requests.get(url)\n",
    "    unpacked = unpack_json(r.text)\n",
    "    dungeon_ids = []\n",
    "    dungeon_names = []\n",
    "    for dungeon in unpacked['dungeons']:\n",
    "        dungeon_ids.append(dungeon['id'])\n",
    "        dungeon_names.append(dungeon['name'])\n",
    "    return dungeon_ids, dungeon_names\n",
    "    \n",
    "    \n",
    "def get_keystone_leaderboard (realm_id, period, dungeon_id, access_token):\n",
    "    df = pd.DataFrame()\n",
    "    url = 'https://us.api.blizzard.com/data/wow/connected-realm/' + str(realm_id) + '/mythic-leaderboard/'+ str(dungeon_id) + '/period/' + str(period) + '?namespace=dynamic-us&locale=en_US&access_token=' + access_token\n",
    "    r = requests.get(url)\n",
    "    try:\n",
    "        unpacked = unpack_json(r.text)\n",
    "        for leading_group in unpacked['leading_groups']:\n",
    "            for member in leading_group['members']:\n",
    "                row = dict(member_name = member['profile']['name'], member_id = member['profile']['id'], \n",
    "                      member_realm = member['profile']['realm']['slug'], member_realm_id = member['profile']['realm']['id'],\n",
    "                      member_faction = member['faction']['type'], member_specialization = member['specialization']['id'],\n",
    "                      realm_id = realm_id, period = period, \n",
    "                      ranking = leading_group['ranking'],duration = leading_group['duration'],\n",
    "                      completed_timestamp = leading_group['completed_timestamp'])\n",
    "                df = df.append(row, ignore_index = True)\n",
    "    except:\n",
    "        pass\n",
    "    df.to_csv('miracle.csv')\n",
    "    return df\n",
    "    \n",
    "def get_periods_per_season(season_id):\n",
    "    url = 'https://us.api.blizzard.com/data/wow/mythic-keystone/season/' \\\n",
    "          + str(season_id) + '?namespace=dynamic-us&locale=en_US&access_token=' + access_token\n",
    "    r = requests.get(url)\n",
    "    unpacked = unpack_json(r.text)\n",
    "    season_start = unpacked['start_timestamp']\n",
    "    season_end = unpacked['end_timestamp']\n",
    "    season_periods = []\n",
    "    for period in unpacked['periods']:\n",
    "        season_periods.append(period['id'])\n",
    "    return season_periods\n",
    "\n",
    "\n",
    "dungeon_ids, dungeon_names = get_mythic_dungeon_index(access_token)\n",
    "periods_per_season = get_periods_per_season(1)\n",
    "\n",
    "#for period in periods_per_season:\n",
    "#    for dungeon in dungeon_ids:\n",
    "#        for realm in realm_ids:\n",
    "#            period_leaderboard = get_keystone_leaderboard (realm, period, dungeon, access_token)\n"
   ]
  },
  {
   "cell_type": "markdown",
   "metadata": {},
   "source": [
    "## Build Leaderboard Datasets from Dataforazeroth.com"
   ]
  },
  {
   "cell_type": "code",
   "execution_count": null,
   "metadata": {},
   "outputs": [],
   "source": [
    "def dataforazeroth (dir_dataset):\n",
    "    date_cols = []\n",
    "    os.chdir(dir_dataset)\n",
    "    files = os.listdir()\n",
    "    csv_files = glob.glob('*.{}'.format('csv'))\n",
    "    df = pd.DataFrame()\n",
    "    for f in csv_files:\n",
    "        temp = pd.read_csv(f)\n",
    "        temp.columns = ['ranking','leaderboard','player','guild','realm','score']\n",
    "        temp.leaderboard = f.split('wow_')[1].split('.csv')[0]\n",
    "        df = df.append(temp[['ranking','leaderboard','player','guild','realm']], ignore_index=True)\n",
    "    df.to_csv('../dataforazeroth_complete_dataset.csv')\n",
    "    return df\n",
    "    \n",
    "dir_dataset = '/Users/haleyspeed/Docs/insight/datasets/dataforazeroth_datasets'\n",
    "dataforazeroth_set = dataforazeroth (dir_dataset)\n",
    "display(HTML(dataforazeroth_set.head().to_html()))"
   ]
  },
  {
   "cell_type": "markdown",
   "metadata": {},
   "source": [
    "## Get Guild Rosters from Leaderboards"
   ]
  },
  {
   "cell_type": "code",
   "execution_count": null,
   "metadata": {
    "scrolled": true
   },
   "outputs": [],
   "source": [
    "def get_guild_roster (realm, guild, access_token):\n",
    "    df = pd.DataFrame()\n",
    "    url = 'https://us.api.blizzard.com/data/wow/guild/'+ realm \\\n",
    "          + '/' + guild + '/roster?namespace=profile-us&locale=en_US&access_token=' + access_token\n",
    "    r = requests.get(url)\n",
    "    unpacked = unpack_json(r.text)\n",
    "    if r.status_code != 200:\n",
    "        return df\n",
    "    else:\n",
    "        try:\n",
    "            guild_faction = unpacked['guild']['faction']['name']\n",
    "            for member in unpacked['members']:\n",
    "                row = dict(player = member['character']['name'], id = member['character']['id'],\n",
    "                      realm = member['character']['realm']['slug'], realm_id = member['character']['realm']['id'],\n",
    "                      level = member['character']['level'], playable_class = member['character']['playable_class']['id'],\n",
    "                      playable_race = member['character']['playable_race']['id'], guild_rank = member['rank'],\n",
    "                      guild_name = guild, faction = guild_faction)\n",
    "                df = df.append(row, ignore_index = True)\n",
    "        except:\n",
    "            return df\n",
    "    return df\n",
    "\n",
    "roster = pd.DataFrame()\n",
    "realms = []\n",
    "guilds = []\n",
    "dfa_set = pd.read_csv('/Users/haleyspeed/Docs/insight/datasets/dataforazeroth_complete_dataset.csv')\n",
    "dfa_set['player_id'] = ''\n",
    "i = 4601\n",
    "print(os.getcwd())\n",
    "for row in dfa_set.iloc[4600:][:].itertuples():\n",
    "    try:\n",
    "        realm_slug = row.realm.replace('US-', '').replace(\"'\",'').replace(' ', '-').lower()\n",
    "        player_slug = row.player.lower()\n",
    "        dfa_set.at[i,'player_id'] = player_slug + '-' + realm_slug\n",
    "        print(i, end = ' ')\n",
    "        if isinstance(row.guild, float): \n",
    "            continue\n",
    "        if row.realm in realms and row.guild in guilds:\n",
    "            continue\n",
    "        guild_slug = row.guild.replace(' ','-').lower()\n",
    "        realms.append(realm_slug)\n",
    "        guilds.append(guild_slug)\n",
    "        roster = roster.append(get_guild_roster (realm_slug, guild_slug, access_token), ignore_index = True)\n",
    "        if i % 100 == 0: # Every 100 guilds, dump the data into a file \n",
    "            roster.to_csv('wow_roster' + str(i) + '.csv')\n",
    "            roster = pd.DataFrame()  # clear memory by resetting the dataframe to empty\n",
    "        i = i + 1\n",
    "    except:\n",
    "        continue\n"
   ]
  },
  {
   "cell_type": "code",
   "execution_count": null,
   "metadata": {},
   "outputs": [],
   "source": []
  },
  {
   "cell_type": "markdown",
   "metadata": {},
   "source": [
    "## Get Profiles from Leaderboards"
   ]
  },
  {
   "cell_type": "code",
   "execution_count": null,
   "metadata": {},
   "outputs": [],
   "source": [
    "def get_wow_profile (realm, player, token):\n",
    "    url = 'https://us.api.blizzard.com/profile/wow/character/' + realm \\\n",
    "          + '/' + player + '?namespace=profile-us&locale=en_US&access_token=' + access_token\n",
    "    r = requests.get(url)\n",
    "    unpacked = unpack_json(r.text)\n",
    "    row = dict(id = unpacked['id'], name = unpacked['name'], gender = unpacked['gender']['name'],\n",
    "          faction = unpacked['faction']['name'], race = unpacked['race']['name'],\n",
    "          character_class = unpacked['character_class']['name'],\n",
    "          active_spec = unpacked['active_spec']['name'], realm = unpacked['realm']['slug'],\n",
    "          guild = unpacked['guild']['name'], level = unpacked['level'],\n",
    "          achievement_points = unpacked['achievement_points'],\n",
    "          last_login = unpacked['last_login_timestamp'],\n",
    "          average_item_level = unpacked['average_item_level'],\n",
    "          equipped_item_level = unpacked['equipped_item_level'])\n",
    "    return row\n",
    "\n"
   ]
  },
  {
   "cell_type": "code",
   "execution_count": null,
   "metadata": {},
   "outputs": [],
   "source": [
    "print (600 %200)"
   ]
  },
  {
   "cell_type": "code",
   "execution_count": null,
   "metadata": {},
   "outputs": [],
   "source": []
  },
  {
   "cell_type": "code",
   "execution_count": null,
   "metadata": {},
   "outputs": [],
   "source": []
  }
 ],
 "metadata": {
  "kernelspec": {
   "display_name": "ins_env",
   "language": "python",
   "name": "ins_env"
  },
  "language_info": {
   "codemirror_mode": {
    "name": "ipython",
    "version": 3
   },
   "file_extension": ".py",
   "mimetype": "text/x-python",
   "name": "python",
   "nbconvert_exporter": "python",
   "pygments_lexer": "ipython3",
   "version": "3.7.7"
  }
 },
 "nbformat": 4,
 "nbformat_minor": 4
}

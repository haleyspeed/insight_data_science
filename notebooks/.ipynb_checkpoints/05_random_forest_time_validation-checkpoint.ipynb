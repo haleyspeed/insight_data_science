{
 "cells": [
  {
   "cell_type": "markdown",
   "metadata": {},
   "source": [
    "# Random Forest Classifier For Time Series"
   ]
  },
  {
   "cell_type": "markdown",
   "metadata": {},
   "source": [
    "A second time series dataset collected two weeks after the original test and train sets using the same acquisition and processing pipeline."
   ]
  },
  {
   "cell_type": "markdown",
   "metadata": {},
   "source": [
    "## Dependencies and Defaults"
   ]
  },
  {
   "cell_type": "code",
   "execution_count": 14,
   "metadata": {},
   "outputs": [],
   "source": [
    "import subscript.config as cn\n",
    "import os\n",
    "from sklearn.ensemble import RandomForestClassifier\n",
    "from sklearn.datasets import make_classification\n",
    "from sklearn import preprocessing\n",
    "from sklearn.model_selection import ShuffleSplit\n",
    "from sklearn.model_selection import StratifiedShuffleSplit\n",
    "from sklearn import metrics\n",
    "import matplotlib.pyplot as plt\n",
    "import seaborn as sns\n",
    "import pickle\n",
    "from IPython.display import HTML\n",
    "import pandas as pd\n",
    "import numpy as np\n",
    "import joblib"
   ]
  },
  {
   "cell_type": "markdown",
   "metadata": {},
   "source": [
    "## Read in the clean time series dataset"
   ]
  },
  {
   "cell_type": "code",
   "execution_count": 30,
   "metadata": {},
   "outputs": [],
   "source": [
    "df = pd.read_csv(os.path.join(cn.clean_dir,'random_forest_time',\n",
    "        'validation', 'validation_final_time_stats.csv'),dtype = 'unicode')\n",
    "df = df.drop_duplicates()\n",
    "df = df.fillna(0)\n",
    "train_set = pd.read_csv(os.path.join(cn.clean_dir,'random_forest_time',\n",
    "        'validation','time_stratified_train.csv'))\n",
    "train_set = train_set.drop_duplicates()\n",
    "train_set = train_set.fillna(0)\n",
    "test_set = pd.read_csv(os.path.join(cn.clean_dir,'random_forest_time',\n",
    "        'validation','time_stratified_test.csv'))\n"
   ]
  },
  {
   "cell_type": "markdown",
   "metadata": {},
   "source": [
    "## Prepare training and test sets"
   ]
  },
  {
   "cell_type": "code",
   "execution_count": 31,
   "metadata": {},
   "outputs": [
    {
     "name": "stdout",
     "output_type": "stream",
     "text": [
      "(108315, 75) (36182, 75)\n"
     ]
    }
   ],
   "source": [
    "test_set = test_set.drop_duplicates()\n",
    "test_set = test_set.fillna(0)\n",
    "\n",
    "y_train = train_set.engagement\n",
    "X_train = train_set.drop('engagement',axis = 1)\n",
    "y_test = test_set.engagement\n",
    "X_test = test_set.drop('engagement',axis = 1)\n",
    "\n",
    "print(X_train.shape, X_test.shape)"
   ]
  },
  {
   "cell_type": "markdown",
   "metadata": {},
   "source": [
    "## Fit the timeseries data"
   ]
  },
  {
   "cell_type": "code",
   "execution_count": 4,
   "metadata": {},
   "outputs": [
    {
     "data": {
      "text/plain": [
       "RandomForestClassifier(class_weight={0: 0.9, 1: 1.23, 2: 5.46},\n",
       "                       n_estimators=300, oob_score=True, random_state=17)"
      ]
     },
     "execution_count": 4,
     "metadata": {},
     "output_type": "execute_result"
    }
   ],
   "source": [
    "# Option for running the classifier without class weights\n",
    "#selected = RandomForestClassifier(n_estimators = 200,n_jobs = -1,\n",
    "#            oob_score = True,bootstrap = True,random_state = 17)\n",
    "\n",
    "\n",
    "# Option for running the classifier with class weights\n",
    "class_weight = dict({0:.9, 1:1.23, 2:5.46})\n",
    "selected = RandomForestClassifier(bootstrap=True,\n",
    "            class_weight=class_weight, n_estimators=300,\n",
    "            oob_score=True,random_state=17)\n",
    "selected.fit(X_train, y_train)"
   ]
  },
  {
   "cell_type": "markdown",
   "metadata": {},
   "source": [
    "## Make Predictions"
   ]
  },
  {
   "cell_type": "code",
   "execution_count": 5,
   "metadata": {},
   "outputs": [
    {
     "data": {
      "text/html": [
       "<div>\n",
       "<style scoped>\n",
       "    .dataframe tbody tr th:only-of-type {\n",
       "        vertical-align: middle;\n",
       "    }\n",
       "\n",
       "    .dataframe tbody tr th {\n",
       "        vertical-align: top;\n",
       "    }\n",
       "\n",
       "    .dataframe thead th {\n",
       "        text-align: right;\n",
       "    }\n",
       "</style>\n",
       "<table border=\"1\" class=\"dataframe\">\n",
       "  <thead>\n",
       "    <tr style=\"text-align: right;\">\n",
       "      <th></th>\n",
       "      <th>gear_score</th>\n",
       "      <th>2015-01</th>\n",
       "      <th>2016-01</th>\n",
       "      <th>2017-01</th>\n",
       "      <th>2018-01</th>\n",
       "      <th>2019-01</th>\n",
       "      <th>2020-01</th>\n",
       "      <th>2015-02</th>\n",
       "      <th>2016-02</th>\n",
       "      <th>2017-02</th>\n",
       "      <th>...</th>\n",
       "      <th>2018-11</th>\n",
       "      <th>2019-11</th>\n",
       "      <th>2014-12</th>\n",
       "      <th>2015-12</th>\n",
       "      <th>2016-12</th>\n",
       "      <th>2017-12</th>\n",
       "      <th>2018-12</th>\n",
       "      <th>2019-12</th>\n",
       "      <th>prediction</th>\n",
       "      <th>actual</th>\n",
       "    </tr>\n",
       "  </thead>\n",
       "  <tbody>\n",
       "    <tr>\n",
       "      <th>0</th>\n",
       "      <td>378.0</td>\n",
       "      <td>3.0</td>\n",
       "      <td>0.0</td>\n",
       "      <td>2.0</td>\n",
       "      <td>0.0</td>\n",
       "      <td>8.0</td>\n",
       "      <td>6.0</td>\n",
       "      <td>0.0</td>\n",
       "      <td>1.0</td>\n",
       "      <td>1.0</td>\n",
       "      <td>...</td>\n",
       "      <td>2.0</td>\n",
       "      <td>2.0</td>\n",
       "      <td>2.0</td>\n",
       "      <td>2.0</td>\n",
       "      <td>5.0</td>\n",
       "      <td>1.0</td>\n",
       "      <td>1.0</td>\n",
       "      <td>4.0</td>\n",
       "      <td>0.0</td>\n",
       "      <td>0.0</td>\n",
       "    </tr>\n",
       "    <tr>\n",
       "      <th>1</th>\n",
       "      <td>443.0</td>\n",
       "      <td>1.0</td>\n",
       "      <td>0.0</td>\n",
       "      <td>0.0</td>\n",
       "      <td>2.0</td>\n",
       "      <td>0.0</td>\n",
       "      <td>0.0</td>\n",
       "      <td>5.0</td>\n",
       "      <td>1.0</td>\n",
       "      <td>0.0</td>\n",
       "      <td>...</td>\n",
       "      <td>2.0</td>\n",
       "      <td>5.0</td>\n",
       "      <td>4.0</td>\n",
       "      <td>3.0</td>\n",
       "      <td>1.0</td>\n",
       "      <td>0.0</td>\n",
       "      <td>3.0</td>\n",
       "      <td>1.0</td>\n",
       "      <td>0.0</td>\n",
       "      <td>0.0</td>\n",
       "    </tr>\n",
       "    <tr>\n",
       "      <th>2</th>\n",
       "      <td>330.0</td>\n",
       "      <td>1.0</td>\n",
       "      <td>0.0</td>\n",
       "      <td>0.0</td>\n",
       "      <td>1.0</td>\n",
       "      <td>3.0</td>\n",
       "      <td>1.0</td>\n",
       "      <td>1.0</td>\n",
       "      <td>0.0</td>\n",
       "      <td>0.0</td>\n",
       "      <td>...</td>\n",
       "      <td>3.0</td>\n",
       "      <td>1.0</td>\n",
       "      <td>1.0</td>\n",
       "      <td>1.0</td>\n",
       "      <td>1.0</td>\n",
       "      <td>0.0</td>\n",
       "      <td>7.0</td>\n",
       "      <td>3.0</td>\n",
       "      <td>1.0</td>\n",
       "      <td>1.0</td>\n",
       "    </tr>\n",
       "    <tr>\n",
       "      <th>3</th>\n",
       "      <td>254.0</td>\n",
       "      <td>1.0</td>\n",
       "      <td>0.0</td>\n",
       "      <td>1.0</td>\n",
       "      <td>4.0</td>\n",
       "      <td>3.0</td>\n",
       "      <td>8.0</td>\n",
       "      <td>1.0</td>\n",
       "      <td>1.0</td>\n",
       "      <td>0.0</td>\n",
       "      <td>...</td>\n",
       "      <td>5.0</td>\n",
       "      <td>1.0</td>\n",
       "      <td>4.0</td>\n",
       "      <td>3.0</td>\n",
       "      <td>1.0</td>\n",
       "      <td>0.0</td>\n",
       "      <td>3.0</td>\n",
       "      <td>0.0</td>\n",
       "      <td>0.0</td>\n",
       "      <td>1.0</td>\n",
       "    </tr>\n",
       "    <tr>\n",
       "      <th>4</th>\n",
       "      <td>475.0</td>\n",
       "      <td>9.0</td>\n",
       "      <td>2.0</td>\n",
       "      <td>17.0</td>\n",
       "      <td>2.0</td>\n",
       "      <td>0.0</td>\n",
       "      <td>25.0</td>\n",
       "      <td>5.0</td>\n",
       "      <td>3.0</td>\n",
       "      <td>2.0</td>\n",
       "      <td>...</td>\n",
       "      <td>0.0</td>\n",
       "      <td>25.0</td>\n",
       "      <td>30.0</td>\n",
       "      <td>1.0</td>\n",
       "      <td>29.0</td>\n",
       "      <td>7.0</td>\n",
       "      <td>5.0</td>\n",
       "      <td>20.0</td>\n",
       "      <td>0.0</td>\n",
       "      <td>0.0</td>\n",
       "    </tr>\n",
       "  </tbody>\n",
       "</table>\n",
       "<p>5 rows × 77 columns</p>\n",
       "</div>"
      ],
      "text/plain": [
       "   gear_score  2015-01  2016-01  2017-01  2018-01  2019-01  2020-01  2015-02  \\\n",
       "0       378.0      3.0      0.0      2.0      0.0      8.0      6.0      0.0   \n",
       "1       443.0      1.0      0.0      0.0      2.0      0.0      0.0      5.0   \n",
       "2       330.0      1.0      0.0      0.0      1.0      3.0      1.0      1.0   \n",
       "3       254.0      1.0      0.0      1.0      4.0      3.0      8.0      1.0   \n",
       "4       475.0      9.0      2.0     17.0      2.0      0.0     25.0      5.0   \n",
       "\n",
       "   2016-02  2017-02  ...  2018-11  2019-11  2014-12  2015-12  2016-12  \\\n",
       "0      1.0      1.0  ...      2.0      2.0      2.0      2.0      5.0   \n",
       "1      1.0      0.0  ...      2.0      5.0      4.0      3.0      1.0   \n",
       "2      0.0      0.0  ...      3.0      1.0      1.0      1.0      1.0   \n",
       "3      1.0      0.0  ...      5.0      1.0      4.0      3.0      1.0   \n",
       "4      3.0      2.0  ...      0.0     25.0     30.0      1.0     29.0   \n",
       "\n",
       "   2017-12  2018-12  2019-12  prediction  actual  \n",
       "0      1.0      1.0      4.0         0.0     0.0  \n",
       "1      0.0      3.0      1.0         0.0     0.0  \n",
       "2      0.0      7.0      3.0         1.0     1.0  \n",
       "3      0.0      3.0      0.0         0.0     1.0  \n",
       "4      7.0      5.0     20.0         0.0     0.0  \n",
       "\n",
       "[5 rows x 77 columns]"
      ]
     },
     "execution_count": 5,
     "metadata": {},
     "output_type": "execute_result"
    }
   ],
   "source": [
    "predictions = selected.predict(X_test)\n",
    "df_pred = pd.DataFrame(X_test)\n",
    "df_pred['prediction'] = predictions\n",
    "df_pred['actual'] = y_test\n",
    "df_pred.to_csv(os.path.join(cn.clean_dir, \n",
    "        'random_forest_time','validation',\n",
    "        'final_time_predictions_demo.csv'), \n",
    "        index = False)\n",
    "df_pred.head()"
   ]
  },
  {
   "cell_type": "markdown",
   "metadata": {},
   "source": [
    "## Get accuracy score"
   ]
  },
  {
   "cell_type": "code",
   "execution_count": 6,
   "metadata": {},
   "outputs": [
    {
     "name": "stdout",
     "output_type": "stream",
     "text": [
      "0.9999907676683747\n"
     ]
    }
   ],
   "source": [
    "print(selected.score(X_train,y_train))"
   ]
  },
  {
   "cell_type": "markdown",
   "metadata": {},
   "source": [
    "## Get out of bag score"
   ]
  },
  {
   "cell_type": "code",
   "execution_count": 7,
   "metadata": {},
   "outputs": [
    {
     "name": "stdout",
     "output_type": "stream",
     "text": [
      "Oob score...\n",
      "0.8071550570096477\n"
     ]
    }
   ],
   "source": [
    "print('Oob score...')\n",
    "print(selected.oob_score_)"
   ]
  },
  {
   "cell_type": "markdown",
   "metadata": {},
   "source": [
    "## Calculate the confusion matrix"
   ]
  },
  {
   "cell_type": "code",
   "execution_count": 8,
   "metadata": {},
   "outputs": [
    {
     "name": "stdout",
     "output_type": "stream",
     "text": [
      "[[24075   794     9]\n",
      " [ 4977  4757    21]\n",
      " [  644   559   346]]\n"
     ]
    }
   ],
   "source": [
    "cnf_matrix = metrics.confusion_matrix(y_test,predictions)\n",
    "print(cnf_matrix)"
   ]
  },
  {
   "cell_type": "markdown",
   "metadata": {},
   "source": [
    "## Print the precision, recall, and accuracy"
   ]
  },
  {
   "cell_type": "code",
   "execution_count": 9,
   "metadata": {},
   "outputs": [
    {
     "name": "stdout",
     "output_type": "stream",
     "text": [
      "              precision    recall  f1-score   support\n",
      "\n",
      "         0.0      0.811     0.968     0.882     24878\n",
      "         1.0      0.779     0.488     0.600      9755\n",
      "         2.0      0.920     0.223     0.359      1549\n",
      "\n",
      "    accuracy                          0.806     36182\n",
      "   macro avg      0.836     0.560     0.614     36182\n",
      "weighted avg      0.807     0.806     0.784     36182\n",
      "\n"
     ]
    }
   ],
   "source": [
    "met = metrics.classification_report(y_test, predictions, digits=3)\n",
    "folder = os.path.join(cn.clean_dir, 'random_forest_time','validation')\n",
    "f_name = 'metrics_time_balanced_metrics.csv'\n",
    "print(met)"
   ]
  },
  {
   "cell_type": "markdown",
   "metadata": {},
   "source": [
    "## Plot the confusion matriix"
   ]
  },
  {
   "cell_type": "code",
   "execution_count": 10,
   "metadata": {},
   "outputs": [
    {
     "data": {
      "image/png": "[encoded data removed]",
      "text/plain": [
       "<Figure size 576x576 with 2 Axes>"
      ]
     },
     "metadata": {
      "needs_background": "light"
     },
     "output_type": "display_data"
    }
   ],
   "source": [
    "fig2, ax = plt.subplots(figsize = (8,8))\n",
    "sns.heatmap(pd.DataFrame(cnf_matrix), annot = True, cmap = 'viridis', fmt = 'g', annot_kws={\"size\":16})\n",
    "ax.set_xlabel (\"Predicted Value\", fontsize = 18)\n",
    "ax.set_ylabel (\"Actual Value\", fontsize = 18)\n",
    "ax.tick_params (labelsize = 14)\n",
    "plt.tight_layout()\n",
    "fig2.savefig(os.path.join(cn.clean_dir, 'random_forest_time',\n",
    "        'validation','cnfmatrix_time_balanced.png'), dpi=180)"
   ]
  },
  {
   "cell_type": "markdown",
   "metadata": {},
   "source": [
    "## Save the model"
   ]
  },
  {
   "cell_type": "code",
   "execution_count": 11,
   "metadata": {},
   "outputs": [],
   "source": [
    "# save the model to disk\n",
    "pickle_name = 'validation_final_time_model.sav'\n",
    "os.chdir(os.path.join(cn.clean_dir,'random_forest_time','validation',))\n",
    "with open(pickle_name, 'wb') as file:\n",
    "    pickle.dump(selected, file)\n",
    "plt.show()"
   ]
  },
  {
   "cell_type": "markdown",
   "metadata": {},
   "source": [
    "## Get importances (years-months)"
   ]
  },
  {
   "cell_type": "code",
   "execution_count": 12,
   "metadata": {},
   "outputs": [
    {
     "name": "stdout",
     "output_type": "stream",
     "text": [
      "Important Features...\n",
      "0 2014-05\n",
      "1 2014-07\n",
      "2 2014-06\n",
      "3 2014-09\n",
      "4 2014-04\n",
      "5 2014-08\n",
      "6 2015-10\n",
      "7 2016-04\n",
      "8 2016-05\n",
      "9 2016-03\n",
      "10 2015-05\n",
      "11 2016-06\n",
      "12 2015-09\n",
      "13 2015-04\n",
      "14 2016-02\n",
      "15 2017-03\n",
      "16 2017-02\n",
      "17 2014-10\n",
      "18 2015-08\n",
      "19 2015-03\n",
      "20 2015-06\n",
      "21 2015-11\n",
      "22 2015-02\n",
      "23 2016-01\n",
      "24 2017-07\n"
     ]
    }
   ],
   "source": [
    "print(\"Important Features...\")\n",
    "importances = selected.feature_importances_\n",
    "indices = np.argsort(importances)\n",
    "important_features = X_train.columns.values[indices]\n",
    "for i, v in enumerate(important_features[:25]):\n",
    "    print(i,v)"
   ]
  },
  {
   "cell_type": "markdown",
   "metadata": {},
   "source": [
    "### **Subscriber loyalty is the primary determinant of future engagement.**"
   ]
  },
  {
   "cell_type": "markdown",
   "metadata": {},
   "source": [
    "This is very similar to what I saw in the original test and training set. The longer a subscriber has been active, the more likely they are to be active in the future, so this company should invest heavily in their existing player base, maybe moreso than than at gaining new users."
   ]
  },
  {
   "cell_type": "markdown",
   "metadata": {},
   "source": [
    "# Test entire validation set against the original model"
   ]
  },
  {
   "cell_type": "markdown",
   "metadata": {},
   "source": [
    "## Load the original model"
   ]
  },
  {
   "cell_type": "code",
   "execution_count": 40,
   "metadata": {},
   "outputs": [],
   "source": [
    "original_model = joblib.load(os.path.join(cn.clean_dir,\n",
    "        'random_forest_time', 'final_time_model.sav'))"
   ]
  },
  {
   "cell_type": "markdown",
   "metadata": {},
   "source": [
    "## Prepare the full validation set"
   ]
  },
  {
   "cell_type": "code",
   "execution_count": 44,
   "metadata": {
    "scrolled": false
   },
   "outputs": [
    {
     "name": "stdout",
     "output_type": "stream",
     "text": [
      "(144497, 75) (144497,)\n"
     ]
    }
   ],
   "source": [
    "y_val = y_train.append(y_test)\n",
    "X_val = X_train.append(X_test, ignore_index = True)\n",
    "print(X_val.shape,y_val.shape)"
   ]
  },
  {
   "cell_type": "markdown",
   "metadata": {},
   "source": [
    "## Make Predictions"
   ]
  },
  {
   "cell_type": "code",
   "execution_count": 45,
   "metadata": {},
   "outputs": [],
   "source": [
    "predictions = original_model.predict(X_val)\n",
    "#df_val = pd.DataFrame(X_val)\n",
    "#df_val['prediction'] = predictions\n",
    "#df_val['actual'] = y_val\n",
    "#df_val.to_csv(os.path.join(cn.clean_dir, \n",
    "#        'random_forest_time','validation',\n",
    " #       'final_time_predictions_original_model.csv'), \n",
    " #       index = False)\n",
    "#df_val.head()"
   ]
  },
  {
   "cell_type": "markdown",
   "metadata": {},
   "source": [
    "## Get accuracy score"
   ]
  },
  {
   "cell_type": "code",
   "execution_count": 46,
   "metadata": {},
   "outputs": [
    {
     "name": "stdout",
     "output_type": "stream",
     "text": [
      "0.906800833235292\n"
     ]
    }
   ],
   "source": [
    "print(original_model.score(X_val,y_val))"
   ]
  },
  {
   "cell_type": "markdown",
   "metadata": {},
   "source": [
    "## Get out-of-bag score"
   ]
  },
  {
   "cell_type": "code",
   "execution_count": 47,
   "metadata": {},
   "outputs": [
    {
     "name": "stdout",
     "output_type": "stream",
     "text": [
      "True\n"
     ]
    }
   ],
   "source": [
    "print(original_model.oob_score)"
   ]
  },
  {
   "cell_type": "markdown",
   "metadata": {},
   "source": [
    "## Print the precision, recall, and accuracy"
   ]
  },
  {
   "cell_type": "code",
   "execution_count": 53,
   "metadata": {},
   "outputs": [
    {
     "name": "stdout",
     "output_type": "stream",
     "text": [
      "              precision    recall  f1-score   support\n",
      "\n",
      "         0.0      0.911     0.970     0.940     99280\n",
      "         1.0      0.884     0.788     0.833     39019\n",
      "         2.0      0.984     0.646     0.780      6198\n",
      "\n",
      "    accuracy                          0.907    144497\n",
      "   macro avg      0.926     0.801     0.851    144497\n",
      "weighted avg      0.907     0.907     0.904    144497\n",
      "\n"
     ]
    }
   ],
   "source": [
    "met = metrics.classification_report(y_val, predictions, digits=3)\n",
    "folder = os.path.join(cn.clean_dir, 'random_forest_time','validation')\n",
    "f_name = 'metrics_time_balanced_metrics.csv'\n",
    "print(met)"
   ]
  },
  {
   "cell_type": "markdown",
   "metadata": {},
   "source": [
    "## Calculate the confusion matrix"
   ]
  },
  {
   "cell_type": "code",
   "execution_count": 49,
   "metadata": {},
   "outputs": [
    {
     "name": "stdout",
     "output_type": "stream",
     "text": [
      "[[96287  2945    48]\n",
      " [ 8263 30739    17]\n",
      " [ 1087  1107  4004]]\n"
     ]
    }
   ],
   "source": [
    "val_cnf_matrix = metrics.confusion_matrix(y_val,predictions)\n",
    "print(val_cnf_matrix)"
   ]
  },
  {
   "cell_type": "markdown",
   "metadata": {},
   "source": [
    "## Plot the confusion matrix"
   ]
  },
  {
   "cell_type": "code",
   "execution_count": 50,
   "metadata": {},
   "outputs": [
    {
     "data": {
      "image/png": "[encoded data removed]",
      "text/plain": [
       "<Figure size 576x576 with 2 Axes>"
      ]
     },
     "metadata": {
      "needs_background": "light"
     },
     "output_type": "display_data"
    }
   ],
   "source": [
    "fig2, ax = plt.subplots(figsize = (8,8))\n",
    "sns.heatmap(pd.DataFrame(val_cnf_matrix), annot = True, cmap = 'viridis', fmt = 'g', annot_kws={\"size\":16})\n",
    "ax.set_xlabel (\"Predicted Value\", fontsize = 18)\n",
    "ax.set_ylabel (\"Actual Value\", fontsize = 18)\n",
    "ax.tick_params (labelsize = 14)\n",
    "plt.tight_layout()\n",
    "fig2.savefig(os.path.join(cn.clean_dir, 'random_forest_time',\n",
    "        'validation','cnfmatrix_time_balanced_original_model.png'), dpi=180)"
   ]
  },
  {
   "cell_type": "markdown",
   "metadata": {},
   "source": [
    "## Get importances"
   ]
  },
  {
   "cell_type": "code",
   "execution_count": 51,
   "metadata": {},
   "outputs": [
    {
     "name": "stdout",
     "output_type": "stream",
     "text": [
      "0 2014-05\n",
      "1 2014-07\n",
      "2 2014-06\n",
      "3 2014-09\n",
      "4 2014-04\n",
      "5 2014-08\n",
      "6 2015-10\n",
      "7 2016-04\n",
      "8 2016-05\n",
      "9 2016-03\n",
      "10 2015-05\n",
      "11 2016-06\n",
      "12 2015-09\n",
      "13 2015-04\n",
      "14 2016-02\n",
      "15 2017-03\n",
      "16 2017-02\n",
      "17 2014-10\n",
      "18 2015-08\n",
      "19 2015-03\n",
      "20 2015-06\n",
      "21 2015-11\n",
      "22 2015-02\n",
      "23 2016-01\n",
      "24 2017-07\n"
     ]
    }
   ],
   "source": [
    "importances = selected.feature_importances_\n",
    "indices = np.argsort(importances)\n",
    "important_features = X_train.columns.values[indices]\n",
    "for i, v in enumerate(important_features[:25]):\n",
    "    print(i,v)"
   ]
  },
  {
   "cell_type": "markdown",
   "metadata": {},
   "source": [
    "## Summary"
   ]
  },
  {
   "cell_type": "markdown",
   "metadata": {},
   "source": [
    "The original model performs even better on the new validation set, indicating the robustness of the random forest classifier for predicting player engagement. Similarly, the longer the player has been active in the game, the more likely they are to remain a loyal. subscriber. "
   ]
  },
  {
   "cell_type": "code",
   "execution_count": null,
   "metadata": {},
   "outputs": [],
   "source": []
  }
 ],
 "metadata": {
  "kernelspec": {
   "display_name": "ins_env",
   "language": "python",
   "name": "ins_env"
  },
  "language_info": {
   "codemirror_mode": {
    "name": "ipython",
    "version": 3
   },
   "file_extension": ".py",
   "mimetype": "text/x-python",
   "name": "python",
   "nbconvert_exporter": "python",
   "pygments_lexer": "ipython3",
   "version": "3.7.7"
  }
 },
 "nbformat": 4,
 "nbformat_minor": 4
}

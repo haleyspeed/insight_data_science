{
 "cells": [
  {
   "cell_type": "markdown",
   "metadata": {},
   "source": [
    "# Subscript MySQL Manager\n",
    "A collection of tools for maintaining the SubScript database hosted on my n-coding.net website."
   ]
  },
  {
   "cell_type": "code",
   "execution_count": 1,
   "metadata": {},
   "outputs": [
    {
     "name": "stderr",
     "output_type": "stream",
     "text": [
      "/Users/haleyspeed/Docs/insight/ins_env/lib/python3.7/site-packages/sklearn/utils/deprecation.py:143: FutureWarning: The sklearn.ensemble.forest module is  deprecated in version 0.22 and will be removed in version 0.24. The corresponding classes / functions should instead be imported from sklearn.ensemble. Anything that cannot be imported from sklearn.ensemble is now part of the private API.\n",
      "  warnings.warn(message, FutureWarning)\n"
     ]
    }
   ],
   "source": [
    "import mysql.connector\n",
    "from mysql.connector import errorcode\n",
    "import configparser\n",
    "import pandas as pd\n",
    "import os\n",
    "import subscript.config as cn\n",
    "from subscript.custom_funcs import create_database, create_table, locate_database \n",
    "import numpy as np"
   ]
  },
  {
   "cell_type": "markdown",
   "metadata": {},
   "source": [
    "## Configure database connections"
   ]
  },
  {
   "cell_type": "code",
   "execution_count": 2,
   "metadata": {},
   "outputs": [],
   "source": [
    "config = configparser.ConfigParser()\n",
    "config.read('../config.ini')\n",
    "DB_NAME = config.get('connections', 'db_name')\n",
    "USER_NAME = config.get('connections', 'db_user')\n",
    "PWD = config.get('connections', 'db_pwd')\n",
    "HOST_NAME = config.get('connections','db_host')\n",
    "PORT = config.get('connections', 'db_port')"
   ]
  },
  {
   "cell_type": "markdown",
   "metadata": {},
   "source": [
    "## Connect to database"
   ]
  },
  {
   "cell_type": "code",
   "execution_count": 4,
   "metadata": {},
   "outputs": [],
   "source": [
    "def connect():\n",
    "    cnx = mysql.connector.connect(user = USER_NAME,\n",
    "    password = PWD, host = HOST_NAME, database = DB_NAME,\n",
    "    port = PORT)\n",
    "    cursor = cnx.cursor(buffered = True)\n",
    "    locate_database(cursor, DB_NAME)\n",
    "    return cnx, cursor"
   ]
  },
  {
   "cell_type": "markdown",
   "metadata": {},
   "source": [
    "## Final_time_stats table"
   ]
  },
  {
   "cell_type": "markdown",
   "metadata": {},
   "source": [
    "#### Create final_time_stats table"
   ]
  },
  {
   "cell_type": "code",
   "execution_count": null,
   "metadata": {},
   "outputs": [],
   "source": [
    "csv = pd.read_csv(os.path.join(cn.clean_dir, 'random_forest_time', 'final_time_stats.csv'), dtype = 'unicode')\n",
    "\n",
    "# Make ID column from player name and realm\n",
    "csv['id'] = csv.player + '-' + csv.realm\n",
    "\n",
    "# Get fields from the column names of the csv and replace any '-' for '_' for compatibility\n",
    "fields = sorted([c.replace('-','_') for c in csv.columns.values if 'Unnamed' not in c], reverse = True)\n",
    "sizes = ['varchar(100)']*len(csv.columns)\n",
    "\n",
    "sql = \"CREATE TABLE final_time_stats (\"\n",
    "i = 0\n",
    "for field in fields:\n",
    "    if i == 0:\n",
    "        sql = sql + field + ' ' + sizes[i]\n",
    "    elif '20' not in field:\n",
    "         sql = sql + ', ' + field + ' ' + sizes[i]\n",
    "    elif '20' in field: \n",
    "        # Fields can't have dashes or start with a number, so add an a for compatibility\n",
    "        sql = sql + ', ' + 'a' + field + ' ' + sizes[i]\n",
    "    i = i + 1\n",
    "sql = sql + ') engine=innodb default charset=utf8;'\n",
    "\n",
    "print (len(csv.columns))\n",
    "print(sql)\n",
    "cnx, cursor = connect()\n",
    "#cursor.execute(sql)  # Remove '#' if I need to make the table again\n",
    "cnx.commit()"
   ]
  },
  {
   "cell_type": "markdown",
   "metadata": {},
   "source": [
    "#### Add records to the final_time_stats table"
   ]
  },
  {
   "cell_type": "code",
   "execution_count": null,
   "metadata": {},
   "outputs": [],
   "source": [
    "csv = pd.read_csv(os.path.join(cn.clean_dir, 'random_forest_time', 'final_time_stats.csv'), dtype = 'unicode')\n",
    "\n",
    "# Make ID column from player name and realm\n",
    "csv['id'] = csv.player + '-' + csv.realm\n",
    "\n",
    "# Get fields from the column names of the csv and replace any '-' for '_' for compatibility\n",
    "cols = sorted([c for c in csv.columns.values if 'Unnamed' not in c], reverse = True)\n",
    "player_fields = [c for c in cols if '20' not in c]\n",
    "raw_date_fields = [c for c in cols if '20' in c]\n",
    "date_fields = ['a' + c.replace('-','_') for c in cols if '20' in c]\n",
    "raw_fields = player_fields + raw_date_fields\n",
    "sql_fields = player_fields + date_fields\n",
    "print(len(raw_fields), len(sql_fields))"
   ]
  },
  {
   "cell_type": "markdown",
   "metadata": {},
   "source": [
    "#### Insert records into the final_time_stats table"
   ]
  },
  {
   "cell_type": "code",
   "execution_count": null,
   "metadata": {
    "scrolled": false
   },
   "outputs": [],
   "source": [
    "cnx, cursor = connect()\n",
    "for index, row in csv[153202:].iterrows():\n",
    "    values =  row[raw_fields]\n",
    "    values = [str(v) for v in values]\n",
    "    sql = \"INSERT INTO final_time_stats (\" + str(sql_fields).replace('[', '').replace(']','').replace(\"'\",'') + \") VALUES (\" + '%s,'*(len(sql_fields)-1) +  \"%s)\"\n",
    "    cursor.execute(sql, values)\n",
    "    cnx.commit()"
   ]
  },
  {
   "cell_type": "markdown",
   "metadata": {},
   "source": [
    "#### Fetch records from the final_time_stats table"
   ]
  },
  {
   "cell_type": "code",
   "execution_count": null,
   "metadata": {},
   "outputs": [],
   "source": [
    "cnx, cursor = connect()\n",
    "sql = \"SELECT * FROM final_time_stats WHERE realm = 'whisperwind' AND status = 'risk'\"\n",
    "cursor.execute(sql)\n",
    "search = cursor.fetchall()"
   ]
  },
  {
   "cell_type": "markdown",
   "metadata": {},
   "source": [
    "#### Display records from the final_time_stats table"
   ]
  },
  {
   "cell_type": "code",
   "execution_count": null,
   "metadata": {},
   "outputs": [],
   "source": [
    "df_search = pd.DataFrame(columns = raw_fields)\n",
    "for item in search:\n",
    "    tmp = pd.DataFrame(item)\n",
    "    tmp = tmp.T\n",
    "    tmp.columns = raw_fields\n",
    "    tmp.time_since_login = tmp.time_since_login.str.split('days')[0][0]\n",
    "    df_search = df_search.append(tmp, ignore_index = True)\n",
    "df_search.head()"
   ]
  },
  {
   "cell_type": "markdown",
   "metadata": {},
   "source": [
    "#### Drop Table if needed"
   ]
  },
  {
   "cell_type": "code",
   "execution_count": 12,
   "metadata": {},
   "outputs": [
    {
     "name": "stdout",
     "output_type": "stream",
     "text": [
      "Database haleygee_subscript  is active.\n"
     ]
    }
   ],
   "source": [
    "cnx, cursor = connect()\n",
    "#cursor.execute('DROP TABLE features')  # Remove '#' if I need to re-make the table again\n",
    "cnx.commit()"
   ]
  },
  {
   "cell_type": "markdown",
   "metadata": {},
   "source": [
    "## Create the achievement_list table"
   ]
  },
  {
   "cell_type": "code",
   "execution_count": 13,
   "metadata": {},
   "outputs": [
    {
     "name": "stdout",
     "output_type": "stream",
     "text": [
      "3\n",
      "CREATE TABLE features (name varchar(100), importance varchar(100), category varchar(100)) engine=innodb default charset=utf8;\n",
      "Database haleygee_subscript  is active.\n"
     ]
    }
   ],
   "source": [
    "csv = pd.read_csv(os.path.join(cn.clean_dir, 'random_forest_features', 'final_curated_recommendations.csv'), dtype = 'unicode')\n",
    "\n",
    "# Get fields from the column names of the csv and replace any '-' for '_' for compatibility\n",
    "fields = sorted([c.replace('-','_') for c in csv.columns.values if 'Unnamed' not in c], reverse = True)\n",
    "sizes = ['varchar(100)']*len(csv.columns)\n",
    "\n",
    "sql = \"CREATE TABLE features (\"\n",
    "i = 0\n",
    "for field in fields:\n",
    "    if i == 0:\n",
    "        sql = sql + field + ' ' + sizes[i]\n",
    "    else:\n",
    "         sql = sql + ', ' + field + ' ' + sizes[i]\n",
    "    i = i + 1\n",
    "sql = sql + ') engine=innodb default charset=utf8;'\n",
    "\n",
    "print (len(csv.columns))\n",
    "print(sql)\n",
    "cnx, cursor = connect()\n",
    "cursor.execute(sql)  # Remove '#' if I need to make the table again\n",
    "cnx.commit()"
   ]
  },
  {
   "cell_type": "markdown",
   "metadata": {},
   "source": [
    "#### Add records to the features table"
   ]
  },
  {
   "cell_type": "code",
   "execution_count": null,
   "metadata": {},
   "outputs": [
    {
     "name": "stdout",
     "output_type": "stream",
     "text": [
      "Database haleygee_subscript  is active.\n",
      "0 1 2 3 4 5 6 7 8 9 10 11 12 13 14 15 16 17 18 19 20 21 22 23 24 25 26 27 28 29 30 31 32 33 34 35 36 37 38 39 40 41 42 43 44 45 46 47 48 49 50 51 52 53 54 55 56 57 58 59 60 61 62 63 64 65 66 67 68 69 70 71 72 73 74 75 76 77 78 79 80 81 82 83 84 85 86 87 88 89 90 91 92 93 94 95 96 97 98 99 100 101 102 103 104 105 106 107 108 109 110 111 112 113 114 115 116 117 118 119 120 121 122 123 124 125 126 127 128 129 130 131 132 133 134 135 136 137 138 139 140 141 142 143 144 145 146 147 148 149 150 151 152 153 154 155 156 157 158 159 160 161 162 163 164 165 166 167 168 169 170 171 172 173 174 175 176 177 178 179 180 181 182 183 184 185 186 187 188 189 190 191 192 193 194 195 196 197 198 199 200 201 202 203 204 205 206 207 208 209 210 211 212 213 214 215 216 217 218 219 220 221 222 223 224 225 226 227 228 229 230 231 232 233 234 235 236 237 238 239 240 241 242 243 244 245 246 247 248 249 250 251 252 253 254 255 256 257 258 259 260 261 262 263 264 265 266 267 268 269 270 271 272 273 274 275 276 277 278 279 280 281 282 283 284 285 286 287 288 289 290 291 292 293 294 295 "
     ]
    }
   ],
   "source": [
    "csv = pd.read_csv(os.path.join(cn.clean_dir, 'random_forest_features', 'final_curated_recommendations.csv'), dtype = 'unicode')\n",
    "fields = sorted([c.replace('-','_') for c in csv.columns.values if 'Unnamed' not in c], reverse = True)\n",
    "\n",
    "cnx, cursor = connect()\n",
    "i = 0\n",
    "for index, row in csv.iloc[5:][:].iterrows():\n",
    "    values =  row[fields]\n",
    "    values = [str(v) for v in values]\n",
    "    sql = \"INSERT INTO features (\" + str(fields).replace('[', '').replace(']','').replace(\"'\",'') + \")\\\n",
    "            VALUES (\" + '%s,'*(len(fields)-1) +  \"%s)\"\n",
    "    cursor.execute(sql, values)\n",
    "    print(i, end = ' ')\n",
    "    i = i + 1\n",
    "    cnx.commit()"
   ]
  },
  {
   "cell_type": "markdown",
   "metadata": {},
   "source": [
    "#### Search records in the features table"
   ]
  },
  {
   "cell_type": "code",
   "execution_count": 14,
   "metadata": {},
   "outputs": [
    {
     "name": "stdout",
     "output_type": "stream",
     "text": [
      "Database haleygee_subscript  is active.\n"
     ]
    }
   ],
   "source": [
    "cnx, cursor = connect()\n",
    "sql = \"SELECT * FROM features\"\n",
    "cursor.execute(sql)\n",
    "search = cursor.fetchall()"
   ]
  },
  {
   "cell_type": "markdown",
   "metadata": {},
   "source": [
    "#### Display records from the features table"
   ]
  },
  {
   "cell_type": "code",
   "execution_count": 15,
   "metadata": {},
   "outputs": [
    {
     "data": {
      "text/html": [
       "<div>\n",
       "<style scoped>\n",
       "    .dataframe tbody tr th:only-of-type {\n",
       "        vertical-align: middle;\n",
       "    }\n",
       "\n",
       "    .dataframe tbody tr th {\n",
       "        vertical-align: top;\n",
       "    }\n",
       "\n",
       "    .dataframe thead th {\n",
       "        text-align: right;\n",
       "    }\n",
       "</style>\n",
       "<table border=\"1\" class=\"dataframe\">\n",
       "  <thead>\n",
       "    <tr style=\"text-align: right;\">\n",
       "      <th></th>\n",
       "      <th>name</th>\n",
       "      <th>importance</th>\n",
       "      <th>category</th>\n",
       "    </tr>\n",
       "  </thead>\n",
       "  <tbody>\n",
       "  </tbody>\n",
       "</table>\n",
       "</div>"
      ],
      "text/plain": [
       "Empty DataFrame\n",
       "Columns: [name, importance, category]\n",
       "Index: []"
      ]
     },
     "execution_count": 15,
     "metadata": {},
     "output_type": "execute_result"
    }
   ],
   "source": [
    "df_search = pd.DataFrame(columns = fields)\n",
    "for item in search:\n",
    "    tmp = pd.DataFrame(item)\n",
    "    tmp = tmp.T\n",
    "    tmp.columns = fields\n",
    "    df_search = df_search.append(tmp, ignore_index = True)\n",
    "df_search.head()"
   ]
  },
  {
   "cell_type": "code",
   "execution_count": null,
   "metadata": {},
   "outputs": [],
   "source": []
  }
 ],
 "metadata": {
  "kernelspec": {
   "display_name": "ins_env",
   "language": "python",
   "name": "ins_env"
  },
  "language_info": {
   "codemirror_mode": {
    "name": "ipython",
    "version": 3
   },
   "file_extension": ".py",
   "mimetype": "text/x-python",
   "name": "python",
   "nbconvert_exporter": "python",
   "pygments_lexer": "ipython3",
   "version": "3.7.7"
  }
 },
 "nbformat": 4,
 "nbformat_minor": 4
}

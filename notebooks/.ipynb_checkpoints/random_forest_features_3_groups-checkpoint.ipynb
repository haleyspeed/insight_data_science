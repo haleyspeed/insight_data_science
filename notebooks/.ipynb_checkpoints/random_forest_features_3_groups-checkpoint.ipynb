{
 "cells": [
  {
   "cell_type": "markdown",
   "metadata": {},
   "source": [
    "# Forward Feature Selection for Achievements"
   ]
  },
  {
   "cell_type": "markdown",
   "metadata": {},
   "source": [
    "Classification by achievements completed was not informative despite stratified shuffling, class weighting, and model tuning. Selected features are reflective of old content (past expansions) rather than the current expansion and are not reliable. Use achievements per month (time series dataset) instead."
   ]
  },
  {
   "cell_type": "markdown",
   "metadata": {},
   "source": [
    "### Import dependencies"
   ]
  },
  {
   "cell_type": "code",
   "execution_count": 2,
   "metadata": {},
   "outputs": [],
   "source": [
    "import pandas as pd\n",
    "import os\n",
    "import subscript.config as cn\n",
    "from sklearn.ensemble import RandomForestClassifier\n",
    "from sklearn.metrics import roc_auc_score\n",
    "from mlxtend.feature_selection import SequentialFeatureSelector\n",
    "from sklearn.model_selection import StratifiedShuffleSplit\n",
    "from sklearn import metrics\n",
    "import numpy as np\n",
    "from IPython.display import HTML\n",
    "import matplotlib.pyplot as plt\n",
    "import seaborn as sns\n",
    "import pickle"
   ]
  },
  {
   "cell_type": "markdown",
   "metadata": {},
   "source": [
    "### Read in and prepare data"
   ]
  },
  {
   "cell_type": "code",
   "execution_count": 3,
   "metadata": {},
   "outputs": [
    {
     "name": "stdout",
     "output_type": "stream",
     "text": [
      "104990\n"
     ]
    },
    {
     "data": {
      "text/html": [
       "<div>\n",
       "<style scoped>\n",
       "    .dataframe tbody tr th:only-of-type {\n",
       "        vertical-align: middle;\n",
       "    }\n",
       "\n",
       "    .dataframe tbody tr th {\n",
       "        vertical-align: top;\n",
       "    }\n",
       "\n",
       "    .dataframe thead th {\n",
       "        text-align: right;\n",
       "    }\n",
       "</style>\n",
       "<table border=\"1\" class=\"dataframe\">\n",
       "  <thead>\n",
       "    <tr style=\"text-align: right;\">\n",
       "      <th></th>\n",
       "      <th>6</th>\n",
       "      <th>7</th>\n",
       "      <th>8</th>\n",
       "      <th>9</th>\n",
       "      <th>10</th>\n",
       "      <th>11</th>\n",
       "      <th>12</th>\n",
       "      <th>13</th>\n",
       "      <th>16</th>\n",
       "      <th>31</th>\n",
       "      <th>...</th>\n",
       "      <th>11018</th>\n",
       "      <th>11030</th>\n",
       "      <th>11043</th>\n",
       "      <th>11056</th>\n",
       "      <th>12037</th>\n",
       "      <th>12197</th>\n",
       "      <th>13643</th>\n",
       "      <th>1412</th>\n",
       "      <th>1416</th>\n",
       "      <th>id</th>\n",
       "    </tr>\n",
       "  </thead>\n",
       "  <tbody>\n",
       "    <tr>\n",
       "      <th>0</th>\n",
       "      <td>Character</td>\n",
       "      <td>Character</td>\n",
       "      <td>Character</td>\n",
       "      <td>Character</td>\n",
       "      <td>Character</td>\n",
       "      <td>Character</td>\n",
       "      <td>Character</td>\n",
       "      <td>Character</td>\n",
       "      <td>none</td>\n",
       "      <td>none</td>\n",
       "      <td>...</td>\n",
       "      <td>none</td>\n",
       "      <td>none</td>\n",
       "      <td>none</td>\n",
       "      <td>none</td>\n",
       "      <td>none</td>\n",
       "      <td>none</td>\n",
       "      <td>none</td>\n",
       "      <td>none</td>\n",
       "      <td>none</td>\n",
       "      <td>airgeyser_proudmoore</td>\n",
       "    </tr>\n",
       "    <tr>\n",
       "      <th>1</th>\n",
       "      <td>Character</td>\n",
       "      <td>Character</td>\n",
       "      <td>Character</td>\n",
       "      <td>Character</td>\n",
       "      <td>Character</td>\n",
       "      <td>Character</td>\n",
       "      <td>Character</td>\n",
       "      <td>Character</td>\n",
       "      <td>none</td>\n",
       "      <td>Quests</td>\n",
       "      <td>...</td>\n",
       "      <td>none</td>\n",
       "      <td>none</td>\n",
       "      <td>none</td>\n",
       "      <td>none</td>\n",
       "      <td>none</td>\n",
       "      <td>none</td>\n",
       "      <td>none</td>\n",
       "      <td>none</td>\n",
       "      <td>none</td>\n",
       "      <td>bellabuns_proudmoore</td>\n",
       "    </tr>\n",
       "    <tr>\n",
       "      <th>2</th>\n",
       "      <td>Character</td>\n",
       "      <td>Character</td>\n",
       "      <td>Character</td>\n",
       "      <td>Character</td>\n",
       "      <td>Character</td>\n",
       "      <td>Character</td>\n",
       "      <td>Character</td>\n",
       "      <td>Character</td>\n",
       "      <td>none</td>\n",
       "      <td>Quests</td>\n",
       "      <td>...</td>\n",
       "      <td>none</td>\n",
       "      <td>none</td>\n",
       "      <td>none</td>\n",
       "      <td>none</td>\n",
       "      <td>none</td>\n",
       "      <td>none</td>\n",
       "      <td>none</td>\n",
       "      <td>none</td>\n",
       "      <td>none</td>\n",
       "      <td>khaylo_proudmoore</td>\n",
       "    </tr>\n",
       "    <tr>\n",
       "      <th>3</th>\n",
       "      <td>Character</td>\n",
       "      <td>Character</td>\n",
       "      <td>Character</td>\n",
       "      <td>Character</td>\n",
       "      <td>Character</td>\n",
       "      <td>Character</td>\n",
       "      <td>Character</td>\n",
       "      <td>Character</td>\n",
       "      <td>none</td>\n",
       "      <td>Quests</td>\n",
       "      <td>...</td>\n",
       "      <td>none</td>\n",
       "      <td>none</td>\n",
       "      <td>none</td>\n",
       "      <td>none</td>\n",
       "      <td>none</td>\n",
       "      <td>none</td>\n",
       "      <td>none</td>\n",
       "      <td>none</td>\n",
       "      <td>none</td>\n",
       "      <td>tharivool_proudmoore</td>\n",
       "    </tr>\n",
       "    <tr>\n",
       "      <th>4</th>\n",
       "      <td>Character</td>\n",
       "      <td>Character</td>\n",
       "      <td>Character</td>\n",
       "      <td>Character</td>\n",
       "      <td>Character</td>\n",
       "      <td>Character</td>\n",
       "      <td>Character</td>\n",
       "      <td>Character</td>\n",
       "      <td>none</td>\n",
       "      <td>Quests</td>\n",
       "      <td>...</td>\n",
       "      <td>none</td>\n",
       "      <td>none</td>\n",
       "      <td>none</td>\n",
       "      <td>none</td>\n",
       "      <td>none</td>\n",
       "      <td>none</td>\n",
       "      <td>none</td>\n",
       "      <td>none</td>\n",
       "      <td>none</td>\n",
       "      <td>tgsmokey_proudmoore</td>\n",
       "    </tr>\n",
       "  </tbody>\n",
       "</table>\n",
       "<p>5 rows × 4015 columns</p>\n",
       "</div>"
      ],
      "text/plain": [
       "           6          7          8          9         10         11  \\\n",
       "0  Character  Character  Character  Character  Character  Character   \n",
       "1  Character  Character  Character  Character  Character  Character   \n",
       "2  Character  Character  Character  Character  Character  Character   \n",
       "3  Character  Character  Character  Character  Character  Character   \n",
       "4  Character  Character  Character  Character  Character  Character   \n",
       "\n",
       "          12         13    16      31  ... 11018 11030 11043 11056 12037  \\\n",
       "0  Character  Character  none    none  ...  none  none  none  none  none   \n",
       "1  Character  Character  none  Quests  ...  none  none  none  none  none   \n",
       "2  Character  Character  none  Quests  ...  none  none  none  none  none   \n",
       "3  Character  Character  none  Quests  ...  none  none  none  none  none   \n",
       "4  Character  Character  none  Quests  ...  none  none  none  none  none   \n",
       "\n",
       "  12197 13643  1412  1416                    id  \n",
       "0  none  none  none  none  airgeyser_proudmoore  \n",
       "1  none  none  none  none  bellabuns_proudmoore  \n",
       "2  none  none  none  none     khaylo_proudmoore  \n",
       "3  none  none  none  none  tharivool_proudmoore  \n",
       "4  none  none  none  none   tgsmokey_proudmoore  \n",
       "\n",
       "[5 rows x 4015 columns]"
      ]
     },
     "execution_count": 3,
     "metadata": {},
     "output_type": "execute_result"
    }
   ],
   "source": [
    "df = pd.read_csv(os.path.join(cn.clean_dir,'final_feature_categories.csv'), dtype = 'unicode')\n",
    "player_cols =  ['Unnamed: 0','player','realm','gear_score','last_login',\n",
    "            'time_since_login','status']\n",
    "df = df.drop(player_cols, axis = 1)\n",
    "dfc = pd.read_csv(os.path.join(cn.clean_dir,'6-13_achievement_list.csv'), dtype = 'unicode')\n",
    "\n",
    "df_original = df.copy()\n",
    "if id in df.columns.names:\n",
    "    df = df.set_index('id')\n",
    "print(len(df.engagement == 1))\n",
    "df.head()"
   ]
  },
  {
   "cell_type": "markdown",
   "metadata": {},
   "source": [
    "## Convert any completed achievement to the category_id, else 0"
   ]
  },
  {
   "cell_type": "code",
   "execution_count": 12,
   "metadata": {},
   "outputs": [
    {
     "name": "stdout",
     "output_type": "stream",
     "text": [
      "0 Alterac Valley 1 Arathi Basin 2 Archaeology 3 Arena 4 Argent Tournament 5 Ashran 6 Battle Dungeon 7 Battle Raid 8 Battle for Azeroth 9 Battle for Gilneas 10 Battlegrounds 11 Brawler's Guild 12 Brewfest 13 Cataclysm 14 Cataclysm Dungeon 15 Cataclysm Raid 16 Character 17 Children's Week 18 Classic 19 Collections 20 Cooking 21 Currencies 22 Darkmoon Faire 23 Deepwind Gorge 24 Draenor 25 Draenor Dungeon 26 Draenor Garrison 27 Draenor Raid 28 Dungeons 29 Dungeons & Raids 30 Eastern Kingdoms 31 Events 32 Expansion Features 33 Exploration 34 Eye of the Storm 35 Feats of Strength 36 Fishing 37 General 38 Guild Feats of Strength 39 Hallow's End 40 Heart of Azeroth 41 Honor 42 Island Expeditions 43 Isle of Conquest 44 Kalimdor 45 Legacy 46 Legion 47 Legion Class Hall 48 Legion Dungeon 49 Legion Raid 50 Lich King Dungeon 51 Lich King Raid 52 Love is in the Air 53 Lunar Festival 54 Midsummer 55 Mounts 56 Noblegarden 57 Northrend 58 Outland 59 Pandaria 60 Pandaria Dungeon 61 Pandaria Raid 62 Pandaria Scenarios 63 Pet Battles 64 Pilgrim's Bounty 65 Player vs. Player 66 Professions 67 Promotions 68 Quests 69 Raids 70 Rated Battleground 71 Reputation 72 Seething Shore 73 Silvershard Mines 74 Temple of Kotmogu 75 The Burning Crusade 76 Tol Barad 77 Twin Peaks 78 Visions of N'Zoth 79 War Effort 80 Warsong Gulch 81 Winter Veil 82 Wintergrasp 83 World 84 World Events 85 Wrath of the Lich King "
     ]
    },
    {
     "data": {
      "text/html": [
       "<div>\n",
       "<style scoped>\n",
       "    .dataframe tbody tr th:only-of-type {\n",
       "        vertical-align: middle;\n",
       "    }\n",
       "\n",
       "    .dataframe tbody tr th {\n",
       "        vertical-align: top;\n",
       "    }\n",
       "\n",
       "    .dataframe thead th {\n",
       "        text-align: right;\n",
       "    }\n",
       "</style>\n",
       "<table border=\"1\" class=\"dataframe\">\n",
       "  <thead>\n",
       "    <tr style=\"text-align: right;\">\n",
       "      <th></th>\n",
       "      <th>6</th>\n",
       "      <th>7</th>\n",
       "      <th>8</th>\n",
       "      <th>9</th>\n",
       "      <th>10</th>\n",
       "      <th>11</th>\n",
       "      <th>12</th>\n",
       "      <th>13</th>\n",
       "      <th>16</th>\n",
       "      <th>31</th>\n",
       "      <th>...</th>\n",
       "      <th>11018</th>\n",
       "      <th>11030</th>\n",
       "      <th>11043</th>\n",
       "      <th>11056</th>\n",
       "      <th>12037</th>\n",
       "      <th>12197</th>\n",
       "      <th>13643</th>\n",
       "      <th>1412</th>\n",
       "      <th>1416</th>\n",
       "      <th>id</th>\n",
       "    </tr>\n",
       "  </thead>\n",
       "  <tbody>\n",
       "    <tr>\n",
       "      <th>0</th>\n",
       "      <td>16</td>\n",
       "      <td>16</td>\n",
       "      <td>16</td>\n",
       "      <td>16</td>\n",
       "      <td>16</td>\n",
       "      <td>16</td>\n",
       "      <td>16</td>\n",
       "      <td>16</td>\n",
       "      <td>0</td>\n",
       "      <td>0</td>\n",
       "      <td>...</td>\n",
       "      <td>0</td>\n",
       "      <td>0</td>\n",
       "      <td>0</td>\n",
       "      <td>0</td>\n",
       "      <td>0</td>\n",
       "      <td>0</td>\n",
       "      <td>0</td>\n",
       "      <td>0</td>\n",
       "      <td>0</td>\n",
       "      <td>airgeyser_proudmoore</td>\n",
       "    </tr>\n",
       "    <tr>\n",
       "      <th>1</th>\n",
       "      <td>16</td>\n",
       "      <td>16</td>\n",
       "      <td>16</td>\n",
       "      <td>16</td>\n",
       "      <td>16</td>\n",
       "      <td>16</td>\n",
       "      <td>16</td>\n",
       "      <td>16</td>\n",
       "      <td>0</td>\n",
       "      <td>68</td>\n",
       "      <td>...</td>\n",
       "      <td>0</td>\n",
       "      <td>0</td>\n",
       "      <td>0</td>\n",
       "      <td>0</td>\n",
       "      <td>0</td>\n",
       "      <td>0</td>\n",
       "      <td>0</td>\n",
       "      <td>0</td>\n",
       "      <td>0</td>\n",
       "      <td>bellabuns_proudmoore</td>\n",
       "    </tr>\n",
       "    <tr>\n",
       "      <th>2</th>\n",
       "      <td>16</td>\n",
       "      <td>16</td>\n",
       "      <td>16</td>\n",
       "      <td>16</td>\n",
       "      <td>16</td>\n",
       "      <td>16</td>\n",
       "      <td>16</td>\n",
       "      <td>16</td>\n",
       "      <td>0</td>\n",
       "      <td>68</td>\n",
       "      <td>...</td>\n",
       "      <td>0</td>\n",
       "      <td>0</td>\n",
       "      <td>0</td>\n",
       "      <td>0</td>\n",
       "      <td>0</td>\n",
       "      <td>0</td>\n",
       "      <td>0</td>\n",
       "      <td>0</td>\n",
       "      <td>0</td>\n",
       "      <td>khaylo_proudmoore</td>\n",
       "    </tr>\n",
       "    <tr>\n",
       "      <th>3</th>\n",
       "      <td>16</td>\n",
       "      <td>16</td>\n",
       "      <td>16</td>\n",
       "      <td>16</td>\n",
       "      <td>16</td>\n",
       "      <td>16</td>\n",
       "      <td>16</td>\n",
       "      <td>16</td>\n",
       "      <td>0</td>\n",
       "      <td>68</td>\n",
       "      <td>...</td>\n",
       "      <td>0</td>\n",
       "      <td>0</td>\n",
       "      <td>0</td>\n",
       "      <td>0</td>\n",
       "      <td>0</td>\n",
       "      <td>0</td>\n",
       "      <td>0</td>\n",
       "      <td>0</td>\n",
       "      <td>0</td>\n",
       "      <td>tharivool_proudmoore</td>\n",
       "    </tr>\n",
       "    <tr>\n",
       "      <th>4</th>\n",
       "      <td>16</td>\n",
       "      <td>16</td>\n",
       "      <td>16</td>\n",
       "      <td>16</td>\n",
       "      <td>16</td>\n",
       "      <td>16</td>\n",
       "      <td>16</td>\n",
       "      <td>16</td>\n",
       "      <td>0</td>\n",
       "      <td>68</td>\n",
       "      <td>...</td>\n",
       "      <td>0</td>\n",
       "      <td>0</td>\n",
       "      <td>0</td>\n",
       "      <td>0</td>\n",
       "      <td>0</td>\n",
       "      <td>0</td>\n",
       "      <td>0</td>\n",
       "      <td>0</td>\n",
       "      <td>0</td>\n",
       "      <td>tgsmokey_proudmoore</td>\n",
       "    </tr>\n",
       "  </tbody>\n",
       "</table>\n",
       "<p>5 rows × 4015 columns</p>\n",
       "</div>"
      ],
      "text/plain": [
       "    6   7   8   9  10  11  12  13 16  31  ... 11018 11030 11043 11056 12037  \\\n",
       "0  16  16  16  16  16  16  16  16  0   0  ...     0     0     0     0     0   \n",
       "1  16  16  16  16  16  16  16  16  0  68  ...     0     0     0     0     0   \n",
       "2  16  16  16  16  16  16  16  16  0  68  ...     0     0     0     0     0   \n",
       "3  16  16  16  16  16  16  16  16  0  68  ...     0     0     0     0     0   \n",
       "4  16  16  16  16  16  16  16  16  0  68  ...     0     0     0     0     0   \n",
       "\n",
       "  12197 13643 1412 1416                    id  \n",
       "0     0     0    0    0  airgeyser_proudmoore  \n",
       "1     0     0    0    0  bellabuns_proudmoore  \n",
       "2     0     0    0    0     khaylo_proudmoore  \n",
       "3     0     0    0    0  tharivool_proudmoore  \n",
       "4     0     0    0    0   tgsmokey_proudmoore  \n",
       "\n",
       "[5 rows x 4015 columns]"
      ]
     },
     "execution_count": 12,
     "metadata": {},
     "output_type": "execute_result"
    }
   ],
   "source": [
    "#df = df_original.copy()\n",
    "categories = ['Alterac Valley','Arathi Basin','Archaeology',\n",
    "              'Arena','Argent Tournament','Ashran','Battle Dungeon',\n",
    "              'Battle Raid','Battle for Azeroth','Battle for Gilneas',\n",
    "              'Battlegrounds',\"Brawler's Guild\",'Brewfest','Cataclysm',\n",
    "              'Cataclysm Dungeon','Cataclysm Raid','Character',\n",
    "              \"Children's Week\",'Classic','Collections','Cooking',\n",
    "              'Currencies','Darkmoon Faire','Deepwind Gorge','Draenor',\n",
    "              'Draenor Dungeon','Draenor Garrison','Draenor Raid',\n",
    "              'Dungeons','Dungeons & Raids','Eastern Kingdoms',\n",
    "              'Events','Expansion Features','Exploration',\n",
    "              'Eye of the Storm','Feats of Strength','Fishing',\n",
    "              'General','Guild Feats of Strength',\"Hallow's End\",\n",
    "              'Heart of Azeroth','Honor','Island Expeditions',\n",
    "              'Isle of Conquest','Kalimdor','Legacy','Legion',\n",
    "              'Legion Class Hall','Legion Dungeon','Legion Raid',\n",
    "              'Lich King Dungeon','Lich King Raid','Love is in the Air',\n",
    "              'Lunar Festival','Midsummer','Mounts','Noblegarden',\n",
    "              'Northrend','Outland','Pandaria','Pandaria Dungeon',\n",
    "              'Pandaria Raid','Pandaria Scenarios','Pet Battles',\n",
    "              \"Pilgrim's Bounty\",'Player vs. Player','Professions',\n",
    "              'Promotions','Quests','Raids','Rated Battleground',\n",
    "              'Reputation','Seething Shore','Silvershard Mines',\n",
    "              'Temple of Kotmogu','The Burning Crusade','Tol Barad',\n",
    "              'Twin Peaks',\"Visions of N'Zoth\",'War Effort',\n",
    "              'Warsong Gulch','Winter Veil','Wintergrasp','World',\n",
    "              'World Events','Wrath of the Lich King']\n",
    "xform = [c for c in df.columns.values if 'engagement' not in c and 'id' not in c]\n",
    "df[xform] = df[xform].replace('none', '0')\n",
    "for i,c in enumerate(categories):\n",
    "    print(i, c, end = ' ')\n",
    "    df[xform] = df[xform].replace(c,str(i))\n",
    "\n",
    "df.head()"
   ]
  },
  {
   "cell_type": "markdown",
   "metadata": {},
   "source": [
    "#### Intermediate save since the above step took a while"
   ]
  },
  {
   "cell_type": "code",
   "execution_count": 13,
   "metadata": {},
   "outputs": [],
   "source": [
    "df.to_csv(os.path.join(cn.clean_dir,'final_achievement_category_id.csv'), index = False)"
   ]
  },
  {
   "cell_type": "markdown",
   "metadata": {},
   "source": [
    "#### Intermediate step to reload the converted dataframe (if needed)"
   ]
  },
  {
   "cell_type": "code",
   "execution_count": null,
   "metadata": {},
   "outputs": [],
   "source": [
    "df = pd.read_csv(os.path.join(cn.clean_dir,'final_achievement_category_id.csv'), dtype = 'unicode')\n",
    "df = df.set_index('id')\n",
    "df.head()"
   ]
  },
  {
   "cell_type": "markdown",
   "metadata": {},
   "source": [
    "## Convert any remaining dates to 1s (a few don't have categories)"
   ]
  },
  {
   "cell_type": "code",
   "execution_count": 14,
   "metadata": {},
   "outputs": [],
   "source": [
    "for col in df.columns.values:\n",
    "    if df[col].str.contains('20').any() == True:\n",
    "        df[col] = np.where(df[col] != '0','9999',df[col])"
   ]
  },
  {
   "cell_type": "code",
   "execution_count": 18,
   "metadata": {},
   "outputs": [
    {
     "data": {
      "text/plain": [
       "0          airgeyser_proudmoore\n",
       "1          bellabuns_proudmoore\n",
       "2             khaylo_proudmoore\n",
       "3          tharivool_proudmoore\n",
       "4           tgsmokey_proudmoore\n",
       "                  ...          \n",
       "104985    konahriik_frostmourne\n",
       "104986      kyuraga_frostmourne\n",
       "104987     sinzarro_frostmourne\n",
       "104988        tango_frostmourne\n",
       "104989         joby_frostmourne\n",
       "Name: id, Length: 104990, dtype: object"
      ]
     },
     "execution_count": 18,
     "metadata": {},
     "output_type": "execute_result"
    }
   ],
   "source": [
    "df.id"
   ]
  },
  {
   "cell_type": "markdown",
   "metadata": {},
   "source": [
    "## Make Training and Test Sets\n",
    "Dataset is imbalanced, so I'm using stratified shuffle split to ensure the test and train sets have the same proportions of active, at-risk, and lapsed users."
   ]
  },
  {
   "cell_type": "code",
   "execution_count": 214,
   "metadata": {},
   "outputs": [],
   "source": [
    "if id in df.columns.names:\n",
    "    df = df.set_index('id')\n",
    "try:\n",
    "    df = df.drop('id', axis = 1)\n",
    "except:\n",
    "    pass\n",
    "\n",
    "df = df.astype(float)\n",
    "split = StratifiedShuffleSplit(n_splits = 10, test_size = 0.25, random_state = 17)\n",
    "for train_index, test_index in split.split(df, df.engagement):\n",
    "    strat_train = df.iloc[train_index][:]\n",
    "    strat_test = df.iloc[test_index][:]\n",
    "\n",
    "y_train = strat_train.engagement\n",
    "X_train = strat_train.drop('engagement', axis = 1)\n",
    "y_test = strat_test.engagement\n",
    "X_test = strat_test.drop('engagement', axis = 1)"
   ]
  },
  {
   "cell_type": "code",
   "execution_count": 215,
   "metadata": {},
   "outputs": [
    {
     "name": "stdout",
     "output_type": "stream",
     "text": [
      "(78742, 4013) (26248, 4013)\n"
     ]
    }
   ],
   "source": [
    "print(X_train.shape, X_test.shape)"
   ]
  },
  {
   "cell_type": "code",
   "execution_count": 216,
   "metadata": {},
   "outputs": [
    {
     "data": {
      "text/plain": [
       "(array([18045.,     0.,     0.,     0.,     0.,  7061.,     0.,     0.,\n",
       "            0.,  1142.]),\n",
       " array([0. , 0.2, 0.4, 0.6, 0.8, 1. , 1.2, 1.4, 1.6, 1.8, 2. ]),\n",
       " <a list of 10 Patch objects>)"
      ]
     },
     "execution_count": 216,
     "metadata": {},
     "output_type": "execute_result"
    },
    {
     "data": {
      "image/png": "[encoded data removed]",
      "text/plain": [
       "<Figure size 720x360 with 2 Axes>"
      ]
     },
     "metadata": {
      "needs_background": "light"
     },
     "output_type": "display_data"
    }
   ],
   "source": [
    "fig, ax = plt.subplots(1,2, figsize = (10,5))\n",
    "ax[0].hist(strat_train.engagement)\n",
    "ax[1].hist(strat_test.engagement)"
   ]
  },
  {
   "cell_type": "markdown",
   "metadata": {},
   "source": [
    "## Run the Random Forest Classifier for Feature Selection\n",
    "Tried weapper method, but with 1000 features, even one comparison was not done after 2 hours.\n",
    "Doing regular feature selection with random forest \n",
    "Not weighted because I grouped At-Risk and Lapsed users"
   ]
  },
  {
   "cell_type": "code",
   "execution_count": 217,
   "metadata": {},
   "outputs": [],
   "source": [
    "class_weight = dict({0:1, 1:2.5, 2:16})\n",
    "feature_selector = RandomForestClassifier(n_jobs=-1, \n",
    "            class_weight = class_weight, bootstrap=True,\n",
    "            n_estimators=200,\n",
    "            oob_score=True,random_state=17)\n",
    "features = feature_selector.fit(np.array(X_train), y_train)\n"
   ]
  },
  {
   "cell_type": "code",
   "execution_count": 218,
   "metadata": {},
   "outputs": [
    {
     "name": "stdout",
     "output_type": "stream",
     "text": [
      "(78742, 4013) (26248, 4013)\n"
     ]
    }
   ],
   "source": [
    "print(X_train.shape, X_test.shape)"
   ]
  },
  {
   "cell_type": "markdown",
   "metadata": {},
   "source": [
    "#### Get Feature Importances"
   ]
  },
  {
   "cell_type": "code",
   "execution_count": 219,
   "metadata": {},
   "outputs": [],
   "source": [
    "importances = feature_selector.feature_importances_\n",
    "indices = np.argsort(importances)\n",
    "important_features = X_train.columns.values[indices]"
   ]
  },
  {
   "cell_type": "code",
   "execution_count": 220,
   "metadata": {},
   "outputs": [
    {
     "data": {
      "text/html": [
       "<table border=\"1\" class=\"dataframe\">\n",
       "  <thead>\n",
       "    <tr style=\"text-align: right;\">\n",
       "      <th></th>\n",
       "      <th>important_features</th>\n",
       "      <th>name</th>\n",
       "      <th>category</th>\n",
       "    </tr>\n",
       "  </thead>\n",
       "  <tbody>\n",
       "    <tr>\n",
       "      <th>0</th>\n",
       "      <td>587</td>\n",
       "      <td>Stormy Assassin</td>\n",
       "      <td>Eye of the Storm</td>\n",
       "    </tr>\n",
       "    <tr>\n",
       "      <th>1</th>\n",
       "      <td>6897</td>\n",
       "      <td>Scholomance Challenger</td>\n",
       "      <td>Dungeons</td>\n",
       "    </tr>\n",
       "    <tr>\n",
       "      <th>2</th>\n",
       "      <td>8845</td>\n",
       "      <td>As I Walk Through the Valley of the Shadow of ...</td>\n",
       "      <td>Draenor</td>\n",
       "    </tr>\n",
       "    <tr>\n",
       "      <th>3</th>\n",
       "      <td>8881</td>\n",
       "      <td>Auchindoun: Silver</td>\n",
       "      <td>Dungeons</td>\n",
       "    </tr>\n",
       "    <tr>\n",
       "      <th>4</th>\n",
       "      <td>8887</td>\n",
       "      <td>Grimrail Depot Challenger</td>\n",
       "      <td>Dungeons</td>\n",
       "    </tr>\n",
       "    <tr>\n",
       "      <th>5</th>\n",
       "      <td>8889</td>\n",
       "      <td>Grimrail Depot: Silver</td>\n",
       "      <td>Dungeons</td>\n",
       "    </tr>\n",
       "    <tr>\n",
       "      <th>6</th>\n",
       "      <td>8921</td>\n",
       "      <td>Welcome to Draenor</td>\n",
       "      <td>Draenor</td>\n",
       "    </tr>\n",
       "    <tr>\n",
       "      <th>7</th>\n",
       "      <td>8925</td>\n",
       "      <td>Between Arak and a Hard Place</td>\n",
       "      <td>Draenor</td>\n",
       "    </tr>\n",
       "    <tr>\n",
       "      <th>8</th>\n",
       "      <td>8930</td>\n",
       "      <td>Ya, We've Got Time...</td>\n",
       "      <td>Draenor Raid</td>\n",
       "    </tr>\n",
       "    <tr>\n",
       "      <th>9</th>\n",
       "      <td>6</td>\n",
       "      <td>Level 10</td>\n",
       "      <td>Character</td>\n",
       "    </tr>\n",
       "    <tr>\n",
       "      <th>10</th>\n",
       "      <td>8939</td>\n",
       "      <td>Explore Gorgrond</td>\n",
       "      <td>Draenor</td>\n",
       "    </tr>\n",
       "    <tr>\n",
       "      <th>11</th>\n",
       "      <td>8947</td>\n",
       "      <td>Hurry Up, Maggot!</td>\n",
       "      <td>Draenor Raid</td>\n",
       "    </tr>\n",
       "    <tr>\n",
       "      <th>12</th>\n",
       "      <td>8963</td>\n",
       "      <td>Mythic: Twin Ogron</td>\n",
       "      <td>Draenor Raid</td>\n",
       "    </tr>\n",
       "    <tr>\n",
       "      <th>13</th>\n",
       "      <td>8967</td>\n",
       "      <td>Mythic: Oregorger</td>\n",
       "      <td>Draenor Raid</td>\n",
       "    </tr>\n",
       "    <tr>\n",
       "      <th>14</th>\n",
       "      <td>8968</td>\n",
       "      <td>Mythic: Hans'gar and Franzok</td>\n",
       "      <td>Draenor Raid</td>\n",
       "    </tr>\n",
       "    <tr>\n",
       "      <th>15</th>\n",
       "      <td>8970</td>\n",
       "      <td>Mythic: Blast Furnace</td>\n",
       "      <td>Draenor Raid</td>\n",
       "    </tr>\n",
       "    <tr>\n",
       "      <th>16</th>\n",
       "      <td>8972</td>\n",
       "      <td>Mythic: Iron Maidens</td>\n",
       "      <td>Draenor Raid</td>\n",
       "    </tr>\n",
       "    <tr>\n",
       "      <th>17</th>\n",
       "      <td>8974</td>\n",
       "      <td>More Like Wrecked-us</td>\n",
       "      <td>Draenor Raid</td>\n",
       "    </tr>\n",
       "    <tr>\n",
       "      <th>18</th>\n",
       "      <td>8820</td>\n",
       "      <td>WoW's 10th Anniversary</td>\n",
       "      <td>Events</td>\n",
       "    </tr>\n",
       "    <tr>\n",
       "      <th>19</th>\n",
       "      <td>8933</td>\n",
       "      <td>Staying Regular</td>\n",
       "      <td>Draenor Garrison</td>\n",
       "    </tr>\n",
       "    <tr>\n",
       "      <th>20</th>\n",
       "      <td>8784</td>\n",
       "      <td>Timeless Legends</td>\n",
       "      <td>Pandaria</td>\n",
       "    </tr>\n",
       "    <tr>\n",
       "      <th>21</th>\n",
       "      <td>8730</td>\n",
       "      <td>Rolo's Riddle</td>\n",
       "      <td>Pandaria</td>\n",
       "    </tr>\n",
       "    <tr>\n",
       "      <th>22</th>\n",
       "      <td>8668</td>\n",
       "      <td>Duelist: Season 15</td>\n",
       "      <td>Player vs. Player</td>\n",
       "    </tr>\n",
       "    <tr>\n",
       "      <th>23</th>\n",
       "      <td>8669</td>\n",
       "      <td>Rival: Season 15</td>\n",
       "      <td>Player vs. Player</td>\n",
       "    </tr>\n",
       "    <tr>\n",
       "      <th>24</th>\n",
       "      <td>8670</td>\n",
       "      <td>Challenger: Season 15</td>\n",
       "      <td>Player vs. Player</td>\n",
       "    </tr>\n",
       "  </tbody>\n",
       "</table>"
      ],
      "text/plain": [
       "<IPython.core.display.HTML object>"
      ]
     },
     "metadata": {},
     "output_type": "display_data"
    }
   ],
   "source": [
    "dfc = pd.read_csv(os.path.join(cn.clean_dir,'6-13_achievement_list.csv'), dtype = 'unicode')\n",
    "df_pred = pd.DataFrame({'important_features': important_features})\n",
    "df_pred['name'] = ''\n",
    "df_pred['category'] = ''\n",
    "for index, row in df_pred.iterrows():\n",
    "    df_pred.at[index,'name'] = dfc[dfc.achievement_id == row.important_features].achievement_name.to_string(index = False)\n",
    "    df_pred.at[index,'category'] = dfc[dfc.achievement_id == row.important_features].category_name.to_string(index = False)\n",
    "df_pred.to_csv(os.path.join(cn.clean_dir, 'random_forest_features','binary_achievement_importances.csv'), index = False)\n",
    "display(HTML(df_pred[:25].to_html()))"
   ]
  },
  {
   "cell_type": "markdown",
   "metadata": {},
   "source": [
    "#### Get the Out-of-Bag score"
   ]
  },
  {
   "cell_type": "code",
   "execution_count": 221,
   "metadata": {},
   "outputs": [
    {
     "data": {
      "text/plain": [
       "0.3271570445251581"
      ]
     },
     "execution_count": 221,
     "metadata": {},
     "output_type": "execute_result"
    }
   ],
   "source": [
    "features.oob_score_"
   ]
  },
  {
   "cell_type": "markdown",
   "metadata": {},
   "source": [
    "#### Get Engagement Predictions Based on Achievements"
   ]
  },
  {
   "cell_type": "code",
   "execution_count": 222,
   "metadata": {},
   "outputs": [],
   "source": [
    "predictions = feature_selector.predict(X_test)\n",
    "df_pred = pd.DataFrame(X_test)\n",
    "df_pred['prediction'] = predictions\n",
    "df_pred['actual'] = y_test\n",
    "df_pred.to_csv(os.path.join(cn.clean_dir, 'random_forest_features',\n",
    "        'final_feature_predictions.csv'), index = False)"
   ]
  },
  {
   "cell_type": "markdown",
   "metadata": {},
   "source": [
    "#### Get Confusion Matrix"
   ]
  },
  {
   "cell_type": "code",
   "execution_count": 223,
   "metadata": {},
   "outputs": [
    {
     "name": "stdout",
     "output_type": "stream",
     "text": [
      "              precision    recall  f1-score   support\n",
      "\n",
      "         0.0      0.703     0.434     0.537     18045\n",
      "         1.0      0.277     0.069     0.111      7061\n",
      "         2.0      0.047     0.553     0.087      1142\n",
      "\n",
      "    accuracy                          0.341     26248\n",
      "   macro avg      0.343     0.352     0.245     26248\n",
      "weighted avg      0.560     0.341     0.403     26248\n",
      "\n",
      "[[7828 1201 9016]\n",
      " [2865  489 3707]\n",
      " [ 436   74  632]]\n"
     ]
    }
   ],
   "source": [
    "met = metrics.classification_report(y_test, predictions, digits=3)\n",
    "print(met)\n",
    "cnf_matrix = metrics.confusion_matrix(y_test,predictions)\n",
    "print(cnf_matrix)"
   ]
  },
  {
   "cell_type": "code",
   "execution_count": 224,
   "metadata": {},
   "outputs": [
    {
     "name": "stdout",
     "output_type": "stream",
     "text": [
      "Plotting the confusion matrix...\n"
     ]
    },
    {
     "data": {
      "image/png": "[encoded data removed]",
      "text/plain": [
       "<Figure size 576x576 with 2 Axes>"
      ]
     },
     "metadata": {
      "needs_background": "light"
     },
     "output_type": "display_data"
    }
   ],
   "source": [
    "print(\"Plotting the confusion matrix...\")\n",
    "fig2, ax = plt.subplots(figsize = (8,8))\n",
    "sns.heatmap(pd.DataFrame(cnf_matrix), annot = True, cmap = 'Purples', \n",
    "            fmt = 'g', annot_kws={\"size\":16})\n",
    "ax.set_xlabel (\"Predicted Value\", fontsize = 18)\n",
    "ax.set_ylabel (\"Actual Value\", fontsize = 18)\n",
    "ax.tick_params (labelsize = 14)\n",
    "plt.tight_layout()\n",
    "fig2.savefig(os.path.join(cn.clean_dir, 'random_forest_features',\n",
    "            'cnfmatrix_features.png'), dpi=180)\n"
   ]
  },
  {
   "cell_type": "code",
   "execution_count": 225,
   "metadata": {},
   "outputs": [],
   "source": [
    "# save the model to disk\n",
    "pickle_name = 'final_feature_model_3_groups.sav'\n",
    "os.chdir(os.path.join(cn.clean_dir,'random_forest_features'))\n",
    "with open(pickle_name, 'wb') as file:\n",
    "    pickle.dump(features, file)\n",
    "plt.show()"
   ]
  },
  {
   "cell_type": "markdown",
   "metadata": {},
   "source": [
    "## Read out the Filtered Features"
   ]
  },
  {
   "cell_type": "code",
   "execution_count": null,
   "metadata": {},
   "outputs": [],
   "source": [
    "filtered_features = X_train.columns[features.]\n",
    "print(filtered_features)"
   ]
  },
  {
   "cell_type": "code",
   "execution_count": null,
   "metadata": {},
   "outputs": [],
   "source": [
    "filtered_features.to_csv"
   ]
  },
  {
   "cell_type": "code",
   "execution_count": null,
   "metadata": {},
   "outputs": [],
   "source": [
    "clf = RandomForestClassifier(n_estimators=100, random_state=17, max_depth=3)\n",
    "clf.fit(X_train[filtered_features], y_train)\n"
   ]
  },
  {
   "cell_type": "code",
   "execution_count": null,
   "metadata": {},
   "outputs": [],
   "source": [
    "train_pred = clf.predict_proba(X_train[filtered_features])\n",
    "\n",
    "print('Accuracy on training set: {}'.format(roc_auc_score(y_train, train_pred[:,1])))\n",
    "\n",
    "test_pred = clf.predict_proba(X_test[filtered_features].fillna(0))\n",
    "print('Accuracy on test set: {}'.format(roc_auc_score(y_test, test_pred [:,1])))"
   ]
  },
  {
   "cell_type": "code",
   "execution_count": null,
   "metadata": {},
   "outputs": [],
   "source": []
  }
 ],
 "metadata": {
  "kernelspec": {
   "display_name": "ins_env",
   "language": "python",
   "name": "ins_env"
  },
  "language_info": {
   "codemirror_mode": {
    "name": "ipython",
    "version": 3
   },
   "file_extension": ".py",
   "mimetype": "text/x-python",
   "name": "python",
   "nbconvert_exporter": "python",
   "pygments_lexer": "ipython3",
   "version": "3.7.7"
  }
 },
 "nbformat": 4,
 "nbformat_minor": 4
}

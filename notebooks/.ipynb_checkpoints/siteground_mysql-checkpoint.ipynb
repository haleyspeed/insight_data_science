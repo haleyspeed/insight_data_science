{
 "cells": [
  {
   "cell_type": "code",
   "execution_count": 1,
   "metadata": {},
   "outputs": [
    {
     "data": {
      "text/plain": [
       "'\\nImprove on this: \\n- with OOP\\n- make column names a list that gets passed to a table_maker string function\\n    - def table_maker (var_name, type_size, null_value, primary_key, auto_inc)\\n- db_change()\\n- table_exist()\\n- table_create()\\n'"
      ]
     },
     "execution_count": 1,
     "metadata": {},
     "output_type": "execute_result"
    }
   ],
   "source": [
    "\"\"\"\n",
    "Improve on this: \n",
    "- with OOP\n",
    "- make column names a list that gets passed to a table_maker string function\n",
    "    - def table_maker (var_name, type_size, null_value, primary_key, auto_inc)\n",
    "- db_change()\n",
    "- table_exist()\n",
    "- table_create()\n",
    "\"\"\"\n",
    "\n",
    "\n"
   ]
  },
  {
   "cell_type": "code",
   "execution_count": 2,
   "metadata": {},
   "outputs": [],
   "source": [
    "\n",
    "import mysql.connector\n",
    "from mysql.connector import errorcode\n",
    "from ephyspy import mysql_manager \n",
    "import configparser\n",
    "\n"
   ]
  },
  {
   "cell_type": "code",
   "execution_count": 4,
   "metadata": {},
   "outputs": [],
   "source": [
    "config = configparser.ConfigParser()\n",
    "config.read('sg_config.ini')\n",
    "DB_NAME = config.get('connections', 'DB_NAME')\n",
    "USER_NAME = config.get('connections', 'DB_USER')\n",
    "PWD = config.get('connections', 'DB_PWD')\n",
    "HOST_NAME = config.get('connections','DB_HOST')\n",
    "PORT = config.get('connections', 'DB_PORT')\n",
    "\n"
   ]
  },
  {
   "cell_type": "code",
   "execution_count": 59,
   "metadata": {},
   "outputs": [],
   "source": [
    "cnx = mysql.connector.connect(user = USER_NAME, \n",
    "    password = PWD, host = HOST_NAME, database = DB_NAME, \n",
    "    port = PORT)\n",
    "cursor = cnx.cursor(buffered = True)"
   ]
  },
  {
   "cell_type": "code",
   "execution_count": 60,
   "metadata": {},
   "outputs": [
    {
     "name": "stdout",
     "output_type": "stream",
     "text": [
      "Data base haleygee_olive  is alive.\n"
     ]
    }
   ],
   "source": [
    "mysql_manager.locate_database(cursor, DB_NAME)"
   ]
  },
  {
   "cell_type": "code",
   "execution_count": 36,
   "metadata": {},
   "outputs": [],
   "source": [
    "cursor.execute(\"SHOW TABLES\")"
   ]
  },
  {
   "cell_type": "code",
   "execution_count": 27,
   "metadata": {},
   "outputs": [],
   "source": [
    "sql = \"\"\"create table hero(id int auto_increment primary key,\n",
    "        name varchar(20) not null unique,\n",
    "        skill varchar(20) not null) engine=innodb default charset=utf8;\"\"\"\n",
    "cursor.execute(sql)"
   ]
  },
  {
   "cell_type": "code",
   "execution_count": 34,
   "metadata": {},
   "outputs": [
    {
     "name": "stdout",
     "output_type": "stream",
     "text": [
      "CREATE TABLE fft (id int auto_increment primary key, file_id varchar (100), strain varchar(50), cell int, conc_nmda int, ctr_2to8hz_peak float, nmda_2to8hz_peak float, pchange_2to8hz_peak float, ctr_2to8hz_mean float, nmda_2to8hz_mean float, pchange_2to8hz_mean float, ctr_3to6hz_peak float, nmda_3to6hz_peak float, pchange_3to6hz_peak float, ctr_3to6hz_mean float, nmda_3to6hz_mean float, pchange_3to6hz_mean float) engine=innodb default charset=utf8;\n"
     ]
    },
    {
     "ename": "ProgrammingError",
     "evalue": "1050 (42S01): Table 'fft' already exists",
     "output_type": "error",
     "traceback": [
      "\u001b[1;31m---------------------------------------------------------------------------\u001b[0m",
      "\u001b[1;31mProgrammingError\u001b[0m                          Traceback (most recent call last)",
      "\u001b[1;32m<ipython-input-34-cb40a1911eea>\u001b[0m in \u001b[0;36m<module>\u001b[1;34m\u001b[0m\n\u001b[0;32m     17\u001b[0m \u001b[0mprint\u001b[0m \u001b[1;33m(\u001b[0m\u001b[0msql\u001b[0m\u001b[1;33m)\u001b[0m\u001b[1;33m\u001b[0m\u001b[1;33m\u001b[0m\u001b[0m\n\u001b[0;32m     18\u001b[0m \u001b[1;33m\u001b[0m\u001b[0m\n\u001b[1;32m---> 19\u001b[1;33m \u001b[0mcursor\u001b[0m\u001b[1;33m.\u001b[0m\u001b[0mexecute\u001b[0m\u001b[1;33m(\u001b[0m\u001b[0msql\u001b[0m\u001b[1;33m)\u001b[0m\u001b[1;33m\u001b[0m\u001b[1;33m\u001b[0m\u001b[0m\n\u001b[0m\u001b[0;32m     20\u001b[0m \u001b[0mcnx\u001b[0m\u001b[1;33m.\u001b[0m\u001b[0mcommit\u001b[0m\u001b[1;33m(\u001b[0m\u001b[1;33m)\u001b[0m\u001b[1;33m\u001b[0m\u001b[1;33m\u001b[0m\u001b[0m\n",
      "\u001b[1;32m~\\Anaconda3\\lib\\site-packages\\mysql\\connector\\cursor.py\u001b[0m in \u001b[0;36mexecute\u001b[1;34m(self, operation, params, multi)\u001b[0m\n\u001b[0;32m    567\u001b[0m \u001b[1;33m\u001b[0m\u001b[0m\n\u001b[0;32m    568\u001b[0m         \u001b[1;32mtry\u001b[0m\u001b[1;33m:\u001b[0m\u001b[1;33m\u001b[0m\u001b[1;33m\u001b[0m\u001b[0m\n\u001b[1;32m--> 569\u001b[1;33m             \u001b[0mself\u001b[0m\u001b[1;33m.\u001b[0m\u001b[0m_handle_result\u001b[0m\u001b[1;33m(\u001b[0m\u001b[0mself\u001b[0m\u001b[1;33m.\u001b[0m\u001b[0m_connection\u001b[0m\u001b[1;33m.\u001b[0m\u001b[0mcmd_query\u001b[0m\u001b[1;33m(\u001b[0m\u001b[0mstmt\u001b[0m\u001b[1;33m)\u001b[0m\u001b[1;33m)\u001b[0m\u001b[1;33m\u001b[0m\u001b[1;33m\u001b[0m\u001b[0m\n\u001b[0m\u001b[0;32m    570\u001b[0m         \u001b[1;32mexcept\u001b[0m \u001b[0merrors\u001b[0m\u001b[1;33m.\u001b[0m\u001b[0mInterfaceError\u001b[0m\u001b[1;33m:\u001b[0m\u001b[1;33m\u001b[0m\u001b[1;33m\u001b[0m\u001b[0m\n\u001b[0;32m    571\u001b[0m             \u001b[1;32mif\u001b[0m \u001b[0mself\u001b[0m\u001b[1;33m.\u001b[0m\u001b[0m_connection\u001b[0m\u001b[1;33m.\u001b[0m\u001b[0m_have_next_result\u001b[0m\u001b[1;33m:\u001b[0m  \u001b[1;31m# pylint: disable=W0212\u001b[0m\u001b[1;33m\u001b[0m\u001b[1;33m\u001b[0m\u001b[0m\n",
      "\u001b[1;32m~\\Anaconda3\\lib\\site-packages\\mysql\\connector\\connection.py\u001b[0m in \u001b[0;36mcmd_query\u001b[1;34m(self, query, raw, buffered, raw_as_string)\u001b[0m\n\u001b[0;32m    596\u001b[0m         \u001b[1;32mif\u001b[0m \u001b[1;32mnot\u001b[0m \u001b[0misinstance\u001b[0m\u001b[1;33m(\u001b[0m\u001b[0mquery\u001b[0m\u001b[1;33m,\u001b[0m \u001b[0mbytes\u001b[0m\u001b[1;33m)\u001b[0m\u001b[1;33m:\u001b[0m\u001b[1;33m\u001b[0m\u001b[1;33m\u001b[0m\u001b[0m\n\u001b[0;32m    597\u001b[0m             \u001b[0mquery\u001b[0m \u001b[1;33m=\u001b[0m \u001b[0mquery\u001b[0m\u001b[1;33m.\u001b[0m\u001b[0mencode\u001b[0m\u001b[1;33m(\u001b[0m\u001b[1;34m'utf-8'\u001b[0m\u001b[1;33m)\u001b[0m\u001b[1;33m\u001b[0m\u001b[1;33m\u001b[0m\u001b[0m\n\u001b[1;32m--> 598\u001b[1;33m         \u001b[0mresult\u001b[0m \u001b[1;33m=\u001b[0m \u001b[0mself\u001b[0m\u001b[1;33m.\u001b[0m\u001b[0m_handle_result\u001b[0m\u001b[1;33m(\u001b[0m\u001b[0mself\u001b[0m\u001b[1;33m.\u001b[0m\u001b[0m_send_cmd\u001b[0m\u001b[1;33m(\u001b[0m\u001b[0mServerCmd\u001b[0m\u001b[1;33m.\u001b[0m\u001b[0mQUERY\u001b[0m\u001b[1;33m,\u001b[0m \u001b[0mquery\u001b[0m\u001b[1;33m)\u001b[0m\u001b[1;33m)\u001b[0m\u001b[1;33m\u001b[0m\u001b[1;33m\u001b[0m\u001b[0m\n\u001b[0m\u001b[0;32m    599\u001b[0m \u001b[1;33m\u001b[0m\u001b[0m\n\u001b[0;32m    600\u001b[0m         \u001b[1;32mif\u001b[0m \u001b[0mself\u001b[0m\u001b[1;33m.\u001b[0m\u001b[0m_have_next_result\u001b[0m\u001b[1;33m:\u001b[0m\u001b[1;33m\u001b[0m\u001b[1;33m\u001b[0m\u001b[0m\n",
      "\u001b[1;32m~\\Anaconda3\\lib\\site-packages\\mysql\\connector\\connection.py\u001b[0m in \u001b[0;36m_handle_result\u001b[1;34m(self, packet)\u001b[0m\n\u001b[0;32m    484\u001b[0m             \u001b[1;32mreturn\u001b[0m \u001b[0mself\u001b[0m\u001b[1;33m.\u001b[0m\u001b[0m_handle_eof\u001b[0m\u001b[1;33m(\u001b[0m\u001b[0mpacket\u001b[0m\u001b[1;33m)\u001b[0m\u001b[1;33m\u001b[0m\u001b[1;33m\u001b[0m\u001b[0m\n\u001b[0;32m    485\u001b[0m         \u001b[1;32melif\u001b[0m \u001b[0mpacket\u001b[0m\u001b[1;33m[\u001b[0m\u001b[1;36m4\u001b[0m\u001b[1;33m]\u001b[0m \u001b[1;33m==\u001b[0m \u001b[1;36m255\u001b[0m\u001b[1;33m:\u001b[0m\u001b[1;33m\u001b[0m\u001b[1;33m\u001b[0m\u001b[0m\n\u001b[1;32m--> 486\u001b[1;33m             \u001b[1;32mraise\u001b[0m \u001b[0merrors\u001b[0m\u001b[1;33m.\u001b[0m\u001b[0mget_exception\u001b[0m\u001b[1;33m(\u001b[0m\u001b[0mpacket\u001b[0m\u001b[1;33m)\u001b[0m\u001b[1;33m\u001b[0m\u001b[1;33m\u001b[0m\u001b[0m\n\u001b[0m\u001b[0;32m    487\u001b[0m \u001b[1;33m\u001b[0m\u001b[0m\n\u001b[0;32m    488\u001b[0m         \u001b[1;31m# We have a text result set\u001b[0m\u001b[1;33m\u001b[0m\u001b[1;33m\u001b[0m\u001b[1;33m\u001b[0m\u001b[0m\n",
      "\u001b[1;31mProgrammingError\u001b[0m: 1050 (42S01): Table 'fft' already exists"
     ]
    }
   ],
   "source": [
    "fields = ['id','file_id','strain', 'cell','conc_nmda', 'ctr_2to8hz_peak','nmda_2to8hz_peak','pchange_2to8hz_peak',\n",
    "          'ctr_2to8hz_mean','nmda_2to8hz_mean','pchange_2to8hz_mean','ctr_3to6hz_peak','nmda_3to6hz_peak',\n",
    "          'pchange_3to6hz_peak','ctr_3to6hz_mean','nmda_3to6hz_mean','pchange_3to6hz_mean']\n",
    "sizes = ['int auto_increment primary key', 'varchar (100)','varchar(50)','int','int','float','float','float','float','float','float','float','float',\n",
    "         'float','float','float','float']\n",
    "\n",
    "sql = \"CREATE TABLE fft (\"\n",
    "i = 0\n",
    "for field in fields:\n",
    "    if i == 0:\n",
    "        sql = sql + field + ' ' + sizes[i]\n",
    "    else:\n",
    "        sql = sql + ', ' + field + ' ' + sizes[i]\n",
    "    i = i + 1\n",
    "sql = sql + ') engine=innodb default charset=utf8;'\n",
    "\n",
    "print (sql)\n",
    "\n",
    "cursor.execute(sql)\n",
    "cnx.commit()\n"
   ]
  },
  {
   "cell_type": "code",
   "execution_count": 58,
   "metadata": {},
   "outputs": [
    {
     "name": "stdout",
     "output_type": "stream",
     "text": [
      "[(1, 'file_004', 'strain', 1, 5, 42.0, 54.0, 123.0, 54.0, 0.42, 0.42, 0.21, 0.12, 0.001, 0.24, 0.42, 145.0)]\n"
     ]
    }
   ],
   "source": [
    "sql = \"SELECT * FROM fft\"\n",
    "cursor.execute(sql)\n",
    "list1 = cursor.fetchall()\n",
    "print(list1)"
   ]
  },
  {
   "cell_type": "code",
   "execution_count": 51,
   "metadata": {},
   "outputs": [
    {
     "name": "stdout",
     "output_type": "stream",
     "text": [
      "INSERT INTO fft (file_id,strain,cell,conc_nmda,ctr_2to8hz_peak,nmda_2to8hz_peak,pchange_2to8hz_peak,ctr_2to8hz_mean,nmda_2to8hz_mean,pchange_2to8hz_mean,ctr_3to6hz_peak,nmda_3to6hz_peak,pchange_3to6hz_peak,ctr_3to6hz_mean,nmda_3to6hz_mean,pchange_3to6hz_mean) VALUES (%s,%s,%s,%s,%s,%s,%s,%s,%s,%s,%s,%s,%s,%s,%s,%s)\n"
     ]
    },
    {
     "ename": "AttributeError",
     "evalue": "'MySQLCursorBuffered' object has no attribute 'commit'",
     "output_type": "error",
     "traceback": [
      "\u001b[1;31m---------------------------------------------------------------------------\u001b[0m",
      "\u001b[1;31mAttributeError\u001b[0m                            Traceback (most recent call last)",
      "\u001b[1;32m<ipython-input-51-87ca8cb6b31c>\u001b[0m in \u001b[0;36m<module>\u001b[1;34m\u001b[0m\n\u001b[0;32m     35\u001b[0m \u001b[0mprint\u001b[0m \u001b[1;33m(\u001b[0m\u001b[0msql\u001b[0m\u001b[1;33m)\u001b[0m\u001b[1;33m\u001b[0m\u001b[1;33m\u001b[0m\u001b[0m\n\u001b[0;32m     36\u001b[0m \u001b[0mcursor\u001b[0m\u001b[1;33m.\u001b[0m\u001b[0mexecute\u001b[0m\u001b[1;33m(\u001b[0m\u001b[0msql\u001b[0m\u001b[1;33m,\u001b[0m \u001b[0mdata\u001b[0m\u001b[1;33m)\u001b[0m\u001b[1;33m\u001b[0m\u001b[1;33m\u001b[0m\u001b[0m\n\u001b[1;32m---> 37\u001b[1;33m \u001b[0mcursor\u001b[0m\u001b[1;33m.\u001b[0m\u001b[0mcommit\u001b[0m\u001b[1;33m(\u001b[0m\u001b[1;33m)\u001b[0m\u001b[1;33m\u001b[0m\u001b[1;33m\u001b[0m\u001b[0m\n\u001b[0m",
      "\u001b[1;31mAttributeError\u001b[0m: 'MySQLCursorBuffered' object has no attribute 'commit'"
     ]
    }
   ],
   "source": [
    "fields = ['file_id',\n",
    "          'strain', \n",
    "          'cell',\n",
    "          'conc_nmda', \n",
    "          'ctr_2to8hz_peak',\n",
    "          'nmda_2to8hz_peak',\n",
    "          'pchange_2to8hz_peak',\n",
    "          'ctr_2to8hz_mean',\n",
    "          'nmda_2to8hz_mean',\n",
    "          'pchange_2to8hz_mean',\n",
    "          'ctr_3to6hz_peak',\n",
    "          'nmda_3to6hz_peak',\n",
    "          'pchange_3to6hz_peak',\n",
    "          'ctr_3to6hz_mean',\n",
    "          'nmda_3to6hz_mean',\n",
    "          'pchange_3to6hz_mean']\n",
    "data = ['file_004',\n",
    "        'strain', \n",
    "        1, \n",
    "        5, \n",
    "        42, \n",
    "        54, \n",
    "        123, \n",
    "        54, \n",
    "        0.42, \n",
    "        0.42, \n",
    "        0.21,\n",
    "        0.12, \n",
    "        0.001, \n",
    "        0.24,\n",
    "        0.42,\n",
    "        145]\n",
    "\n",
    "sql = \"INSERT INTO fft (\"+ ','.join(fields) + ') VALUES (' + ','.join(['%s']*len(fields)) + ')'\n",
    "print (sql)\n",
    "cursor.execute(sql, data)\n",
    "cnx.commit()"
   ]
  },
  {
   "cell_type": "code",
   "execution_count": 52,
   "metadata": {},
   "outputs": [],
   "source": [
    "cnx.commit()\n"
   ]
  },
  {
   "cell_type": "code",
   "execution_count": 61,
   "metadata": {},
   "outputs": [],
   "source": [
    "\n",
    "sql = \"DELETE FROM fft WHERE id=1\"\n",
    "cursor.execute(sql)\n",
    "cnx.commit()"
   ]
  },
  {
   "cell_type": "code",
   "execution_count": null,
   "metadata": {},
   "outputs": [],
   "source": [
    "cnx.close()\n"
   ]
  }
 ],
 "metadata": {
  "kernelspec": {
   "display_name": "Python 3",
   "language": "python",
   "name": "python3"
  },
  "language_info": {
   "codemirror_mode": {
    "name": "ipython",
    "version": 3
   },
   "file_extension": ".py",
   "mimetype": "text/x-python",
   "name": "python",
   "nbconvert_exporter": "python",
   "pygments_lexer": "ipython3",
   "version": "3.8.2"
  }
 },
 "nbformat": 4,
 "nbformat_minor": 4
}

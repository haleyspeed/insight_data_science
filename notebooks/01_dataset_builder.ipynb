{
 "cells": [
  {
   "cell_type": "markdown",
   "metadata": {},
   "source": [
    "# SubScript Database Builder\n",
    "This notebook describes the pipeline for building the World of Warcraft Achievement Dataset. Each transformation in the pipeline was performed in batches across four machines using standalone scripts in multiple terminals per machine due to the large sample and feature sizes. "
   ]
  },
  {
   "cell_type": "markdown",
   "metadata": {},
   "source": [
    "## Defaults, Dependencies,  Definitions"
   ]
  },
  {
   "cell_type": "code",
   "execution_count": 42,
   "metadata": {},
   "outputs": [],
   "source": [
    "import subscript.config as cn\n",
    "import subscript.custom_funcs as cf\n",
    "import pandas as pd\n",
    "import os\n",
    "import numpy as np\n",
    "import mysql.connector\n",
    "from mysql.connector import errorcode\n",
    "import configparser as cp\n",
    "import glob\n",
    "import requests\n",
    "import json"
   ]
  },
  {
   "cell_type": "markdown",
   "metadata": {},
   "source": [
    "## Get top 500 leaderboards for major achievment categories"
   ]
  },
  {
   "cell_type": "markdown",
   "metadata": {},
   "source": [
    "#### From dataforazeroth.com (copied directly from report tables, no scraping necessary)"
   ]
  },
  {
   "cell_type": "code",
   "execution_count": 2,
   "metadata": {},
   "outputs": [],
   "source": [
    "dir_dataset = os.path.join(cn.raw_dir, 'dataforazeroth')\n",
    "dataforazeroth_set = cf.dataforazeroth (dir_dataset)\n",
    "cf.xlsx_to_csv (dir_dataset)"
   ]
  },
  {
   "cell_type": "markdown",
   "metadata": {},
   "source": [
    "#### Get Blizzard API access token"
   ]
  },
  {
   "cell_type": "code",
   "execution_count": 3,
   "metadata": {},
   "outputs": [],
   "source": [
    "f_config = os.path.join(cn.home_dir, '../', 'api', 'config.ini')\n",
    "conf = cp.ConfigParser()\n",
    "conf.read(f_config)\n",
    "blizzard_key = conf.get('KEYS', 'blizzard')\n",
    "blizzard_secret = conf.get('KEYS', 'blizzard_secret')\n",
    "locale = 'en_US'\n",
    "namespace = 'static-us'\n",
    "access_token = cf.get_access_token(blizzard_key, blizzard_secret)"
   ]
  },
  {
   "cell_type": "markdown",
   "metadata": {},
   "source": [
    "#### Quick method of processing json files retrieved by APIs"
   ]
  },
  {
   "cell_type": "code",
   "execution_count": 40,
   "metadata": {},
   "outputs": [],
   "source": [
    "def unpack_json(txt):\n",
    "    \"\"\"Converts json data from API calls into dicts and lists for parsing.\"\"\"\n",
    "    unpacked = json.loads(txt)\n",
    "    return unpacked"
   ]
  },
  {
   "cell_type": "markdown",
   "metadata": {},
   "source": [
    "#### From wowprogress.com (webscraped with BeautifulSoup)"
   ]
  },
  {
   "cell_type": "code",
   "execution_count": 4,
   "metadata": {
    "collapsed": true
   },
   "outputs": [
    {
     "name": "stdout",
     "output_type": "stream",
     "text": [
      "Downloading: us_aegwynn_tier23.json.gz\n",
      "Downloading: us_aegwynn_tier24.json.gz\n",
      "Downloading: us_aegwynn_tier25.json.gz\n",
      "Downloading: us_aegwynn_tier26.json.gz\n",
      "Downloading: us_aerie-peak_tier23.json.gz\n"
     ]
    },
    {
     "ename": "KeyboardInterrupt",
     "evalue": "",
     "output_type": "error",
     "traceback": [
      "\u001b[0;31m---------------------------------------------------------------------------\u001b[0m",
      "\u001b[0;31mKeyboardInterrupt\u001b[0m                         Traceback (most recent call last)",
      "\u001b[0;32m<ipython-input-4-d8f662a8e54d>\u001b[0m in \u001b[0;36m<module>\u001b[0;34m\u001b[0m\n\u001b[1;32m      5\u001b[0m \u001b[0mos\u001b[0m\u001b[0;34m.\u001b[0m\u001b[0mchdir\u001b[0m\u001b[0;34m(\u001b[0m\u001b[0mos\u001b[0m\u001b[0;34m.\u001b[0m\u001b[0mpath\u001b[0m\u001b[0;34m.\u001b[0m\u001b[0mjoin\u001b[0m\u001b[0;34m(\u001b[0m\u001b[0mcn\u001b[0m\u001b[0;34m.\u001b[0m\u001b[0mraw_dir\u001b[0m\u001b[0;34m,\u001b[0m \u001b[0;34m'wowprogress_reports'\u001b[0m\u001b[0;34m)\u001b[0m\u001b[0;34m)\u001b[0m\u001b[0;34m\u001b[0m\u001b[0;34m\u001b[0m\u001b[0m\n\u001b[1;32m      6\u001b[0m \u001b[0;34m\u001b[0m\u001b[0m\n\u001b[0;32m----> 7\u001b[0;31m \u001b[0mcf\u001b[0m\u001b[0;34m.\u001b[0m\u001b[0mget_wowprogress_by_realm\u001b[0m\u001b[0;34m(\u001b[0m\u001b[0mlocale\u001b[0m\u001b[0;34m,\u001b[0m \u001b[0mnamespace\u001b[0m\u001b[0;34m,\u001b[0m \u001b[0mbase_url\u001b[0m\u001b[0;34m,\u001b[0m \u001b[0maccess_token\u001b[0m\u001b[0;34m)\u001b[0m\u001b[0;34m\u001b[0m\u001b[0;34m\u001b[0m\u001b[0m\n\u001b[0m\u001b[1;32m      8\u001b[0m \u001b[0mwow_guilds\u001b[0m \u001b[0;34m=\u001b[0m \u001b[0mcf\u001b[0m\u001b[0;34m.\u001b[0m\u001b[0munpack_wowprogress_guild_ranks\u001b[0m\u001b[0;34m(\u001b[0m\u001b[0;34m)\u001b[0m\u001b[0;34m\u001b[0m\u001b[0;34m\u001b[0m\u001b[0m\n\u001b[1;32m      9\u001b[0m \u001b[0mwow_players\u001b[0m \u001b[0;34m=\u001b[0m \u001b[0mcf\u001b[0m\u001b[0;34m.\u001b[0m\u001b[0mget_wow_guild_rosters\u001b[0m\u001b[0;34m(\u001b[0m\u001b[0;34m'wow_guild_rankings.csv'\u001b[0m\u001b[0;34m)\u001b[0m\u001b[0;34m\u001b[0m\u001b[0;34m\u001b[0m\u001b[0m\n",
      "\u001b[0;32m~/Docs/insight/ins_env/lib/python3.7/site-packages/subscript-1.0-py3.7.egg/subscript/custom_funcs.py\u001b[0m in \u001b[0;36mget_wowprogress_by_realm\u001b[0;34m(locale, namespace, base_url, access_token)\u001b[0m\n\u001b[1;32m    119\u001b[0m                 \u001b[0;32mif\u001b[0m \u001b[0mrealm\u001b[0m \u001b[0;32min\u001b[0m \u001b[0mlink\u001b[0m \u001b[0;32mand\u001b[0m \u001b[0;34m'us_'\u001b[0m \u001b[0;32min\u001b[0m \u001b[0mlink\u001b[0m\u001b[0;34m[\u001b[0m\u001b[0;34m:\u001b[0m\u001b[0;36m3\u001b[0m\u001b[0;34m]\u001b[0m\u001b[0;34m:\u001b[0m\u001b[0;34m\u001b[0m\u001b[0;34m\u001b[0m\u001b[0m\n\u001b[1;32m    120\u001b[0m                     \u001b[0mprint\u001b[0m\u001b[0;34m(\u001b[0m\u001b[0;34m'Downloading: '\u001b[0m \u001b[0;34m+\u001b[0m \u001b[0mlink\u001b[0m\u001b[0;34m)\u001b[0m\u001b[0;34m\u001b[0m\u001b[0;34m\u001b[0m\u001b[0m\n\u001b[0;32m--> 121\u001b[0;31m                     \u001b[0mget_wowprogress_rank_list\u001b[0m\u001b[0;34m(\u001b[0m\u001b[0mlink\u001b[0m\u001b[0;34m,\u001b[0m \u001b[0mlocale\u001b[0m\u001b[0;34m,\u001b[0m \u001b[0mbase_url\u001b[0m\u001b[0;34m,\u001b[0m\u001b[0mdf\u001b[0m\u001b[0;34m)\u001b[0m\u001b[0;34m\u001b[0m\u001b[0;34m\u001b[0m\u001b[0m\n\u001b[0m\u001b[1;32m    122\u001b[0m \u001b[0;34m\u001b[0m\u001b[0m\n\u001b[1;32m    123\u001b[0m \u001b[0;32mdef\u001b[0m \u001b[0mget_wow_achievements_category\u001b[0m\u001b[0;34m(\u001b[0m\u001b[0mnamespace\u001b[0m\u001b[0;34m,\u001b[0m \u001b[0mlocale\u001b[0m\u001b[0;34m,\u001b[0m \u001b[0maccess_token\u001b[0m\u001b[0;34m)\u001b[0m\u001b[0;34m:\u001b[0m\u001b[0;34m\u001b[0m\u001b[0;34m\u001b[0m\u001b[0m\n",
      "\u001b[0;32m~/Docs/insight/ins_env/lib/python3.7/site-packages/subscript-1.0-py3.7.egg/subscript/custom_funcs.py\u001b[0m in \u001b[0;36mget_wowprogress_rank_list\u001b[0;34m(rank_list_name, locale, base_url, df)\u001b[0m\n\u001b[1;32m     73\u001b[0m     \u001b[0;34m\"\"\"Downloads guild rankings for each realm provided\"\"\"\u001b[0m\u001b[0;34m\u001b[0m\u001b[0;34m\u001b[0m\u001b[0m\n\u001b[1;32m     74\u001b[0m     \u001b[0murl\u001b[0m \u001b[0;34m=\u001b[0m \u001b[0mbase_url\u001b[0m \u001b[0;34m+\u001b[0m \u001b[0mrank_list_name\u001b[0m\u001b[0;34m\u001b[0m\u001b[0;34m\u001b[0m\u001b[0m\n\u001b[0;32m---> 75\u001b[0;31m     \u001b[0mtar_file\u001b[0m \u001b[0;34m=\u001b[0m \u001b[0mwget\u001b[0m\u001b[0;34m.\u001b[0m\u001b[0mdownload\u001b[0m\u001b[0;34m(\u001b[0m\u001b[0murl\u001b[0m\u001b[0;34m)\u001b[0m\u001b[0;34m\u001b[0m\u001b[0;34m\u001b[0m\u001b[0m\n\u001b[0m\u001b[1;32m     76\u001b[0m \u001b[0;34m\u001b[0m\u001b[0m\n\u001b[1;32m     77\u001b[0m \u001b[0;34m\u001b[0m\u001b[0m\n",
      "\u001b[0;32m~/Docs/insight/ins_env/lib/python3.7/site-packages/wget.py\u001b[0m in \u001b[0;36mdownload\u001b[0;34m(url, out, bar)\u001b[0m\n\u001b[1;32m    524\u001b[0m     \u001b[0;32melse\u001b[0m\u001b[0;34m:\u001b[0m\u001b[0;34m\u001b[0m\u001b[0;34m\u001b[0m\u001b[0m\n\u001b[1;32m    525\u001b[0m         \u001b[0mbinurl\u001b[0m \u001b[0;34m=\u001b[0m \u001b[0murl\u001b[0m\u001b[0;34m\u001b[0m\u001b[0;34m\u001b[0m\u001b[0m\n\u001b[0;32m--> 526\u001b[0;31m     \u001b[0;34m(\u001b[0m\u001b[0mtmpfile\u001b[0m\u001b[0;34m,\u001b[0m \u001b[0mheaders\u001b[0m\u001b[0;34m)\u001b[0m \u001b[0;34m=\u001b[0m \u001b[0mulib\u001b[0m\u001b[0;34m.\u001b[0m\u001b[0murlretrieve\u001b[0m\u001b[0;34m(\u001b[0m\u001b[0mbinurl\u001b[0m\u001b[0;34m,\u001b[0m \u001b[0mtmpfile\u001b[0m\u001b[0;34m,\u001b[0m \u001b[0mcallback\u001b[0m\u001b[0;34m)\u001b[0m\u001b[0;34m\u001b[0m\u001b[0;34m\u001b[0m\u001b[0m\n\u001b[0m\u001b[1;32m    527\u001b[0m     \u001b[0mfilename\u001b[0m \u001b[0;34m=\u001b[0m \u001b[0mdetect_filename\u001b[0m\u001b[0;34m(\u001b[0m\u001b[0murl\u001b[0m\u001b[0;34m,\u001b[0m \u001b[0mout\u001b[0m\u001b[0;34m,\u001b[0m \u001b[0mheaders\u001b[0m\u001b[0;34m)\u001b[0m\u001b[0;34m\u001b[0m\u001b[0;34m\u001b[0m\u001b[0m\n\u001b[1;32m    528\u001b[0m     \u001b[0;32mif\u001b[0m \u001b[0moutdir\u001b[0m\u001b[0;34m:\u001b[0m\u001b[0;34m\u001b[0m\u001b[0;34m\u001b[0m\u001b[0m\n",
      "\u001b[0;32m/usr/local/Cellar/python/3.7.7/Frameworks/Python.framework/Versions/3.7/lib/python3.7/urllib/request.py\u001b[0m in \u001b[0;36murlretrieve\u001b[0;34m(url, filename, reporthook, data)\u001b[0m\n\u001b[1;32m    245\u001b[0m     \u001b[0murl_type\u001b[0m\u001b[0;34m,\u001b[0m \u001b[0mpath\u001b[0m \u001b[0;34m=\u001b[0m \u001b[0msplittype\u001b[0m\u001b[0;34m(\u001b[0m\u001b[0murl\u001b[0m\u001b[0;34m)\u001b[0m\u001b[0;34m\u001b[0m\u001b[0;34m\u001b[0m\u001b[0m\n\u001b[1;32m    246\u001b[0m \u001b[0;34m\u001b[0m\u001b[0m\n\u001b[0;32m--> 247\u001b[0;31m     \u001b[0;32mwith\u001b[0m \u001b[0mcontextlib\u001b[0m\u001b[0;34m.\u001b[0m\u001b[0mclosing\u001b[0m\u001b[0;34m(\u001b[0m\u001b[0murlopen\u001b[0m\u001b[0;34m(\u001b[0m\u001b[0murl\u001b[0m\u001b[0;34m,\u001b[0m \u001b[0mdata\u001b[0m\u001b[0;34m)\u001b[0m\u001b[0;34m)\u001b[0m \u001b[0;32mas\u001b[0m \u001b[0mfp\u001b[0m\u001b[0;34m:\u001b[0m\u001b[0;34m\u001b[0m\u001b[0;34m\u001b[0m\u001b[0m\n\u001b[0m\u001b[1;32m    248\u001b[0m         \u001b[0mheaders\u001b[0m \u001b[0;34m=\u001b[0m \u001b[0mfp\u001b[0m\u001b[0;34m.\u001b[0m\u001b[0minfo\u001b[0m\u001b[0;34m(\u001b[0m\u001b[0;34m)\u001b[0m\u001b[0;34m\u001b[0m\u001b[0;34m\u001b[0m\u001b[0m\n\u001b[1;32m    249\u001b[0m \u001b[0;34m\u001b[0m\u001b[0m\n",
      "\u001b[0;32m/usr/local/Cellar/python/3.7.7/Frameworks/Python.framework/Versions/3.7/lib/python3.7/urllib/request.py\u001b[0m in \u001b[0;36murlopen\u001b[0;34m(url, data, timeout, cafile, capath, cadefault, context)\u001b[0m\n\u001b[1;32m    220\u001b[0m     \u001b[0;32melse\u001b[0m\u001b[0;34m:\u001b[0m\u001b[0;34m\u001b[0m\u001b[0;34m\u001b[0m\u001b[0m\n\u001b[1;32m    221\u001b[0m         \u001b[0mopener\u001b[0m \u001b[0;34m=\u001b[0m \u001b[0m_opener\u001b[0m\u001b[0;34m\u001b[0m\u001b[0;34m\u001b[0m\u001b[0m\n\u001b[0;32m--> 222\u001b[0;31m     \u001b[0;32mreturn\u001b[0m \u001b[0mopener\u001b[0m\u001b[0;34m.\u001b[0m\u001b[0mopen\u001b[0m\u001b[0;34m(\u001b[0m\u001b[0murl\u001b[0m\u001b[0;34m,\u001b[0m \u001b[0mdata\u001b[0m\u001b[0;34m,\u001b[0m \u001b[0mtimeout\u001b[0m\u001b[0;34m)\u001b[0m\u001b[0;34m\u001b[0m\u001b[0;34m\u001b[0m\u001b[0m\n\u001b[0m\u001b[1;32m    223\u001b[0m \u001b[0;34m\u001b[0m\u001b[0m\n\u001b[1;32m    224\u001b[0m \u001b[0;32mdef\u001b[0m \u001b[0minstall_opener\u001b[0m\u001b[0;34m(\u001b[0m\u001b[0mopener\u001b[0m\u001b[0;34m)\u001b[0m\u001b[0;34m:\u001b[0m\u001b[0;34m\u001b[0m\u001b[0;34m\u001b[0m\u001b[0m\n",
      "\u001b[0;32m/usr/local/Cellar/python/3.7.7/Frameworks/Python.framework/Versions/3.7/lib/python3.7/urllib/request.py\u001b[0m in \u001b[0;36mopen\u001b[0;34m(self, fullurl, data, timeout)\u001b[0m\n\u001b[1;32m    523\u001b[0m             \u001b[0mreq\u001b[0m \u001b[0;34m=\u001b[0m \u001b[0mmeth\u001b[0m\u001b[0;34m(\u001b[0m\u001b[0mreq\u001b[0m\u001b[0;34m)\u001b[0m\u001b[0;34m\u001b[0m\u001b[0;34m\u001b[0m\u001b[0m\n\u001b[1;32m    524\u001b[0m \u001b[0;34m\u001b[0m\u001b[0m\n\u001b[0;32m--> 525\u001b[0;31m         \u001b[0mresponse\u001b[0m \u001b[0;34m=\u001b[0m \u001b[0mself\u001b[0m\u001b[0;34m.\u001b[0m\u001b[0m_open\u001b[0m\u001b[0;34m(\u001b[0m\u001b[0mreq\u001b[0m\u001b[0;34m,\u001b[0m \u001b[0mdata\u001b[0m\u001b[0;34m)\u001b[0m\u001b[0;34m\u001b[0m\u001b[0;34m\u001b[0m\u001b[0m\n\u001b[0m\u001b[1;32m    526\u001b[0m \u001b[0;34m\u001b[0m\u001b[0m\n\u001b[1;32m    527\u001b[0m         \u001b[0;31m# post-process response\u001b[0m\u001b[0;34m\u001b[0m\u001b[0;34m\u001b[0m\u001b[0;34m\u001b[0m\u001b[0m\n",
      "\u001b[0;32m/usr/local/Cellar/python/3.7.7/Frameworks/Python.framework/Versions/3.7/lib/python3.7/urllib/request.py\u001b[0m in \u001b[0;36m_open\u001b[0;34m(self, req, data)\u001b[0m\n\u001b[1;32m    541\u001b[0m         \u001b[0mprotocol\u001b[0m \u001b[0;34m=\u001b[0m \u001b[0mreq\u001b[0m\u001b[0;34m.\u001b[0m\u001b[0mtype\u001b[0m\u001b[0;34m\u001b[0m\u001b[0;34m\u001b[0m\u001b[0m\n\u001b[1;32m    542\u001b[0m         result = self._call_chain(self.handle_open, protocol, protocol +\n\u001b[0;32m--> 543\u001b[0;31m                                   '_open', req)\n\u001b[0m\u001b[1;32m    544\u001b[0m         \u001b[0;32mif\u001b[0m \u001b[0mresult\u001b[0m\u001b[0;34m:\u001b[0m\u001b[0;34m\u001b[0m\u001b[0;34m\u001b[0m\u001b[0m\n\u001b[1;32m    545\u001b[0m             \u001b[0;32mreturn\u001b[0m \u001b[0mresult\u001b[0m\u001b[0;34m\u001b[0m\u001b[0;34m\u001b[0m\u001b[0m\n",
      "\u001b[0;32m/usr/local/Cellar/python/3.7.7/Frameworks/Python.framework/Versions/3.7/lib/python3.7/urllib/request.py\u001b[0m in \u001b[0;36m_call_chain\u001b[0;34m(self, chain, kind, meth_name, *args)\u001b[0m\n\u001b[1;32m    501\u001b[0m         \u001b[0;32mfor\u001b[0m \u001b[0mhandler\u001b[0m \u001b[0;32min\u001b[0m \u001b[0mhandlers\u001b[0m\u001b[0;34m:\u001b[0m\u001b[0;34m\u001b[0m\u001b[0;34m\u001b[0m\u001b[0m\n\u001b[1;32m    502\u001b[0m             \u001b[0mfunc\u001b[0m \u001b[0;34m=\u001b[0m \u001b[0mgetattr\u001b[0m\u001b[0;34m(\u001b[0m\u001b[0mhandler\u001b[0m\u001b[0;34m,\u001b[0m \u001b[0mmeth_name\u001b[0m\u001b[0;34m)\u001b[0m\u001b[0;34m\u001b[0m\u001b[0;34m\u001b[0m\u001b[0m\n\u001b[0;32m--> 503\u001b[0;31m             \u001b[0mresult\u001b[0m \u001b[0;34m=\u001b[0m \u001b[0mfunc\u001b[0m\u001b[0;34m(\u001b[0m\u001b[0;34m*\u001b[0m\u001b[0margs\u001b[0m\u001b[0;34m)\u001b[0m\u001b[0;34m\u001b[0m\u001b[0;34m\u001b[0m\u001b[0m\n\u001b[0m\u001b[1;32m    504\u001b[0m             \u001b[0;32mif\u001b[0m \u001b[0mresult\u001b[0m \u001b[0;32mis\u001b[0m \u001b[0;32mnot\u001b[0m \u001b[0;32mNone\u001b[0m\u001b[0;34m:\u001b[0m\u001b[0;34m\u001b[0m\u001b[0;34m\u001b[0m\u001b[0m\n\u001b[1;32m    505\u001b[0m                 \u001b[0;32mreturn\u001b[0m \u001b[0mresult\u001b[0m\u001b[0;34m\u001b[0m\u001b[0;34m\u001b[0m\u001b[0m\n",
      "\u001b[0;32m/usr/local/Cellar/python/3.7.7/Frameworks/Python.framework/Versions/3.7/lib/python3.7/urllib/request.py\u001b[0m in \u001b[0;36mhttps_open\u001b[0;34m(self, req)\u001b[0m\n\u001b[1;32m   1360\u001b[0m         \u001b[0;32mdef\u001b[0m \u001b[0mhttps_open\u001b[0m\u001b[0;34m(\u001b[0m\u001b[0mself\u001b[0m\u001b[0;34m,\u001b[0m \u001b[0mreq\u001b[0m\u001b[0;34m)\u001b[0m\u001b[0;34m:\u001b[0m\u001b[0;34m\u001b[0m\u001b[0;34m\u001b[0m\u001b[0m\n\u001b[1;32m   1361\u001b[0m             return self.do_open(http.client.HTTPSConnection, req,\n\u001b[0;32m-> 1362\u001b[0;31m                 context=self._context, check_hostname=self._check_hostname)\n\u001b[0m\u001b[1;32m   1363\u001b[0m \u001b[0;34m\u001b[0m\u001b[0m\n\u001b[1;32m   1364\u001b[0m         \u001b[0mhttps_request\u001b[0m \u001b[0;34m=\u001b[0m \u001b[0mAbstractHTTPHandler\u001b[0m\u001b[0;34m.\u001b[0m\u001b[0mdo_request_\u001b[0m\u001b[0;34m\u001b[0m\u001b[0;34m\u001b[0m\u001b[0m\n",
      "\u001b[0;32m/usr/local/Cellar/python/3.7.7/Frameworks/Python.framework/Versions/3.7/lib/python3.7/urllib/request.py\u001b[0m in \u001b[0;36mdo_open\u001b[0;34m(self, http_class, req, **http_conn_args)\u001b[0m\n\u001b[1;32m   1317\u001b[0m             \u001b[0;32mtry\u001b[0m\u001b[0;34m:\u001b[0m\u001b[0;34m\u001b[0m\u001b[0;34m\u001b[0m\u001b[0m\n\u001b[1;32m   1318\u001b[0m                 h.request(req.get_method(), req.selector, req.data, headers,\n\u001b[0;32m-> 1319\u001b[0;31m                           encode_chunked=req.has_header('Transfer-encoding'))\n\u001b[0m\u001b[1;32m   1320\u001b[0m             \u001b[0;32mexcept\u001b[0m \u001b[0mOSError\u001b[0m \u001b[0;32mas\u001b[0m \u001b[0merr\u001b[0m\u001b[0;34m:\u001b[0m \u001b[0;31m# timeout error\u001b[0m\u001b[0;34m\u001b[0m\u001b[0;34m\u001b[0m\u001b[0m\n\u001b[1;32m   1321\u001b[0m                 \u001b[0;32mraise\u001b[0m \u001b[0mURLError\u001b[0m\u001b[0;34m(\u001b[0m\u001b[0merr\u001b[0m\u001b[0;34m)\u001b[0m\u001b[0;34m\u001b[0m\u001b[0;34m\u001b[0m\u001b[0m\n",
      "\u001b[0;32m/usr/local/Cellar/python/3.7.7/Frameworks/Python.framework/Versions/3.7/lib/python3.7/http/client.py\u001b[0m in \u001b[0;36mrequest\u001b[0;34m(self, method, url, body, headers, encode_chunked)\u001b[0m\n\u001b[1;32m   1250\u001b[0m                 encode_chunked=False):\n\u001b[1;32m   1251\u001b[0m         \u001b[0;34m\"\"\"Send a complete request to the server.\"\"\"\u001b[0m\u001b[0;34m\u001b[0m\u001b[0;34m\u001b[0m\u001b[0m\n\u001b[0;32m-> 1252\u001b[0;31m         \u001b[0mself\u001b[0m\u001b[0;34m.\u001b[0m\u001b[0m_send_request\u001b[0m\u001b[0;34m(\u001b[0m\u001b[0mmethod\u001b[0m\u001b[0;34m,\u001b[0m \u001b[0murl\u001b[0m\u001b[0;34m,\u001b[0m \u001b[0mbody\u001b[0m\u001b[0;34m,\u001b[0m \u001b[0mheaders\u001b[0m\u001b[0;34m,\u001b[0m \u001b[0mencode_chunked\u001b[0m\u001b[0;34m)\u001b[0m\u001b[0;34m\u001b[0m\u001b[0;34m\u001b[0m\u001b[0m\n\u001b[0m\u001b[1;32m   1253\u001b[0m \u001b[0;34m\u001b[0m\u001b[0m\n\u001b[1;32m   1254\u001b[0m     \u001b[0;32mdef\u001b[0m \u001b[0m_send_request\u001b[0m\u001b[0;34m(\u001b[0m\u001b[0mself\u001b[0m\u001b[0;34m,\u001b[0m \u001b[0mmethod\u001b[0m\u001b[0;34m,\u001b[0m \u001b[0murl\u001b[0m\u001b[0;34m,\u001b[0m \u001b[0mbody\u001b[0m\u001b[0;34m,\u001b[0m \u001b[0mheaders\u001b[0m\u001b[0;34m,\u001b[0m \u001b[0mencode_chunked\u001b[0m\u001b[0;34m)\u001b[0m\u001b[0;34m:\u001b[0m\u001b[0;34m\u001b[0m\u001b[0;34m\u001b[0m\u001b[0m\n",
      "\u001b[0;32m/usr/local/Cellar/python/3.7.7/Frameworks/Python.framework/Versions/3.7/lib/python3.7/http/client.py\u001b[0m in \u001b[0;36m_send_request\u001b[0;34m(self, method, url, body, headers, encode_chunked)\u001b[0m\n\u001b[1;32m   1296\u001b[0m             \u001b[0;31m# default charset of iso-8859-1.\u001b[0m\u001b[0;34m\u001b[0m\u001b[0;34m\u001b[0m\u001b[0;34m\u001b[0m\u001b[0m\n\u001b[1;32m   1297\u001b[0m             \u001b[0mbody\u001b[0m \u001b[0;34m=\u001b[0m \u001b[0m_encode\u001b[0m\u001b[0;34m(\u001b[0m\u001b[0mbody\u001b[0m\u001b[0;34m,\u001b[0m \u001b[0;34m'body'\u001b[0m\u001b[0;34m)\u001b[0m\u001b[0;34m\u001b[0m\u001b[0;34m\u001b[0m\u001b[0m\n\u001b[0;32m-> 1298\u001b[0;31m         \u001b[0mself\u001b[0m\u001b[0;34m.\u001b[0m\u001b[0mendheaders\u001b[0m\u001b[0;34m(\u001b[0m\u001b[0mbody\u001b[0m\u001b[0;34m,\u001b[0m \u001b[0mencode_chunked\u001b[0m\u001b[0;34m=\u001b[0m\u001b[0mencode_chunked\u001b[0m\u001b[0;34m)\u001b[0m\u001b[0;34m\u001b[0m\u001b[0;34m\u001b[0m\u001b[0m\n\u001b[0m\u001b[1;32m   1299\u001b[0m \u001b[0;34m\u001b[0m\u001b[0m\n\u001b[1;32m   1300\u001b[0m     \u001b[0;32mdef\u001b[0m \u001b[0mgetresponse\u001b[0m\u001b[0;34m(\u001b[0m\u001b[0mself\u001b[0m\u001b[0;34m)\u001b[0m\u001b[0;34m:\u001b[0m\u001b[0;34m\u001b[0m\u001b[0;34m\u001b[0m\u001b[0m\n",
      "\u001b[0;32m/usr/local/Cellar/python/3.7.7/Frameworks/Python.framework/Versions/3.7/lib/python3.7/http/client.py\u001b[0m in \u001b[0;36mendheaders\u001b[0;34m(self, message_body, encode_chunked)\u001b[0m\n\u001b[1;32m   1245\u001b[0m         \u001b[0;32melse\u001b[0m\u001b[0;34m:\u001b[0m\u001b[0;34m\u001b[0m\u001b[0;34m\u001b[0m\u001b[0m\n\u001b[1;32m   1246\u001b[0m             \u001b[0;32mraise\u001b[0m \u001b[0mCannotSendHeader\u001b[0m\u001b[0;34m(\u001b[0m\u001b[0;34m)\u001b[0m\u001b[0;34m\u001b[0m\u001b[0;34m\u001b[0m\u001b[0m\n\u001b[0;32m-> 1247\u001b[0;31m         \u001b[0mself\u001b[0m\u001b[0;34m.\u001b[0m\u001b[0m_send_output\u001b[0m\u001b[0;34m(\u001b[0m\u001b[0mmessage_body\u001b[0m\u001b[0;34m,\u001b[0m \u001b[0mencode_chunked\u001b[0m\u001b[0;34m=\u001b[0m\u001b[0mencode_chunked\u001b[0m\u001b[0;34m)\u001b[0m\u001b[0;34m\u001b[0m\u001b[0;34m\u001b[0m\u001b[0m\n\u001b[0m\u001b[1;32m   1248\u001b[0m \u001b[0;34m\u001b[0m\u001b[0m\n\u001b[1;32m   1249\u001b[0m     def request(self, method, url, body=None, headers={}, *,\n",
      "\u001b[0;32m/usr/local/Cellar/python/3.7.7/Frameworks/Python.framework/Versions/3.7/lib/python3.7/http/client.py\u001b[0m in \u001b[0;36m_send_output\u001b[0;34m(self, message_body, encode_chunked)\u001b[0m\n\u001b[1;32m   1024\u001b[0m         \u001b[0mmsg\u001b[0m \u001b[0;34m=\u001b[0m \u001b[0;34mb\"\\r\\n\"\u001b[0m\u001b[0;34m.\u001b[0m\u001b[0mjoin\u001b[0m\u001b[0;34m(\u001b[0m\u001b[0mself\u001b[0m\u001b[0;34m.\u001b[0m\u001b[0m_buffer\u001b[0m\u001b[0;34m)\u001b[0m\u001b[0;34m\u001b[0m\u001b[0;34m\u001b[0m\u001b[0m\n\u001b[1;32m   1025\u001b[0m         \u001b[0;32mdel\u001b[0m \u001b[0mself\u001b[0m\u001b[0;34m.\u001b[0m\u001b[0m_buffer\u001b[0m\u001b[0;34m[\u001b[0m\u001b[0;34m:\u001b[0m\u001b[0;34m]\u001b[0m\u001b[0;34m\u001b[0m\u001b[0;34m\u001b[0m\u001b[0m\n\u001b[0;32m-> 1026\u001b[0;31m         \u001b[0mself\u001b[0m\u001b[0;34m.\u001b[0m\u001b[0msend\u001b[0m\u001b[0;34m(\u001b[0m\u001b[0mmsg\u001b[0m\u001b[0;34m)\u001b[0m\u001b[0;34m\u001b[0m\u001b[0;34m\u001b[0m\u001b[0m\n\u001b[0m\u001b[1;32m   1027\u001b[0m \u001b[0;34m\u001b[0m\u001b[0m\n\u001b[1;32m   1028\u001b[0m         \u001b[0;32mif\u001b[0m \u001b[0mmessage_body\u001b[0m \u001b[0;32mis\u001b[0m \u001b[0;32mnot\u001b[0m \u001b[0;32mNone\u001b[0m\u001b[0;34m:\u001b[0m\u001b[0;34m\u001b[0m\u001b[0;34m\u001b[0m\u001b[0m\n",
      "\u001b[0;32m/usr/local/Cellar/python/3.7.7/Frameworks/Python.framework/Versions/3.7/lib/python3.7/http/client.py\u001b[0m in \u001b[0;36msend\u001b[0;34m(self, data)\u001b[0m\n\u001b[1;32m    964\u001b[0m         \u001b[0;32mif\u001b[0m \u001b[0mself\u001b[0m\u001b[0;34m.\u001b[0m\u001b[0msock\u001b[0m \u001b[0;32mis\u001b[0m \u001b[0;32mNone\u001b[0m\u001b[0;34m:\u001b[0m\u001b[0;34m\u001b[0m\u001b[0;34m\u001b[0m\u001b[0m\n\u001b[1;32m    965\u001b[0m             \u001b[0;32mif\u001b[0m \u001b[0mself\u001b[0m\u001b[0;34m.\u001b[0m\u001b[0mauto_open\u001b[0m\u001b[0;34m:\u001b[0m\u001b[0;34m\u001b[0m\u001b[0;34m\u001b[0m\u001b[0m\n\u001b[0;32m--> 966\u001b[0;31m                 \u001b[0mself\u001b[0m\u001b[0;34m.\u001b[0m\u001b[0mconnect\u001b[0m\u001b[0;34m(\u001b[0m\u001b[0;34m)\u001b[0m\u001b[0;34m\u001b[0m\u001b[0;34m\u001b[0m\u001b[0m\n\u001b[0m\u001b[1;32m    967\u001b[0m             \u001b[0;32melse\u001b[0m\u001b[0;34m:\u001b[0m\u001b[0;34m\u001b[0m\u001b[0;34m\u001b[0m\u001b[0m\n\u001b[1;32m    968\u001b[0m                 \u001b[0;32mraise\u001b[0m \u001b[0mNotConnected\u001b[0m\u001b[0;34m(\u001b[0m\u001b[0;34m)\u001b[0m\u001b[0;34m\u001b[0m\u001b[0;34m\u001b[0m\u001b[0m\n",
      "\u001b[0;32m/usr/local/Cellar/python/3.7.7/Frameworks/Python.framework/Versions/3.7/lib/python3.7/http/client.py\u001b[0m in \u001b[0;36mconnect\u001b[0;34m(self)\u001b[0m\n\u001b[1;32m   1420\u001b[0m \u001b[0;34m\u001b[0m\u001b[0m\n\u001b[1;32m   1421\u001b[0m             self.sock = self._context.wrap_socket(self.sock,\n\u001b[0;32m-> 1422\u001b[0;31m                                                   server_hostname=server_hostname)\n\u001b[0m\u001b[1;32m   1423\u001b[0m \u001b[0;34m\u001b[0m\u001b[0m\n\u001b[1;32m   1424\u001b[0m     \u001b[0m__all__\u001b[0m\u001b[0;34m.\u001b[0m\u001b[0mappend\u001b[0m\u001b[0;34m(\u001b[0m\u001b[0;34m\"HTTPSConnection\"\u001b[0m\u001b[0;34m)\u001b[0m\u001b[0;34m\u001b[0m\u001b[0;34m\u001b[0m\u001b[0m\n",
      "\u001b[0;32m/usr/local/Cellar/python/3.7.7/Frameworks/Python.framework/Versions/3.7/lib/python3.7/ssl.py\u001b[0m in \u001b[0;36mwrap_socket\u001b[0;34m(self, sock, server_side, do_handshake_on_connect, suppress_ragged_eofs, server_hostname, session)\u001b[0m\n\u001b[1;32m    421\u001b[0m             \u001b[0mserver_hostname\u001b[0m\u001b[0;34m=\u001b[0m\u001b[0mserver_hostname\u001b[0m\u001b[0;34m,\u001b[0m\u001b[0;34m\u001b[0m\u001b[0;34m\u001b[0m\u001b[0m\n\u001b[1;32m    422\u001b[0m             \u001b[0mcontext\u001b[0m\u001b[0;34m=\u001b[0m\u001b[0mself\u001b[0m\u001b[0;34m,\u001b[0m\u001b[0;34m\u001b[0m\u001b[0;34m\u001b[0m\u001b[0m\n\u001b[0;32m--> 423\u001b[0;31m             \u001b[0msession\u001b[0m\u001b[0;34m=\u001b[0m\u001b[0msession\u001b[0m\u001b[0;34m\u001b[0m\u001b[0;34m\u001b[0m\u001b[0m\n\u001b[0m\u001b[1;32m    424\u001b[0m         )\n\u001b[1;32m    425\u001b[0m \u001b[0;34m\u001b[0m\u001b[0m\n",
      "\u001b[0;32m/usr/local/Cellar/python/3.7.7/Frameworks/Python.framework/Versions/3.7/lib/python3.7/ssl.py\u001b[0m in \u001b[0;36m_create\u001b[0;34m(cls, sock, server_side, do_handshake_on_connect, suppress_ragged_eofs, server_hostname, context, session)\u001b[0m\n\u001b[1;32m    868\u001b[0m                         \u001b[0;31m# non-blocking\u001b[0m\u001b[0;34m\u001b[0m\u001b[0;34m\u001b[0m\u001b[0;34m\u001b[0m\u001b[0m\n\u001b[1;32m    869\u001b[0m                         \u001b[0;32mraise\u001b[0m \u001b[0mValueError\u001b[0m\u001b[0;34m(\u001b[0m\u001b[0;34m\"do_handshake_on_connect should not be specified for non-blocking sockets\"\u001b[0m\u001b[0;34m)\u001b[0m\u001b[0;34m\u001b[0m\u001b[0;34m\u001b[0m\u001b[0m\n\u001b[0;32m--> 870\u001b[0;31m                     \u001b[0mself\u001b[0m\u001b[0;34m.\u001b[0m\u001b[0mdo_handshake\u001b[0m\u001b[0;34m(\u001b[0m\u001b[0;34m)\u001b[0m\u001b[0;34m\u001b[0m\u001b[0;34m\u001b[0m\u001b[0m\n\u001b[0m\u001b[1;32m    871\u001b[0m             \u001b[0;32mexcept\u001b[0m \u001b[0;34m(\u001b[0m\u001b[0mOSError\u001b[0m\u001b[0;34m,\u001b[0m \u001b[0mValueError\u001b[0m\u001b[0;34m)\u001b[0m\u001b[0;34m:\u001b[0m\u001b[0;34m\u001b[0m\u001b[0;34m\u001b[0m\u001b[0m\n\u001b[1;32m    872\u001b[0m                 \u001b[0mself\u001b[0m\u001b[0;34m.\u001b[0m\u001b[0mclose\u001b[0m\u001b[0;34m(\u001b[0m\u001b[0;34m)\u001b[0m\u001b[0;34m\u001b[0m\u001b[0;34m\u001b[0m\u001b[0m\n",
      "\u001b[0;32m/usr/local/Cellar/python/3.7.7/Frameworks/Python.framework/Versions/3.7/lib/python3.7/ssl.py\u001b[0m in \u001b[0;36mdo_handshake\u001b[0;34m(self, block)\u001b[0m\n\u001b[1;32m   1137\u001b[0m             \u001b[0;32mif\u001b[0m \u001b[0mtimeout\u001b[0m \u001b[0;34m==\u001b[0m \u001b[0;36m0.0\u001b[0m \u001b[0;32mand\u001b[0m \u001b[0mblock\u001b[0m\u001b[0;34m:\u001b[0m\u001b[0;34m\u001b[0m\u001b[0;34m\u001b[0m\u001b[0m\n\u001b[1;32m   1138\u001b[0m                 \u001b[0mself\u001b[0m\u001b[0;34m.\u001b[0m\u001b[0msettimeout\u001b[0m\u001b[0;34m(\u001b[0m\u001b[0;32mNone\u001b[0m\u001b[0;34m)\u001b[0m\u001b[0;34m\u001b[0m\u001b[0;34m\u001b[0m\u001b[0m\n\u001b[0;32m-> 1139\u001b[0;31m             \u001b[0mself\u001b[0m\u001b[0;34m.\u001b[0m\u001b[0m_sslobj\u001b[0m\u001b[0;34m.\u001b[0m\u001b[0mdo_handshake\u001b[0m\u001b[0;34m(\u001b[0m\u001b[0;34m)\u001b[0m\u001b[0;34m\u001b[0m\u001b[0;34m\u001b[0m\u001b[0m\n\u001b[0m\u001b[1;32m   1140\u001b[0m         \u001b[0;32mfinally\u001b[0m\u001b[0;34m:\u001b[0m\u001b[0;34m\u001b[0m\u001b[0;34m\u001b[0m\u001b[0m\n\u001b[1;32m   1141\u001b[0m             \u001b[0mself\u001b[0m\u001b[0;34m.\u001b[0m\u001b[0msettimeout\u001b[0m\u001b[0;34m(\u001b[0m\u001b[0mtimeout\u001b[0m\u001b[0;34m)\u001b[0m\u001b[0;34m\u001b[0m\u001b[0;34m\u001b[0m\u001b[0m\n",
      "\u001b[0;31mKeyboardInterrupt\u001b[0m: "
     ]
    }
   ],
   "source": [
    "locale = 'en_US'\n",
    "namespace = 'static-us'\n",
    "dir_save = 'wowprogress_reports'\n",
    "base_url = 'https://www.wowprogress.com/export/ranks/'\n",
    "os.chdir(os.path.join(cn.raw_dir, 'wowprogress_reports'))\n",
    "\n",
    "cf.get_wowprogress_by_realm(locale, namespace, base_url, access_token)\n",
    "wow_guilds = cf.unpack_wowprogress_guild_ranks()\n",
    "wow_players = cf.get_wow_guild_rosters('wow_guild_rankings.csv')"
   ]
  },
  {
   "cell_type": "markdown",
   "metadata": {},
   "source": [
    "## Get player profiles from leaderboards"
   ]
  },
  {
   "cell_type": "markdown",
   "metadata": {},
   "source": [
    "#### Function to retrieve player details from the leaderboard rosters"
   ]
  },
  {
   "cell_type": "code",
   "execution_count": 49,
   "metadata": {},
   "outputs": [],
   "source": [
    "def get_wow_profile (realm, player, token):\n",
    "    url = 'https://us.api.blizzard.com/profile/wow/character/' + realm \\\n",
    "          + '/' + player + '?namespace=profile-us&locale=en_US&access_token=' + access_token\n",
    "    r = requests.get(url)\n",
    "    unpacked = unpack_json(r.text)\n",
    "    row = dict(id = unpacked['id'], name = unpacked['name'], gender = unpacked['gender']['name'],\n",
    "          faction = unpacked['faction']['name'], race = unpacked['race']['name'],\n",
    "          character_class = unpacked['character_class']['name'],\n",
    "          active_spec = unpacked['active_spec']['name'], realm = unpacked['realm']['slug'],\n",
    "          guild = unpacked['guild']['name'], level = unpacked['level'],\n",
    "          achievement_points = unpacked['achievement_points'],\n",
    "          last_login = unpacked['last_login_timestamp'],\n",
    "          average_item_level = unpacked['average_item_level'],\n",
    "          equipped_item_level = unpacked['equipped_item_level'])\n",
    "    return row\n"
   ]
  },
  {
   "cell_type": "markdown",
   "metadata": {},
   "source": [
    "## Get guild rosters from leaderboards"
   ]
  },
  {
   "cell_type": "markdown",
   "metadata": {},
   "source": [
    "#### Define function to get friends of leaderboards to expand roster of players "
   ]
  },
  {
   "cell_type": "code",
   "execution_count": 47,
   "metadata": {},
   "outputs": [],
   "source": [
    "def get_guild_roster (realm, guild, access_token):\n",
    "    df = pd.DataFrame()\n",
    "    url = 'https://us.api.blizzard.com/data/wow/guild/'+ realm \\\n",
    "              + '/' + guild + \\\n",
    "            '/roster?namespace=profile-us&locale=en_US&access_token='\\\n",
    "            + access_token\n",
    "    r = requests.get(url)\n",
    "    unpacked = unpack_json(r.text)\n",
    "    if r.status_code != 200:\n",
    "        return df\n",
    "    else:\n",
    "        try:\n",
    "            guild_faction = unpacked['guild']['faction']['name']\n",
    "            for member in unpacked['members']:\n",
    "                row = dict(player = member['character']['name'], \n",
    "                    id = member['character']['id'],\n",
    "                    realm = member['character']['realm']['slug'],\n",
    "                    realm_id = member['character']['realm']['id'],\n",
    "                    level = member['character']['level'], \n",
    "                    playable_class = member['character']['playable_class']['id'],\n",
    "                    playable_race = member['character']['playable_race']['id'], \n",
    "                    guild_rank = member['rank'],\n",
    "                    guild_name = guild, faction = guild_faction)\n",
    "                df = df.append(row, ignore_index = True)\n",
    "        except:\n",
    "            return df\n",
    "    return df"
   ]
  },
  {
   "cell_type": "markdown",
   "metadata": {},
   "source": [
    "#### Set up IO"
   ]
  },
  {
   "cell_type": "code",
   "execution_count": 46,
   "metadata": {},
   "outputs": [],
   "source": [
    "roster = pd.DataFrame()\n",
    "realms = []\n",
    "guilds = []\n",
    "dfa_set = pd.read_csv(os.path.join(cn.raw_dir, \n",
    "        'dataforazeroth_complete_dataset.csv'))\n",
    "dfa_set['player_id'] = ''"
   ]
  },
  {
   "cell_type": "markdown",
   "metadata": {},
   "source": [
    "#### Blizzard API calls to retrieve guild members of leaderboard players"
   ]
  },
  {
   "cell_type": "code",
   "execution_count": 48,
   "metadata": {},
   "outputs": [
    {
     "name": "stdout",
     "output_type": "stream",
     "text": [
      "/Users/haleyspeed/Docs/insight/insight_data_science/data/processed/scrapes/processed/features/engaged\n",
      "1 "
     ]
    }
   ],
   "source": [
    "i = 1\n",
    "print(os.getcwd())\n",
    "for row in dfa_set.iloc[:][:].itertuples():\n",
    "    try:\n",
    "        realm_slug = row.realm.replace('US-', '').replace(\"'\",'').replace(' ', '-').lower()\n",
    "        player_slug = row.player.lower()\n",
    "        dfa_set.at[i,'player_id'] = player_slug + '-' + realm_slug\n",
    "        print(i, end = ' ')\n",
    "        if isinstance(row.guild, float): \n",
    "            continue\n",
    "        if row.realm in realms and row.guild in guilds:\n",
    "            continue\n",
    "        guild_slug = row.guild.replace(' ','-').lower()\n",
    "        realms.append(realm_slug)\n",
    "        guilds.append(guild_slug)\n",
    "        roster = roster.append(get_guild_roster (realm_slug, guild_slug, access_token), ignore_index = True)\n",
    "        if i % 100 == 0: # Every 100 guilds, dump the data into a file \n",
    "            roster.to_csv('wow_roster' + str(i) + '.csv')\n",
    "            roster = pd.DataFrame()  # clear memory by resetting the dataframe to empty\n",
    "        break # For demo purposes. Remove for full run.\n",
    "        i = i + 1\n",
    "    except:\n",
    "        continue"
   ]
  },
  {
   "cell_type": "markdown",
   "metadata": {},
   "source": [
    "## Get a list of all the US-based World of Warcraft Servers and IDs "
   ]
  },
  {
   "cell_type": "code",
   "execution_count": 43,
   "metadata": {},
   "outputs": [],
   "source": [
    "def get_wow_realms_list (namespace, locale):\n",
    "    directory = 'data/wow/realm/index'\n",
    "    url = 'https://us.api.blizzard.com/' + directory + '?namespace=dynamic-us' + \\\n",
    "          '&locale=' + locale + '&access_token=' + access_token\n",
    "    r = requests.get(url)\n",
    "    unpacked = unpack_json(r.text)\n",
    "    realm_names = []\n",
    "    realm_ids = []\n",
    "    realm_slugs = []\n",
    "    for realm in unpacked ['realms']:\n",
    "        realm_names.append(realm['name'])\n",
    "        realm_ids.append(realm['id'])\n",
    "        realm_slugs.append(realm['slug'])\n",
    "    return realm_names, realm_ids, realm_slugs\n",
    "\n",
    "realm_names,realm_ids,slugs = get_wow_realms_list (namespace, locale)"
   ]
  },
  {
   "cell_type": "markdown",
   "metadata": {},
   "source": [
    "## Get achievement list from the blizzard API "
   ]
  },
  {
   "cell_type": "markdown",
   "metadata": {},
   "source": [
    "For demo purposes only. Originally run in the terminal from file **/scripts/achievement_list_maker.py**"
   ]
  },
  {
   "cell_type": "code",
   "execution_count": 11,
   "metadata": {},
   "outputs": [
    {
     "name": "stdout",
     "output_type": "stream",
     "text": [
      "200\n",
      "unpacked['criteria']['name'] does not exist\n",
      "6\n"
     ]
    }
   ],
   "source": [
    "dfa = pd.DataFrame()\n",
    "for id in cf.get_wow_achievement_ids (access_token):\n",
    "    ach = cf.get_wow_achievement(id, access_token)\n",
    "    # Filters out account-wide achievements and \n",
    "    # retains only character achievements\n",
    "    if ach['account_wide'] == False:\n",
    "        dfa = dfa.append(ach, ignore_index = True)\n",
    "        print (ach['achievement_id'])\n",
    "    break # For demo only\n",
    "dfa.to_csv(os.path.join(cn.clean_dir, 'achievement_list.csv'))\n",
    "\n",
    "# If the achivement is part of a chain, it will also have the \n",
    "# keys: 'criteria' and 'name'"
   ]
  },
  {
   "cell_type": "markdown",
   "metadata": {},
   "source": [
    "## Build the raw achievement dataset"
   ]
  },
  {
   "cell_type": "markdown",
   "metadata": {},
   "source": [
    "This section is for demonstration purposes only. \n",
    "Actual processing was performed in the terminal in batches with **scripts/achievement_api_caller.py**"
   ]
  },
  {
   "cell_type": "markdown",
   "metadata": {},
   "source": [
    "#### Read in wow achievement list (if already exists)"
   ]
  },
  {
   "cell_type": "code",
   "execution_count": 7,
   "metadata": {},
   "outputs": [
    {
     "name": "stdout",
     "output_type": "stream",
     "text": [
      "starting up...\n"
     ]
    }
   ],
   "source": [
    "print('starting up...')\n",
    "final_cols = ['id','player', 'realm']\n",
    "achievement_list = pd.read_csv(os.path.join(cn.raw_dir,\n",
    "        'wow_achievements.csv'))\n",
    "achievement_list.columns = ['unnamed0', 'unnamed1', 'player', \n",
    "        'guild', 'realm', 'id']\n",
    "achievement_list = achievement_list.drop(['unnamed0', \n",
    "        'unnamed1'], axis = 1)\n",
    "#print(achievement_list.columns)"
   ]
  },
  {
   "cell_type": "markdown",
   "metadata": {},
   "source": [
    "#### Make an empty dictionary to add rows to the new player achievement dataset"
   ]
  },
  {
   "cell_type": "code",
   "execution_count": 9,
   "metadata": {},
   "outputs": [],
   "source": [
    "for id in achievement_list.id:\n",
    "    final_cols.append(str(int(id)))\n",
    "empty_row = dict.fromkeys(final_cols)"
   ]
  },
  {
   "cell_type": "markdown",
   "metadata": {},
   "source": [
    "#### Calls to the Blizzard API to fillout achievement details for each player in the roster csvs"
   ]
  },
  {
   "cell_type": "code",
   "execution_count": null,
   "metadata": {},
   "outputs": [],
   "source": [
    "i = 0\n",
    "for group_num in np.arange(200, 300, 100):\n",
    "    print('Group Number: ' + str(group_num))\n",
    "    f = 'wow_roster' + str(group_num) + '.csv'\n",
    "    player_roster = pd.read_csv(os.path.join(cn.raw_dir,\n",
    "            'wow_rosters', f))\n",
    "    df = pd.DataFrame()\n",
    "    for m in player_roster.itertuples():\n",
    "        if m.level == 120:\n",
    "            print(i)\n",
    "            player = m.player.lower()\n",
    "            realm = m.realm\n",
    "            row = cf.get_player_achievements(player, realm, \n",
    "                    empty_row, access_token)\n",
    "            if not isinstance(row, str):\n",
    "                row['player'] = player\n",
    "                row['realm'] = realm\n",
    "                row['id']  = player + '_' + realm\n",
    "                last_login, gear_score = cf.get_validation(player, \n",
    "                        realm, access_token)\n",
    "                try:\n",
    "                    row['gear_score'] = gear_score\n",
    "                    row['last_login'] = last_login\n",
    "                    row['time_since_login'] = datetime.datetime.strptime('2020-06-05', \\\n",
    "                            '%Y-%m-%d').date()- \\\n",
    "                            datetime.datetime.strptime(row['last_login'], \\\n",
    "                            '%Y-%m-%d').date()\n",
    "                except:\n",
    "                    print(\"error in \" + row['id'])\n",
    "                df = df.append(row, ignore_index=True)\n",
    "        if i % 100 == 0:\n",
    "            f_name = f.split('roster')[0] + '6-8_dates_' + str(group_num) \\\n",
    "                    + '_' + str(i) + '.csv'\n",
    "            df.to_csv(os.path.join(cn.processed_dir,'scrapes', f_name))\n",
    "            df = pd.DataFrame()\n",
    "            print(f_name + ' saved')\n",
    "            break # For Jupyter notebook demo\n",
    "        i = i + 1"
   ]
  },
  {
   "cell_type": "markdown",
   "metadata": {},
   "source": [
    "## Achievement processor for time series dataset\n",
    "This section is for demonstration purposes only. \n",
    "Actual processing was performed in the terminal in batches with **scripts/achievement_time_processor.py**"
   ]
  },
  {
   "cell_type": "markdown",
   "metadata": {},
   "source": [
    "#### Setup IO"
   ]
  },
  {
   "cell_type": "code",
   "execution_count": 12,
   "metadata": {},
   "outputs": [],
   "source": [
    "f_cat = os.path.join(cn.clean_dir,'6-13_achievement_list.csv')\n",
    "folder = os.path.join(cn.processed_dir, '6-15_scrapes')"
   ]
  },
  {
   "cell_type": "markdown",
   "metadata": {},
   "source": [
    "#### Read in the list of categories with achievements"
   ]
  },
  {
   "cell_type": "code",
   "execution_count": 13,
   "metadata": {},
   "outputs": [],
   "source": [
    "dfc = pd.read_csv(f_cat)\n",
    "achievements = dfc.achievement_id.values.astype(int).astype(str)"
   ]
  },
  {
   "cell_type": "markdown",
   "metadata": {},
   "source": [
    "#### Define output file columns"
   ]
  },
  {
   "cell_type": "code",
   "execution_count": 14,
   "metadata": {},
   "outputs": [],
   "source": [
    "player_cols = ['player', 'realm', 'gear_score', 'last_login', \n",
    "               'time_since_login']\n",
    "months = np.arange(1, 13)\n",
    "years = [2014, 2015, 2016, 2017, 2018, 2019, 2020]\n",
    "timepoints = []"
   ]
  },
  {
   "cell_type": "markdown",
   "metadata": {},
   "source": [
    "#### Generate a list of dates (Year_Month)"
   ]
  },
  {
   "cell_type": "code",
   "execution_count": 15,
   "metadata": {},
   "outputs": [],
   "source": [
    "for month in months:\n",
    "    if month < 10:\n",
    "        month = str(0) + str(month)\n",
    "    for year in years:\n",
    "        if year == 2020 and month == '07':\n",
    "            break\n",
    "        if year < 2011 and month != '01':\n",
    "\n",
    "            continue\n",
    "        else:\n",
    "            month = str(month)\n",
    "            timepoints.append(str(year) + '-' + str(month))\n"
   ]
  },
  {
   "cell_type": "markdown",
   "metadata": {},
   "source": [
    "#### Calculate achievements per month for each player"
   ]
  },
  {
   "cell_type": "code",
   "execution_count": 6,
   "metadata": {},
   "outputs": [],
   "source": [
    "os.chdir (folder)\n",
    "for f in glob.glob('*{}'.format('csv')):\n",
    "\n",
    "    print(f)\n",
    "\n",
    "    # Create the output dataframe\n",
    "    dfo = pd.DataFrame(columns=player_cols + timepoints)\n",
    "\n",
    "    # Read in raw player achievement stats\n",
    "    dfr = pd.read_csv(f)\n",
    "    achievement_cols = [col for col in dfr.columns.values \\\n",
    "                if col in achievements]\n",
    "\n",
    "    # Build the processed_player_stats.csv dataset\n",
    "    i = 0\n",
    "    for index, row in dfr.iloc[:][:].iterrows():\n",
    "\n",
    "        # Format output file\n",
    "        f_out = os.path.join(cn.processed_dir, '6-15_scrapes', \n",
    "                'processed', 'time', f.replace('wow', 'time'))\n",
    "\n",
    "        # Convert date to month\n",
    "        row[achievement_cols] = [str(d)[0:7] for d in \\\n",
    "                row[achievement_cols]]\n",
    "\n",
    "        # Set up df for achievements per month\n",
    "        t = row[achievement_cols].transpose().reset_index()\n",
    "        t = t.iloc[1:][:]\n",
    "        t.columns = ['achievement', 'date']\n",
    "\n",
    "        # remove top row (formerly column names before transpose)\n",
    "        t = t.iloc[:][:].groupby('date').count().reset_index() \n",
    "        t = t.transpose()\n",
    "        t.columns = t.iloc[0][:].sort_values()\n",
    "        t = t.iloc[1:][:]\n",
    "        to_drop = [n for n in t.columns.values if n not in timepoints]\n",
    "        t = t.drop(to_drop, axis = 1)\n",
    "\n",
    "\n",
    "        # Create a new row to append to dfo\n",
    "        tmp = dict()\n",
    "\n",
    "        # Add player data to the output row\n",
    "        for col in player_cols:\n",
    "            tmp[col.lower()] = row[col.lower()]\n",
    "\n",
    "        # Add achievements per month to the output row\n",
    "        for col in t.columns.values:\n",
    "            tmp[col.lower()] = t[col.lower()].achievement\n",
    "\n",
    "        dfo = dfo.append(tmp, ignore_index=True)\n",
    "        dfo = dfo.fillna(int(0))\n",
    "\n",
    "        i = i + 1\n",
    "        print(i)\n",
    "\n",
    "    dfo.to_csv(f_out)\n"
   ]
  },
  {
   "cell_type": "markdown",
   "metadata": {},
   "source": [
    "## Calculate engagement score for time series dataset\n",
    "Originally ran in the terminal with the file: scripts/engagement_adder_time.py"
   ]
  },
  {
   "cell_type": "markdown",
   "metadata": {},
   "source": [
    "#### Read in the processed time series csvs"
   ]
  },
  {
   "cell_type": "code",
   "execution_count": 18,
   "metadata": {},
   "outputs": [],
   "source": [
    "dir_in = os.path.join(os.path.join(cn.processed_dir, 'scrapes',\n",
    "        'processed','time'))\n",
    "file_in = os.path.join(dir_in, '*{}')"
   ]
  },
  {
   "cell_type": "markdown",
   "metadata": {},
   "source": [
    "#### Calculate engagement score based on the days since last login. "
   ]
  },
  {
   "cell_type": "code",
   "execution_count": 19,
   "metadata": {},
   "outputs": [
    {
     "name": "stdout",
     "output_type": "stream",
     "text": [
      "/Users/haleyspeed/Docs/insight/insight_data_science/data/processed/scrapes/processed/time\n",
      "1 time_6-8_dates_9000_22300.csv\n"
     ]
    }
   ],
   "source": [
    "os.chdir (dir_in)\n",
    "print(os.getcwd())\n",
    "i = 1\n",
    "for f in glob.glob('*{}'.format('csv')):\n",
    "    print(i,f)\n",
    "    df = pd.read_csv(f,dtype='unicode')\n",
    "\n",
    "    #if 'engagement' not in df.columns.values:\n",
    "    df['engagement'] = np.nan\n",
    "    df['status'] = ''\n",
    "    for index, row in df.iterrows():\n",
    "        if int(row.time_since_login.split(' ')[0]) <= 30:\n",
    "            df.at[index,'engagement'] = 0\n",
    "            df.at[index,'status'] = 'active'\n",
    "            continue\n",
    "        elif int(row.time_since_login.split(' ')[0]) <= 240:\n",
    "            df.at[index,'engagement'] = 1\n",
    "            df.at[index,'status'] = 'risk'\n",
    "            continue\n",
    "        elif int(row.time_since_login.split(' ')[0]) > 240:\n",
    "            df.at[index,'engagement'] = 2\n",
    "            df.at[index,'status'] = 'lapsed'\n",
    "            continue\n",
    "        i = i + 1\n",
    "    df.to_csv(os.path.join(dir_in, 'engaged', \n",
    "            f.replace('time','engaged_time')))\n"
   ]
  },
  {
   "cell_type": "markdown",
   "metadata": {},
   "source": [
    "## Concatenate time series csvs into a single file\n",
    "This section is for demonstration purposes only. \n",
    "Actual processing was performed in batches in the terminal with **scripts/file_concatenator_time.py**"
   ]
  },
  {
   "cell_type": "code",
   "execution_count": 22,
   "metadata": {},
   "outputs": [
    {
     "name": "stdout",
     "output_type": "stream",
     "text": [
      "/Users/haleyspeed/Docs/insight/insight_data_science/data/processed/scrapes/processed/time/engaged\n",
      "1 engaged_time_6-8_dates_9000_22300.csv\n"
     ]
    }
   ],
   "source": [
    "dir_in = os.path.join(cn.processed_dir, 'scrapes',\n",
    "        'processed','time', 'engaged')\n",
    "\n",
    "df = pd.DataFrame()\n",
    "os.chdir (dir_in)\n",
    "print(os.getcwd())\n",
    "i = 1\n",
    "for f in glob.glob('*{}'.format('csv')):\n",
    "    print(i,f)\n",
    "    df = df.append(pd.read_csv(f,dtype='unicode'))\n",
    "    df = df.drop_duplicates()\n",
    "df.to_csv(os.path.join(cn.clean_dir,'random_forest_time',\n",
    "        'final_time_stats_demo.csv'))"
   ]
  },
  {
   "cell_type": "markdown",
   "metadata": {},
   "source": [
    "## Build the achievement processor for the features/category dataset"
   ]
  },
  {
   "cell_type": "markdown",
   "metadata": {},
   "source": [
    "This section is for demonstration purposes only. Actual processing was performed in batches in the terminal with the file: **scripts/achievement_processor_features.py**"
   ]
  },
  {
   "cell_type": "markdown",
   "metadata": {},
   "source": [
    "#### Read in the dataset and achievement details list"
   ]
  },
  {
   "cell_type": "code",
   "execution_count": 24,
   "metadata": {},
   "outputs": [],
   "source": [
    "dfa = pd.read_csv(os.path.join(cn.clean_dir,'6-13_achievement_list.csv'))\n",
    "achievements = list(dfa.achievement_id.values.astype(int).astype(str))"
   ]
  },
  {
   "cell_type": "markdown",
   "metadata": {},
   "source": [
    "#### Remove unneccessary columns (i.e. those needed for time series). Keep only achievements."
   ]
  },
  {
   "cell_type": "code",
   "execution_count": 25,
   "metadata": {},
   "outputs": [
    {
     "name": "stdout",
     "output_type": "stream",
     "text": [
      "/Users/haleyspeed/Docs/insight/insight_data_science/data/processed/scrapes/processed/features/features_6-8_dates_9000_22300.csv\n",
      "/Users/haleyspeed/Docs/insight/insight_data_science/data/processed/scrapes/processed/features/features_6-8_dates_200_0.csv\n",
      "/Users/haleyspeed/Docs/insight/insight_data_science/data/processed/scrapes/processed/features/features_6-8_dates_200_100.csv\n"
     ]
    }
   ],
   "source": [
    "os.chdir (os.path.join(cn.processed_dir,'scrapes'))\n",
    "for f in glob.glob('*{}'.format('csv')):\n",
    "    player_cols = ['player', 'realm', 'gear_score', 'last_login', \n",
    "                   'time_since_login']\n",
    "    keep_cols = player_cols + achievements\n",
    "\n",
    "    df = pd.read_csv(f, dtype = 'unicode')\n",
    "    keep_cols = [c for c in keep_cols if c in df.columns.values]\n",
    "\n",
    "    df = df[keep_cols]\n",
    "    f_out = os.path.join(cn.processed_dir,'scrapes','processed',\n",
    "            'features', f.replace('wow','features'))\n",
    "    df = df.to_csv(f_out)\n",
    "    print(f_out)\n"
   ]
  },
  {
   "cell_type": "markdown",
   "metadata": {},
   "source": [
    "## Calculate engagement score for features/category dataset"
   ]
  },
  {
   "cell_type": "markdown",
   "metadata": {},
   "source": [
    "This section is for demonstration purposes only. Actual processing was performed in batches in the terminal with the file: **scripts/engagement_adder_features.py**"
   ]
  },
  {
   "cell_type": "markdown",
   "metadata": {},
   "source": [
    "#### Set up file IO"
   ]
  },
  {
   "cell_type": "code",
   "execution_count": 28,
   "metadata": {},
   "outputs": [],
   "source": [
    "dir_in = os.path.join(cn.processed_dir, 'scrapes',\n",
    "        'processed', 'features')\n",
    "file_in = os.path.join(dir_in, '*{}')\n",
    "df = pd.DataFrame()\n",
    "os.chdir (dir_in)"
   ]
  },
  {
   "cell_type": "markdown",
   "metadata": {},
   "source": [
    "#### Determine engagement score based on last login"
   ]
  },
  {
   "cell_type": "code",
   "execution_count": 30,
   "metadata": {},
   "outputs": [
    {
     "name": "stdout",
     "output_type": "stream",
     "text": [
      "/Users/haleyspeed/Docs/insight/insight_data_science/data/processed/scrapes/processed/features\n",
      "1 features_6-8_dates_200_0.csv\n",
      "1 features_6-8_dates_9000_22300.csv\n"
     ]
    }
   ],
   "source": [
    "print(os.getcwd())\n",
    "i = 1\n",
    "for f in glob.glob('*{}'.format('csv')):\n",
    "    print(i,f)\n",
    "    df = pd.read_csv(f,dtype='unicode')\n",
    "\n",
    "    #if 'engagement' not in df.columns.values:\n",
    "    df['engagement'] = np.nan\n",
    "    df['status'] = ''\n",
    "    for index, row in df.iterrows():\n",
    "        if int(row.time_since_login.split(' ')[0]) <= 30:\n",
    "            df.at[index,'engagement'] = 0\n",
    "            df.at[index,'status'] = 'active'\n",
    "            continue\n",
    "        elif int(row.time_since_login.split(' ')[0]) <= 240:\n",
    "            df.at[index,'engagement'] = 1\n",
    "            df.at[index,'status'] = 'risk'\n",
    "            continue\n",
    "        elif int(row.time_since_login.split(' ')[0]) >240:\n",
    "            df.at[index,'engagement'] = 2\n",
    "            df.at[index,'status'] = 'lapsed'\n",
    "            continue\n",
    "    df.to_csv(os.path.join(dir_in, 'engaged', \n",
    "            f.replace('features', 'engaged')))\n"
   ]
  },
  {
   "cell_type": "markdown",
   "metadata": {},
   "source": [
    "## Concatenate feature/category csvs into the final dataset\n",
    "This section is for demonstration purposes only. Actual processing was performed in batches in the terminal with the file: **scripts/file_concatenator_features.py**"
   ]
  },
  {
   "cell_type": "markdown",
   "metadata": {},
   "source": [
    "#### Set up file IO"
   ]
  },
  {
   "cell_type": "code",
   "execution_count": 32,
   "metadata": {},
   "outputs": [],
   "source": [
    "dir_in = os.path.join(cn.processed_dir, 'scrapes','processed',\n",
    "        'features', 'engaged')\n",
    "#file_in = os.path.join(dir_in, '*{}')\n",
    "df = pd.DataFrame()\n",
    "os.chdir (dir_in)"
   ]
  },
  {
   "cell_type": "markdown",
   "metadata": {},
   "source": [
    "#### Sequentially open each file in the 'engaged' folder and add them to a dataframe for the final_features_dataset.csv"
   ]
  },
  {
   "cell_type": "code",
   "execution_count": 35,
   "metadata": {},
   "outputs": [
    {
     "name": "stdout",
     "output_type": "stream",
     "text": [
      "/Users/haleyspeed/Docs/insight/insight_data_science/data/processed/scrapes/processed/features/engaged\n",
      "1 engaged_6-8_dates_200_0.csv\n",
      "2 engaged_6-8_dates_9000_22300.csv\n"
     ]
    }
   ],
   "source": [
    "print(os.getcwd())\n",
    "i = 1\n",
    "for f in glob.glob('*{}'.format('csv')):\n",
    "    print(i,f)\n",
    "    df = df.append(pd.read_csv(f,dtype='unicode'))\n",
    "    \n",
    "    # For a large number of files, may need to be run in \n",
    "    # batches of 250 files per loop\n",
    "    if i % 250 == 0: \n",
    "        df.to_csv(os.path.join(dir_in,'concats','concat_feature_stats_' \\\n",
    "                + str(i) + '.csv'))\n",
    "        pf = pd.DataFrame()\n",
    "    i = i + 1\n",
    "    \n",
    "# save last df in a batch run\n",
    "df.to_csv(os.path.join(dir_in,'concats','concat_feature_stats_' \\\n",
    "        + str(i) + '.csv'))\n",
    "\n",
    "# save last df of a final run\n",
    "#df.to_csv(os.path.join(dir_in,'concats'.'final_feature_stats.csv'))"
   ]
  },
  {
   "cell_type": "code",
   "execution_count": null,
   "metadata": {},
   "outputs": [],
   "source": []
  }
 ],
 "metadata": {
  "kernelspec": {
   "display_name": "ins_env",
   "language": "python",
   "name": "ins_env"
  },
  "language_info": {
   "codemirror_mode": {
    "name": "ipython",
    "version": 3
   },
   "file_extension": ".py",
   "mimetype": "text/x-python",
   "name": "python",
   "nbconvert_exporter": "python",
   "pygments_lexer": "ipython3",
   "version": "3.7.7"
  }
 },
 "nbformat": 4,
 "nbformat_minor": 4
}

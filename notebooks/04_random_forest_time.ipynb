{
 "cells": [
  {
   "cell_type": "markdown",
   "metadata": {},
   "source": [
    "# Random Forest Classifier For Time Series"
   ]
  },
  {
   "cell_type": "markdown",
   "metadata": {},
   "source": [
    "## Dependencies and Defaults"
   ]
  },
  {
   "cell_type": "code",
   "execution_count": 1,
   "metadata": {},
   "outputs": [],
   "source": [
    "import subscript.config as cn\n",
    "import os\n",
    "from sklearn.ensemble import RandomForestClassifier\n",
    "from sklearn.datasets import make_classification\n",
    "from sklearn import preprocessing\n",
    "from sklearn.model_selection import ShuffleSplit\n",
    "from sklearn.model_selection import StratifiedShuffleSplit\n",
    "from sklearn import metrics\n",
    "import matplotlib.pyplot as plt\n",
    "import seaborn as sns\n",
    "import pickle\n",
    "from IPython.display import HTML\n",
    "import pandas as pd\n",
    "import numpy as np"
   ]
  },
  {
   "cell_type": "markdown",
   "metadata": {},
   "source": [
    "## Read in the clean time series dataset"
   ]
  },
  {
   "cell_type": "code",
   "execution_count": 2,
   "metadata": {},
   "outputs": [],
   "source": [
    "df = pd.read_csv(os.path.join(cn.clean_dir,'random_forest_time',\n",
    "        'final_time_stats.csv'),dtype = 'unicode')\n",
    "df = df.drop_duplicates()\n",
    "df = df.fillna(0)\n",
    "train_set = pd.read_csv(os.path.join(cn.clean_dir,'random_forest_time',\n",
    "        'time_stratified_train.csv'))\n",
    "train_set = train_set.drop_duplicates()\n",
    "train_set = train_set.fillna(0)\n",
    "test_set = pd.read_csv(os.path.join(cn.clean_dir,'random_forest_time',\n",
    "        'time_stratified_test.csv'))\n"
   ]
  },
  {
   "cell_type": "markdown",
   "metadata": {},
   "source": [
    "## Prepare training and test sets"
   ]
  },
  {
   "cell_type": "code",
   "execution_count": 3,
   "metadata": {},
   "outputs": [
    {
     "name": "stdout",
     "output_type": "stream",
     "text": [
      "(112058, 75) (38216, 75)\n"
     ]
    }
   ],
   "source": [
    "test_set = test_set.drop_duplicates()\n",
    "test_set = test_set.fillna(0)\n",
    "\n",
    "y_train = train_set.engagement\n",
    "X_train = train_set.drop('engagement',axis = 1)\n",
    "y_test = test_set.engagement\n",
    "X_test = test_set.drop('engagement',axis = 1)\n",
    "\n",
    "print(X_train.shape, X_test.shape)"
   ]
  },
  {
   "cell_type": "markdown",
   "metadata": {},
   "source": [
    "## Fit the timeseries data"
   ]
  },
  {
   "cell_type": "code",
   "execution_count": 4,
   "metadata": {},
   "outputs": [
    {
     "data": {
      "text/plain": [
       "RandomForestClassifier(class_weight={0: 0.9, 1: 1.23, 2: 5.46},\n",
       "                       n_estimators=300, oob_score=True, random_state=17)"
      ]
     },
     "execution_count": 4,
     "metadata": {},
     "output_type": "execute_result"
    }
   ],
   "source": [
    "# Option for running the classifier without class weights\n",
    "#selected = RandomForestClassifier(n_estimators = 200,n_jobs = -1,\n",
    "#            oob_score = True,bootstrap = True,random_state = 17)\n",
    "\n",
    "\n",
    "# Option for running the classifier with class weights\n",
    "class_weight = dict({0:.9, 1:1.23, 2:5.46})\n",
    "selected = RandomForestClassifier(bootstrap=True,\n",
    "            class_weight=class_weight, n_estimators=300,\n",
    "            oob_score=True,random_state=17)\n",
    "selected.fit(X_train, y_train)"
   ]
  },
  {
   "cell_type": "markdown",
   "metadata": {},
   "source": [
    "## Make Predictions"
   ]
  },
  {
   "cell_type": "code",
   "execution_count": 5,
   "metadata": {},
   "outputs": [
    {
     "data": {
      "text/html": [
       "<div>\n",
       "<style scoped>\n",
       "    .dataframe tbody tr th:only-of-type {\n",
       "        vertical-align: middle;\n",
       "    }\n",
       "\n",
       "    .dataframe tbody tr th {\n",
       "        vertical-align: top;\n",
       "    }\n",
       "\n",
       "    .dataframe thead th {\n",
       "        text-align: right;\n",
       "    }\n",
       "</style>\n",
       "<table border=\"1\" class=\"dataframe\">\n",
       "  <thead>\n",
       "    <tr style=\"text-align: right;\">\n",
       "      <th></th>\n",
       "      <th>gear_score</th>\n",
       "      <th>2015-01</th>\n",
       "      <th>2016-01</th>\n",
       "      <th>2017-01</th>\n",
       "      <th>2018-01</th>\n",
       "      <th>2019-01</th>\n",
       "      <th>2020-01</th>\n",
       "      <th>2015-02</th>\n",
       "      <th>2016-02</th>\n",
       "      <th>2017-02</th>\n",
       "      <th>...</th>\n",
       "      <th>2018-11</th>\n",
       "      <th>2019-11</th>\n",
       "      <th>2014-12</th>\n",
       "      <th>2015-12</th>\n",
       "      <th>2016-12</th>\n",
       "      <th>2017-12</th>\n",
       "      <th>2018-12</th>\n",
       "      <th>2019-12</th>\n",
       "      <th>prediction</th>\n",
       "      <th>actual</th>\n",
       "    </tr>\n",
       "  </thead>\n",
       "  <tbody>\n",
       "    <tr>\n",
       "      <th>0</th>\n",
       "      <td>478.0</td>\n",
       "      <td>8.0</td>\n",
       "      <td>6.0</td>\n",
       "      <td>8.0</td>\n",
       "      <td>11.0</td>\n",
       "      <td>25.0</td>\n",
       "      <td>45.0</td>\n",
       "      <td>8.0</td>\n",
       "      <td>7.0</td>\n",
       "      <td>4.0</td>\n",
       "      <td>...</td>\n",
       "      <td>17.0</td>\n",
       "      <td>9.0</td>\n",
       "      <td>5.0</td>\n",
       "      <td>6.0</td>\n",
       "      <td>5.0</td>\n",
       "      <td>22.0</td>\n",
       "      <td>14.0</td>\n",
       "      <td>26.0</td>\n",
       "      <td>0.0</td>\n",
       "      <td>0.0</td>\n",
       "    </tr>\n",
       "    <tr>\n",
       "      <th>1</th>\n",
       "      <td>427.0</td>\n",
       "      <td>4.0</td>\n",
       "      <td>1.0</td>\n",
       "      <td>1.0</td>\n",
       "      <td>1.0</td>\n",
       "      <td>1.0</td>\n",
       "      <td>6.0</td>\n",
       "      <td>1.0</td>\n",
       "      <td>2.0</td>\n",
       "      <td>0.0</td>\n",
       "      <td>...</td>\n",
       "      <td>2.0</td>\n",
       "      <td>5.0</td>\n",
       "      <td>4.0</td>\n",
       "      <td>5.0</td>\n",
       "      <td>1.0</td>\n",
       "      <td>1.0</td>\n",
       "      <td>1.0</td>\n",
       "      <td>2.0</td>\n",
       "      <td>0.0</td>\n",
       "      <td>0.0</td>\n",
       "    </tr>\n",
       "    <tr>\n",
       "      <th>2</th>\n",
       "      <td>475.0</td>\n",
       "      <td>10.0</td>\n",
       "      <td>13.0</td>\n",
       "      <td>1.0</td>\n",
       "      <td>2.0</td>\n",
       "      <td>1.0</td>\n",
       "      <td>0.0</td>\n",
       "      <td>0.0</td>\n",
       "      <td>6.0</td>\n",
       "      <td>1.0</td>\n",
       "      <td>...</td>\n",
       "      <td>2.0</td>\n",
       "      <td>1.0</td>\n",
       "      <td>27.0</td>\n",
       "      <td>10.0</td>\n",
       "      <td>0.0</td>\n",
       "      <td>1.0</td>\n",
       "      <td>5.0</td>\n",
       "      <td>0.0</td>\n",
       "      <td>0.0</td>\n",
       "      <td>0.0</td>\n",
       "    </tr>\n",
       "    <tr>\n",
       "      <th>3</th>\n",
       "      <td>435.0</td>\n",
       "      <td>1.0</td>\n",
       "      <td>0.0</td>\n",
       "      <td>0.0</td>\n",
       "      <td>1.0</td>\n",
       "      <td>5.0</td>\n",
       "      <td>0.0</td>\n",
       "      <td>0.0</td>\n",
       "      <td>0.0</td>\n",
       "      <td>0.0</td>\n",
       "      <td>...</td>\n",
       "      <td>16.0</td>\n",
       "      <td>6.0</td>\n",
       "      <td>2.0</td>\n",
       "      <td>2.0</td>\n",
       "      <td>0.0</td>\n",
       "      <td>1.0</td>\n",
       "      <td>4.0</td>\n",
       "      <td>20.0</td>\n",
       "      <td>0.0</td>\n",
       "      <td>0.0</td>\n",
       "    </tr>\n",
       "    <tr>\n",
       "      <th>4</th>\n",
       "      <td>405.0</td>\n",
       "      <td>0.0</td>\n",
       "      <td>3.0</td>\n",
       "      <td>8.0</td>\n",
       "      <td>2.0</td>\n",
       "      <td>14.0</td>\n",
       "      <td>0.0</td>\n",
       "      <td>2.0</td>\n",
       "      <td>0.0</td>\n",
       "      <td>0.0</td>\n",
       "      <td>...</td>\n",
       "      <td>3.0</td>\n",
       "      <td>0.0</td>\n",
       "      <td>4.0</td>\n",
       "      <td>1.0</td>\n",
       "      <td>7.0</td>\n",
       "      <td>0.0</td>\n",
       "      <td>2.0</td>\n",
       "      <td>1.0</td>\n",
       "      <td>1.0</td>\n",
       "      <td>1.0</td>\n",
       "    </tr>\n",
       "  </tbody>\n",
       "</table>\n",
       "<p>5 rows × 77 columns</p>\n",
       "</div>"
      ],
      "text/plain": [
       "   gear_score  2015-01  2016-01  2017-01  2018-01  2019-01  2020-01  2015-02  \\\n",
       "0       478.0      8.0      6.0      8.0     11.0     25.0     45.0      8.0   \n",
       "1       427.0      4.0      1.0      1.0      1.0      1.0      6.0      1.0   \n",
       "2       475.0     10.0     13.0      1.0      2.0      1.0      0.0      0.0   \n",
       "3       435.0      1.0      0.0      0.0      1.0      5.0      0.0      0.0   \n",
       "4       405.0      0.0      3.0      8.0      2.0     14.0      0.0      2.0   \n",
       "\n",
       "   2016-02  2017-02  ...  2018-11  2019-11  2014-12  2015-12  2016-12  \\\n",
       "0      7.0      4.0  ...     17.0      9.0      5.0      6.0      5.0   \n",
       "1      2.0      0.0  ...      2.0      5.0      4.0      5.0      1.0   \n",
       "2      6.0      1.0  ...      2.0      1.0     27.0     10.0      0.0   \n",
       "3      0.0      0.0  ...     16.0      6.0      2.0      2.0      0.0   \n",
       "4      0.0      0.0  ...      3.0      0.0      4.0      1.0      7.0   \n",
       "\n",
       "   2017-12  2018-12  2019-12  prediction  actual  \n",
       "0     22.0     14.0     26.0         0.0     0.0  \n",
       "1      1.0      1.0      2.0         0.0     0.0  \n",
       "2      1.0      5.0      0.0         0.0     0.0  \n",
       "3      1.0      4.0     20.0         0.0     0.0  \n",
       "4      0.0      2.0      1.0         1.0     1.0  \n",
       "\n",
       "[5 rows x 77 columns]"
      ]
     },
     "execution_count": 5,
     "metadata": {},
     "output_type": "execute_result"
    }
   ],
   "source": [
    "predictions = selected.predict(X_test)\n",
    "df_pred = pd.DataFrame(X_test)\n",
    "df_pred['prediction'] = predictions\n",
    "df_pred['actual'] = y_test\n",
    "df_pred.to_csv(os.path.join(cn.clean_dir, \n",
    "        'random_forest_time','final_time_predictions_demo.csv'), \n",
    "        index = False)\n",
    "df_pred.head()"
   ]
  },
  {
   "cell_type": "markdown",
   "metadata": {},
   "source": [
    "## Get accuracy score"
   ]
  },
  {
   "cell_type": "code",
   "execution_count": 6,
   "metadata": {},
   "outputs": [
    {
     "name": "stdout",
     "output_type": "stream",
     "text": [
      "0.9997947491477628\n"
     ]
    }
   ],
   "source": [
    "print(selected.score(X_train,y_train))"
   ]
  },
  {
   "cell_type": "markdown",
   "metadata": {},
   "source": [
    "## Get out of bag score"
   ]
  },
  {
   "cell_type": "code",
   "execution_count": 7,
   "metadata": {},
   "outputs": [
    {
     "name": "stdout",
     "output_type": "stream",
     "text": [
      "Oob score...\n",
      "0.8499259312141927\n"
     ]
    }
   ],
   "source": [
    "print('Oob score...')\n",
    "print(selected.oob_score_)"
   ]
  },
  {
   "cell_type": "markdown",
   "metadata": {},
   "source": [
    "## Calculate the confusion matrix"
   ]
  },
  {
   "cell_type": "code",
   "execution_count": 8,
   "metadata": {},
   "outputs": [
    {
     "name": "stdout",
     "output_type": "stream",
     "text": [
      "[[25829   730     3]\n",
      " [ 3767  6356    23]\n",
      " [  442   487   579]]\n"
     ]
    }
   ],
   "source": [
    "cnf_matrix = metrics.confusion_matrix(y_test,predictions)\n",
    "print(cnf_matrix)"
   ]
  },
  {
   "cell_type": "markdown",
   "metadata": {},
   "source": [
    "## Print the precision, recall, and accuracy"
   ]
  },
  {
   "cell_type": "code",
   "execution_count": 9,
   "metadata": {},
   "outputs": [
    {
     "name": "stdout",
     "output_type": "stream",
     "text": [
      "              precision    recall  f1-score   support\n",
      "\n",
      "         0.0      0.860     0.972     0.913     26562\n",
      "         1.0      0.839     0.626     0.717     10146\n",
      "         2.0      0.957     0.384     0.548      1508\n",
      "\n",
      "    accuracy                          0.857     38216\n",
      "   macro avg      0.885     0.661     0.726     38216\n",
      "weighted avg      0.858     0.857     0.846     38216\n",
      "\n"
     ]
    }
   ],
   "source": [
    "met = metrics.classification_report(y_test, predictions, digits=3)\n",
    "folder = os.path.join(cn.clean_dir, 'random_forest_time',)\n",
    "f_name = 'metrics_time_balanced_metrics.csv'\n",
    "print(met)"
   ]
  },
  {
   "cell_type": "markdown",
   "metadata": {},
   "source": [
    "## Plot the confusion matriix"
   ]
  },
  {
   "cell_type": "code",
   "execution_count": 10,
   "metadata": {},
   "outputs": [
    {
     "data": {
      "image/png": "[encoded data removed]",
      "text/plain": [
       "<Figure size 576x576 with 2 Axes>"
      ]
     },
     "metadata": {
      "needs_background": "light"
     },
     "output_type": "display_data"
    }
   ],
   "source": [
    "fig2, ax = plt.subplots(figsize = (8,8))\n",
    "sns.heatmap(pd.DataFrame(cnf_matrix), annot = True, cmap = 'viridis', fmt = 'g', annot_kws={\"size\":16})\n",
    "ax.set_xlabel (\"Predicted Value\", fontsize = 18)\n",
    "ax.set_ylabel (\"Actual Value\", fontsize = 18)\n",
    "ax.tick_params (labelsize = 14)\n",
    "plt.tight_layout()\n",
    "fig2.savefig(os.path.join(cn.clean_dir, 'random_forest_time','cnfmatrix_time_balanced.png'), dpi=180)"
   ]
  },
  {
   "cell_type": "markdown",
   "metadata": {},
   "source": [
    "## Save the model"
   ]
  },
  {
   "cell_type": "code",
   "execution_count": 11,
   "metadata": {},
   "outputs": [],
   "source": [
    "# save the model to disk\n",
    "pickle_name = 'final_time_model.sav'\n",
    "os.chdir(os.path.join(cn.clean_dir,'random_forest_time'))\n",
    "with open(pickle_name, 'wb') as file:\n",
    "    pickle.dump(selected, file)\n",
    "plt.show()"
   ]
  },
  {
   "cell_type": "markdown",
   "metadata": {},
   "source": [
    "## Get importances (years-months)"
   ]
  },
  {
   "cell_type": "code",
   "execution_count": 12,
   "metadata": {},
   "outputs": [
    {
     "name": "stdout",
     "output_type": "stream",
     "text": [
      "Important Features...\n",
      "0 2014-05\n",
      "1 2014-07\n",
      "2 2014-06\n",
      "3 2014-04\n",
      "4 2015-10\n",
      "5 2016-03\n",
      "6 2016-05\n",
      "7 2014-09\n",
      "8 2016-04\n",
      "9 2014-08\n",
      "10 2016-06\n",
      "11 2015-04\n",
      "12 2015-05\n",
      "13 2016-02\n",
      "14 2015-09\n",
      "15 2017-03\n",
      "16 2015-03\n",
      "17 2017-02\n",
      "18 2015-06\n",
      "19 2015-08\n",
      "20 2015-02\n",
      "21 2016-01\n",
      "22 2014-10\n",
      "23 2015-11\n",
      "24 2017-07\n"
     ]
    }
   ],
   "source": [
    "print(\"Important Features...\")\n",
    "importances = selected.feature_importances_\n",
    "indices = np.argsort(importances)\n",
    "important_features = X_train.columns.values[indices]\n",
    "for i, v in enumerate(important_features[:25]):\n",
    "    print(i,v)"
   ]
  },
  {
   "cell_type": "markdown",
   "metadata": {},
   "source": [
    "#### **Subscriber loyalty is the primary determinant of future engagement.**"
   ]
  },
  {
   "cell_type": "markdown",
   "metadata": {},
   "source": [
    "This is very interesting because it suggests that players' multi-year history is more important than recent history in determining whether they will continue to be engaged with the content or lapse. The longer a subscriber plays, the more likely they are to continue playing, indicating a strong core player base. Going forward, there is significant business value in catering to loyal subscribers for greater long-term revenue. "
   ]
  }
 ],
 "metadata": {
  "kernelspec": {
   "display_name": "ins_env",
   "language": "python",
   "name": "ins_env"
  },
  "language_info": {
   "codemirror_mode": {
    "name": "ipython",
    "version": 3
   },
   "file_extension": ".py",
   "mimetype": "text/x-python",
   "name": "python",
   "nbconvert_exporter": "python",
   "pygments_lexer": "ipython3",
   "version": "3.7.7"
  }
 },
 "nbformat": 4,
 "nbformat_minor": 4
}

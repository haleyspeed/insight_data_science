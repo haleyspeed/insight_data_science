{
 "cells": [
  {
   "cell_type": "markdown",
   "metadata": {},
   "source": [
    "# Random Forest Classifier For Time Series"
   ]
  },
  {
   "cell_type": "markdown",
   "metadata": {},
   "source": [
    "## Dependencies and Defaults"
   ]
  },
  {
   "cell_type": "code",
   "execution_count": 43,
   "metadata": {},
   "outputs": [],
   "source": [
    "import subscript.config as cn\n",
    "import os\n",
    "from sklearn.ensemble import RandomForestClassifier\n",
    "from sklearn.datasets import make_classification\n",
    "from sklearn import preprocessing\n",
    "from sklearn.model_selection import ShuffleSplit\n",
    "from sklearn.model_selection import StratifiedShuffleSplit\n",
    "from sklearn import metrics\n",
    "import matplotlib.pyplot as plt\n",
    "import seaborn as sns\n",
    "import pickle\n",
    "from IPython.display import HTML\n",
    "import pandas as pd\n",
    "import numpy as np\n",
    "import seaborn as sns"
   ]
  },
  {
   "cell_type": "markdown",
   "metadata": {},
   "source": [
    "## Read in the clean time series dataset"
   ]
  },
  {
   "cell_type": "code",
   "execution_count": 44,
   "metadata": {},
   "outputs": [],
   "source": [
    "df = pd.read_csv(os.path.join(cn.clean_dir,'random_forest_time',\n",
    "        'final_time_stats.csv'),dtype = 'unicode')\n",
    "df = df.drop_duplicates()\n",
    "df = df.fillna(0)\n",
    "\n"
   ]
  },
  {
   "cell_type": "code",
   "execution_count": 45,
   "metadata": {},
   "outputs": [],
   "source": [
    "del_cols = [c for c in df.columns.values if 'unnamed' in c.lower()]\n",
    "df = df.drop(del_cols, axis = 1)"
   ]
  },
  {
   "cell_type": "code",
   "execution_count": 46,
   "metadata": {},
   "outputs": [],
   "source": [
    "\n",
    "recent_cols = [c for c in df.columns.values if '2018' in c \n",
    "               or '2019' in c\n",
    "               or '2020' in c\n",
    "               or 'engagement' in c \n",
    "               or 'gear_score' in c\n",
    "              or 'time_since_login' in c]\n",
    "df_orig = df.copy()\n",
    "df = df[recent_cols]"
   ]
  },
  {
   "cell_type": "code",
   "execution_count": 47,
   "metadata": {},
   "outputs": [
    {
     "data": {
      "text/plain": [
       "0    13\n",
       "1    13\n",
       "2    12\n",
       "3    12\n",
       "4    12\n",
       "Name: 2020-05, dtype: object"
      ]
     },
     "execution_count": 47,
     "metadata": {},
     "output_type": "execute_result"
    }
   ],
   "source": [
    "df['2020-05'].head()"
   ]
  },
  {
   "cell_type": "code",
   "execution_count": 48,
   "metadata": {},
   "outputs": [],
   "source": [
    "\n",
    "no_xform = ['player', 'realm', 'last_login', \n",
    "            'time_since_login','engagement', 'status']\n",
    "\n",
    "X = df.drop(['engagement', 'time_since_login'], axis = 1)\n",
    "y = df.engagement "
   ]
  },
  {
   "cell_type": "code",
   "execution_count": 49,
   "metadata": {},
   "outputs": [
    {
     "data": {
      "text/plain": [
       "<matplotlib.axes._subplots.AxesSubplot at 0x168bc4190>"
      ]
     },
     "execution_count": 49,
     "metadata": {},
     "output_type": "execute_result"
    },
    {
     "data": {
      "image/png": "[encoded data removed]",
      "text/plain": [
       "<Figure size 432x288 with 1 Axes>"
      ]
     },
     "metadata": {
      "needs_background": "light"
     },
     "output_type": "display_data"
    }
   ],
   "source": [
    "df.engagement.hist()"
   ]
  },
  {
   "cell_type": "markdown",
   "metadata": {},
   "source": [
    "## Cross-Validation"
   ]
  },
  {
   "cell_type": "code",
   "execution_count": 50,
   "metadata": {},
   "outputs": [
    {
     "data": {
      "text/html": [
       "<hr>"
      ],
      "text/plain": [
       "<IPython.core.display.HTML object>"
      ]
     },
     "metadata": {},
     "output_type": "display_data"
    },
    {
     "name": "stdout",
     "output_type": "stream",
     "text": [
      "For fold 1:\n",
      "              precision    recall  f1-score   support\n",
      "\n",
      "         0.0      0.925     0.872     0.898     23605\n",
      "         1.0      0.673     0.819     0.739      8981\n",
      "         2.0      0.847     0.463     0.599      1305\n",
      "\n",
      "    accuracy                          0.842     33891\n",
      "   macro avg      0.815     0.718     0.745     33891\n",
      "weighted avg      0.855     0.842     0.844     33891\n",
      "\n"
     ]
    },
    {
     "data": {
      "text/html": [
       "<hr>"
      ],
      "text/plain": [
       "<IPython.core.display.HTML object>"
      ]
     },
     "metadata": {},
     "output_type": "display_data"
    },
    {
     "name": "stdout",
     "output_type": "stream",
     "text": [
      "For fold 2:\n",
      "              precision    recall  f1-score   support\n",
      "\n",
      "         0.0      0.925     0.873     0.899     23605\n",
      "         1.0      0.676     0.815     0.739      8981\n",
      "         2.0      0.812     0.481     0.604      1305\n",
      "\n",
      "    accuracy                          0.843     33891\n",
      "   macro avg      0.805     0.723     0.747     33891\n",
      "weighted avg      0.855     0.843     0.845     33891\n",
      "\n"
     ]
    },
    {
     "data": {
      "text/html": [
       "<hr>"
      ],
      "text/plain": [
       "<IPython.core.display.HTML object>"
      ]
     },
     "metadata": {},
     "output_type": "display_data"
    },
    {
     "name": "stdout",
     "output_type": "stream",
     "text": [
      "For fold 3:\n",
      "              precision    recall  f1-score   support\n",
      "\n",
      "         0.0      0.928     0.886     0.906     23605\n",
      "         1.0      0.699     0.822     0.756      8980\n",
      "         2.0      0.854     0.516     0.643      1306\n",
      "\n",
      "    accuracy                          0.855     33891\n",
      "   macro avg      0.827     0.741     0.768     33891\n",
      "weighted avg      0.864     0.855     0.856     33891\n",
      "\n"
     ]
    },
    {
     "data": {
      "text/html": [
       "<hr>"
      ],
      "text/plain": [
       "<IPython.core.display.HTML object>"
      ]
     },
     "metadata": {},
     "output_type": "display_data"
    },
    {
     "name": "stdout",
     "output_type": "stream",
     "text": [
      "For fold 4:\n",
      "              precision    recall  f1-score   support\n",
      "\n",
      "         0.0      0.928     0.893     0.910     23604\n",
      "         1.0      0.710     0.823     0.762      8981\n",
      "         2.0      0.836     0.496     0.623      1306\n",
      "\n",
      "    accuracy                          0.859     33891\n",
      "   macro avg      0.825     0.737     0.765     33891\n",
      "weighted avg      0.867     0.859     0.860     33891\n",
      "\n"
     ]
    },
    {
     "data": {
      "text/html": [
       "<hr>"
      ],
      "text/plain": [
       "<IPython.core.display.HTML object>"
      ]
     },
     "metadata": {},
     "output_type": "display_data"
    },
    {
     "name": "stdout",
     "output_type": "stream",
     "text": [
      "For fold 5:\n",
      "              precision    recall  f1-score   support\n",
      "\n",
      "         0.0      0.935     0.915     0.925     23604\n",
      "         1.0      0.752     0.836     0.792      8981\n",
      "         2.0      0.877     0.525     0.657      1305\n",
      "\n",
      "    accuracy                          0.879     33890\n",
      "   macro avg      0.855     0.759     0.791     33890\n",
      "weighted avg      0.884     0.879     0.879     33890\n",
      "\n"
     ]
    }
   ],
   "source": [
    "from sklearn.pipeline import Pipeline, make_pipeline\n",
    "from imblearn.over_sampling import SMOTE\n",
    "from sklearn.ensemble import RandomForestClassifier\n",
    "from sklearn.model_selection import StratifiedKFold\n",
    "from sklearn.preprocessing import StandardScaler\n",
    "\n",
    "scaler = StandardScaler()\n",
    "n_splits = 5\n",
    "kf = StratifiedKFold(n_splits=n_splits) #Stratified because we need balanced samples\n",
    "kf.get_n_splits(X,np.ravel(y))\n",
    "df_cv = pd.DataFrame()\n",
    "\n",
    "for fold, (train_index, test_index) in enumerate(kf.split(X, y),1):\n",
    "#for train_index, test_index in kf.split(X, y):\n",
    "    X_train, X_test = X.iloc[train_index][:], X.iloc[test_index][:]\n",
    "    y_train, y_test = y.iloc[train_index][:], y.iloc[test_index][:]\n",
    "    X_train = scaler.fit_transform (X_train)\n",
    "    X_test = scaler.transform (X_test)\n",
    "    sm = SMOTE(k_neighbors = 5, n_jobs = -1)\n",
    "    X_train_oversampled, y_train_oversampled = sm.fit_sample(X_train, y_train)\n",
    "    model = RandomForestClassifier (n_jobs = -1, \n",
    "            \n",
    "                bootstrap = True,\n",
    "                n_estimators = 300,\n",
    "                oob_score = False,\n",
    "                random_state = 17)\n",
    "    model.fit(X_train_oversampled, y_train_oversampled )  \n",
    "    predictions = model.predict(X_test)\n",
    "    met = metrics.classification_report(y_test, predictions, digits=3)\n",
    "    display(HTML('<hr>'))\n",
    "    print(f'For fold {fold}:')\n",
    "    print (met)\n",
    "    \n",
    "    "
   ]
  },
  {
   "cell_type": "markdown",
   "metadata": {},
   "source": [
    "## Create Training and Test Sets"
   ]
  },
  {
   "cell_type": "code",
   "execution_count": 14,
   "metadata": {},
   "outputs": [],
   "source": [
    "from sklearn.model_selection import ShuffleSplit, StratifiedShuffleSplit\n",
    "from sklearn.preprocessing import StandardScaler\n",
    "\n",
    "scaler = StandardScaler()\n",
    "\n",
    "split = StratifiedShuffleSplit(n_splits = 10, test_size = 0.25, random_state = 17)\n",
    "for train_index, test_index in split.split(X, y):\n",
    "    X_train = X.iloc[train_index][:]\n",
    "    X_test = X.iloc[test_index][:]\n",
    "    y_train = y.iloc[train_index][:]\n",
    "    y_test = y.iloc[test_index][:]\n",
    "    \n",
    "    train_set = df.iloc[train_index][:]\n",
    "    test_set = df.iloc[test_index][:]\n",
    "    train_set.to_csv(os.path.join(cn.clean_dir, 'random_forest_time',\n",
    "            'validation','whole_training_set_20_08_03.csv'), index = False)\n",
    "    test_set.to_csv(os.path.join(cn.clean_dir, 'random_forest_time', \n",
    "            'validation', 'whole_test_set_20_08_03.csv'), index = False)\n",
    "\n",
    "X_train = scaler.fit_transform (X_train)\n",
    "X_test = scaler.transform (X_test)"
   ]
  },
  {
   "cell_type": "code",
   "execution_count": 15,
   "metadata": {},
   "outputs": [
    {
     "data": {
      "text/html": [
       "<div>\n",
       "<style scoped>\n",
       "    .dataframe tbody tr th:only-of-type {\n",
       "        vertical-align: middle;\n",
       "    }\n",
       "\n",
       "    .dataframe tbody tr th {\n",
       "        vertical-align: top;\n",
       "    }\n",
       "\n",
       "    .dataframe thead th {\n",
       "        text-align: right;\n",
       "    }\n",
       "</style>\n",
       "<table border=\"1\" class=\"dataframe\">\n",
       "  <thead>\n",
       "    <tr style=\"text-align: right;\">\n",
       "      <th></th>\n",
       "      <th>gear_score</th>\n",
       "      <th>time_since_login</th>\n",
       "      <th>2018-01</th>\n",
       "      <th>2019-01</th>\n",
       "      <th>2020-01</th>\n",
       "      <th>2018-02</th>\n",
       "      <th>2019-02</th>\n",
       "      <th>2020-02</th>\n",
       "      <th>2018-03</th>\n",
       "      <th>2019-03</th>\n",
       "      <th>...</th>\n",
       "      <th>2018-10</th>\n",
       "      <th>2019-10</th>\n",
       "      <th>2020-10</th>\n",
       "      <th>2018-11</th>\n",
       "      <th>2019-11</th>\n",
       "      <th>2020-11</th>\n",
       "      <th>2018-12</th>\n",
       "      <th>2019-12</th>\n",
       "      <th>2020-12</th>\n",
       "      <th>engagement</th>\n",
       "    </tr>\n",
       "  </thead>\n",
       "  <tbody>\n",
       "    <tr>\n",
       "      <th>0</th>\n",
       "      <td>437.0</td>\n",
       "      <td>5 days 00:00:00.000000000</td>\n",
       "      <td>5.0</td>\n",
       "      <td>8</td>\n",
       "      <td>3.0</td>\n",
       "      <td>1.0</td>\n",
       "      <td>20.0</td>\n",
       "      <td>4.0</td>\n",
       "      <td>3.0</td>\n",
       "      <td>2.0</td>\n",
       "      <td>...</td>\n",
       "      <td>1.0</td>\n",
       "      <td>0.0</td>\n",
       "      <td>0.0</td>\n",
       "      <td>17</td>\n",
       "      <td>1.0</td>\n",
       "      <td>0.0</td>\n",
       "      <td>2</td>\n",
       "      <td>3.0</td>\n",
       "      <td>0.0</td>\n",
       "      <td>0.0</td>\n",
       "    </tr>\n",
       "    <tr>\n",
       "      <th>1</th>\n",
       "      <td>451.0</td>\n",
       "      <td>1 days 00:00:00.000000000</td>\n",
       "      <td>6.0</td>\n",
       "      <td>5</td>\n",
       "      <td>1.0</td>\n",
       "      <td>2.0</td>\n",
       "      <td>18.0</td>\n",
       "      <td>0.0</td>\n",
       "      <td>3.0</td>\n",
       "      <td>2.0</td>\n",
       "      <td>...</td>\n",
       "      <td>4.0</td>\n",
       "      <td>3.0</td>\n",
       "      <td>0.0</td>\n",
       "      <td>16</td>\n",
       "      <td>1.0</td>\n",
       "      <td>0.0</td>\n",
       "      <td>1</td>\n",
       "      <td>3.0</td>\n",
       "      <td>0.0</td>\n",
       "      <td>0.0</td>\n",
       "    </tr>\n",
       "    <tr>\n",
       "      <th>2</th>\n",
       "      <td>447.0</td>\n",
       "      <td>-2 days +00:00:00.000000000</td>\n",
       "      <td>6.0</td>\n",
       "      <td>8</td>\n",
       "      <td>1.0</td>\n",
       "      <td>2.0</td>\n",
       "      <td>19.0</td>\n",
       "      <td>0.0</td>\n",
       "      <td>32.0</td>\n",
       "      <td>2.0</td>\n",
       "      <td>...</td>\n",
       "      <td>8.0</td>\n",
       "      <td>6.0</td>\n",
       "      <td>0.0</td>\n",
       "      <td>17</td>\n",
       "      <td>3.0</td>\n",
       "      <td>0.0</td>\n",
       "      <td>3</td>\n",
       "      <td>48.0</td>\n",
       "      <td>0.0</td>\n",
       "      <td>0.0</td>\n",
       "    </tr>\n",
       "    <tr>\n",
       "      <th>3</th>\n",
       "      <td>329.0</td>\n",
       "      <td>-2 days +00:00:00.000000000</td>\n",
       "      <td>10.0</td>\n",
       "      <td>5</td>\n",
       "      <td>1.0</td>\n",
       "      <td>2.0</td>\n",
       "      <td>18.0</td>\n",
       "      <td>0.0</td>\n",
       "      <td>9.0</td>\n",
       "      <td>2.0</td>\n",
       "      <td>...</td>\n",
       "      <td>5.0</td>\n",
       "      <td>0.0</td>\n",
       "      <td>0.0</td>\n",
       "      <td>16</td>\n",
       "      <td>2.0</td>\n",
       "      <td>0.0</td>\n",
       "      <td>2</td>\n",
       "      <td>10.0</td>\n",
       "      <td>0.0</td>\n",
       "      <td>0.0</td>\n",
       "    </tr>\n",
       "    <tr>\n",
       "      <th>4</th>\n",
       "      <td>268.0</td>\n",
       "      <td>226 days 00:00:00.000000000</td>\n",
       "      <td>1.0</td>\n",
       "      <td>5</td>\n",
       "      <td>1.0</td>\n",
       "      <td>6.0</td>\n",
       "      <td>18.0</td>\n",
       "      <td>0.0</td>\n",
       "      <td>5.0</td>\n",
       "      <td>5.0</td>\n",
       "      <td>...</td>\n",
       "      <td>5.0</td>\n",
       "      <td>1.0</td>\n",
       "      <td>0.0</td>\n",
       "      <td>16</td>\n",
       "      <td>1.0</td>\n",
       "      <td>0.0</td>\n",
       "      <td>4</td>\n",
       "      <td>1.0</td>\n",
       "      <td>0.0</td>\n",
       "      <td>1.0</td>\n",
       "    </tr>\n",
       "  </tbody>\n",
       "</table>\n",
       "<p>5 rows × 38 columns</p>\n",
       "</div>"
      ],
      "text/plain": [
       "  gear_score             time_since_login 2018-01 2019-01 2020-01 2018-02  \\\n",
       "0      437.0    5 days 00:00:00.000000000     5.0       8     3.0     1.0   \n",
       "1      451.0    1 days 00:00:00.000000000     6.0       5     1.0     2.0   \n",
       "2      447.0  -2 days +00:00:00.000000000     6.0       8     1.0     2.0   \n",
       "3      329.0  -2 days +00:00:00.000000000    10.0       5     1.0     2.0   \n",
       "4      268.0  226 days 00:00:00.000000000     1.0       5     1.0     6.0   \n",
       "\n",
       "  2019-02 2020-02 2018-03 2019-03  ... 2018-10 2019-10 2020-10 2018-11  \\\n",
       "0    20.0     4.0     3.0     2.0  ...     1.0     0.0     0.0      17   \n",
       "1    18.0     0.0     3.0     2.0  ...     4.0     3.0     0.0      16   \n",
       "2    19.0     0.0    32.0     2.0  ...     8.0     6.0     0.0      17   \n",
       "3    18.0     0.0     9.0     2.0  ...     5.0     0.0     0.0      16   \n",
       "4    18.0     0.0     5.0     5.0  ...     5.0     1.0     0.0      16   \n",
       "\n",
       "  2019-11 2020-11 2018-12 2019-12 2020-12 engagement  \n",
       "0     1.0     0.0       2     3.0     0.0        0.0  \n",
       "1     1.0     0.0       1     3.0     0.0        0.0  \n",
       "2     3.0     0.0       3    48.0     0.0        0.0  \n",
       "3     2.0     0.0       2    10.0     0.0        0.0  \n",
       "4     1.0     0.0       4     1.0     0.0        1.0  \n",
       "\n",
       "[5 rows x 38 columns]"
      ]
     },
     "execution_count": 15,
     "metadata": {},
     "output_type": "execute_result"
    }
   ],
   "source": [
    "df.head()"
   ]
  },
  {
   "cell_type": "code",
   "execution_count": 16,
   "metadata": {},
   "outputs": [
    {
     "name": "stdout",
     "output_type": "stream",
     "text": [
      "Number of active users =  88517\n",
      "Number of active users =  33678\n",
      "Number of active users =  4895\n",
      "Number of users total =  127090\n",
      "Percent active =  69.64906758989692\n",
      "Percent at-risk =  26.499331182626484\n",
      "Percent inactive =  3.8516012274765914\n"
     ]
    }
   ],
   "source": [
    "num_active = train_set[train_set.engagement == '0.0'].shape[0]\n",
    "print ('Number of active users = ', num_active)\n",
    "num_at_risk = train_set[train_set.engagement == '1.0'].shape[0]\n",
    "print ('Number of active users = ', num_at_risk)\n",
    "num_inactive = train_set[train_set.engagement == '2.0'].shape[0]\n",
    "print ('Number of active users = ', num_inactive)\n",
    "num_total = train_set.shape[0]\n",
    "print ('Number of users total = ', num_total)\n",
    "\n",
    "print(\"Percent active = \", num_active/num_total * 100)\n",
    "print(\"Percent at-risk = \", num_at_risk/num_total * 100)\n",
    "print(\"Percent inactive = \", num_inactive/num_total * 100)"
   ]
  },
  {
   "cell_type": "markdown",
   "metadata": {},
   "source": [
    "## Run Model"
   ]
  },
  {
   "cell_type": "code",
   "execution_count": 17,
   "metadata": {},
   "outputs": [
    {
     "data": {
      "text/html": [
       "<hr>"
      ],
      "text/plain": [
       "<IPython.core.display.HTML object>"
      ]
     },
     "metadata": {},
     "output_type": "display_data"
    },
    {
     "name": "stdout",
     "output_type": "stream",
     "text": [
      "              precision    recall  f1-score   support\n",
      "\n",
      "         0.0      0.928     0.890     0.909     29506\n",
      "         1.0      0.708     0.817     0.759     11226\n",
      "         2.0      0.760     0.518     0.616      1632\n",
      "\n",
      "    accuracy                          0.857     42364\n",
      "   macro avg      0.799     0.742     0.761     42364\n",
      "weighted avg      0.864     0.857     0.858     42364\n",
      "\n"
     ]
    }
   ],
   "source": [
    "from imblearn.over_sampling import SMOTE\n",
    "\n",
    "sm = SMOTE(k_neighbors = 10, n_jobs = -1)\n",
    "X_train_oversampled, y_train_oversampled = sm.fit_sample(X_train, y_train)\n",
    "model = RandomForestClassifier (n_jobs = -1,\n",
    "            \n",
    "            bootstrap = True,\n",
    "            n_estimators = 1000,\n",
    "            oob_score = False,\n",
    "            random_state = 17)\n",
    "model.fit(X_train_oversampled, y_train_oversampled)  \n",
    "predictions = model.predict(X_test)\n",
    "met = metrics.classification_report(y_test, predictions, digits=3)\n",
    "display(HTML('<hr>'))\n",
    "print (met)"
   ]
  },
  {
   "cell_type": "markdown",
   "metadata": {},
   "source": [
    "## Make Predictions"
   ]
  },
  {
   "cell_type": "code",
   "execution_count": 18,
   "metadata": {},
   "outputs": [
    {
     "data": {
      "text/html": [
       "<div>\n",
       "<style scoped>\n",
       "    .dataframe tbody tr th:only-of-type {\n",
       "        vertical-align: middle;\n",
       "    }\n",
       "\n",
       "    .dataframe tbody tr th {\n",
       "        vertical-align: top;\n",
       "    }\n",
       "\n",
       "    .dataframe thead th {\n",
       "        text-align: right;\n",
       "    }\n",
       "</style>\n",
       "<table border=\"1\" class=\"dataframe\">\n",
       "  <thead>\n",
       "    <tr style=\"text-align: right;\">\n",
       "      <th></th>\n",
       "      <th>0</th>\n",
       "      <th>1</th>\n",
       "      <th>2</th>\n",
       "      <th>3</th>\n",
       "      <th>4</th>\n",
       "      <th>5</th>\n",
       "      <th>6</th>\n",
       "      <th>7</th>\n",
       "      <th>8</th>\n",
       "      <th>9</th>\n",
       "      <th>...</th>\n",
       "      <th>28</th>\n",
       "      <th>29</th>\n",
       "      <th>30</th>\n",
       "      <th>31</th>\n",
       "      <th>32</th>\n",
       "      <th>33</th>\n",
       "      <th>34</th>\n",
       "      <th>35</th>\n",
       "      <th>prediction</th>\n",
       "      <th>actual</th>\n",
       "    </tr>\n",
       "  </thead>\n",
       "  <tbody>\n",
       "    <tr>\n",
       "      <th>0</th>\n",
       "      <td>0.871034</td>\n",
       "      <td>-0.330589</td>\n",
       "      <td>-0.607641</td>\n",
       "      <td>-0.523100</td>\n",
       "      <td>-0.291773</td>\n",
       "      <td>-0.551684</td>\n",
       "      <td>-0.145343</td>\n",
       "      <td>-0.404923</td>\n",
       "      <td>-0.462626</td>\n",
       "      <td>3.209596</td>\n",
       "      <td>...</td>\n",
       "      <td>-0.338197</td>\n",
       "      <td>0.0</td>\n",
       "      <td>-0.490036</td>\n",
       "      <td>-0.481973</td>\n",
       "      <td>0.0</td>\n",
       "      <td>-0.575475</td>\n",
       "      <td>-0.216964</td>\n",
       "      <td>0.0</td>\n",
       "      <td>0.0</td>\n",
       "      <td>0.0</td>\n",
       "    </tr>\n",
       "    <tr>\n",
       "      <th>1</th>\n",
       "      <td>1.060679</td>\n",
       "      <td>-0.110761</td>\n",
       "      <td>-0.000591</td>\n",
       "      <td>0.895754</td>\n",
       "      <td>0.327080</td>\n",
       "      <td>-0.144424</td>\n",
       "      <td>0.960203</td>\n",
       "      <td>-0.255007</td>\n",
       "      <td>0.553999</td>\n",
       "      <td>0.103117</td>\n",
       "      <td>...</td>\n",
       "      <td>-0.037279</td>\n",
       "      <td>0.0</td>\n",
       "      <td>-0.124883</td>\n",
       "      <td>-0.358773</td>\n",
       "      <td>0.0</td>\n",
       "      <td>-0.351461</td>\n",
       "      <td>-0.284289</td>\n",
       "      <td>0.0</td>\n",
       "      <td>0.0</td>\n",
       "      <td>0.0</td>\n",
       "    </tr>\n",
       "    <tr>\n",
       "      <th>2</th>\n",
       "      <td>-1.120246</td>\n",
       "      <td>-0.110761</td>\n",
       "      <td>-0.540191</td>\n",
       "      <td>-0.582219</td>\n",
       "      <td>-0.360534</td>\n",
       "      <td>-0.551684</td>\n",
       "      <td>-0.436276</td>\n",
       "      <td>-0.329965</td>\n",
       "      <td>-0.535242</td>\n",
       "      <td>0.768791</td>\n",
       "      <td>...</td>\n",
       "      <td>-0.413427</td>\n",
       "      <td>0.0</td>\n",
       "      <td>-0.563066</td>\n",
       "      <td>-0.420373</td>\n",
       "      <td>0.0</td>\n",
       "      <td>-0.500803</td>\n",
       "      <td>-0.418939</td>\n",
       "      <td>0.0</td>\n",
       "      <td>1.0</td>\n",
       "      <td>1.0</td>\n",
       "    </tr>\n",
       "    <tr>\n",
       "      <th>3</th>\n",
       "      <td>0.510707</td>\n",
       "      <td>-0.403865</td>\n",
       "      <td>-0.202941</td>\n",
       "      <td>-0.582219</td>\n",
       "      <td>-0.360534</td>\n",
       "      <td>-0.388780</td>\n",
       "      <td>-0.203530</td>\n",
       "      <td>-0.255007</td>\n",
       "      <td>-0.244777</td>\n",
       "      <td>-0.451611</td>\n",
       "      <td>...</td>\n",
       "      <td>-0.338197</td>\n",
       "      <td>0.0</td>\n",
       "      <td>-0.343975</td>\n",
       "      <td>-0.420373</td>\n",
       "      <td>0.0</td>\n",
       "      <td>-0.500803</td>\n",
       "      <td>-0.418939</td>\n",
       "      <td>0.0</td>\n",
       "      <td>0.0</td>\n",
       "      <td>0.0</td>\n",
       "    </tr>\n",
       "    <tr>\n",
       "      <th>4</th>\n",
       "      <td>-0.304769</td>\n",
       "      <td>-0.403865</td>\n",
       "      <td>-0.135491</td>\n",
       "      <td>-0.523100</td>\n",
       "      <td>-0.429296</td>\n",
       "      <td>-0.470232</td>\n",
       "      <td>-0.319903</td>\n",
       "      <td>0.569532</td>\n",
       "      <td>-0.462626</td>\n",
       "      <td>-0.562557</td>\n",
       "      <td>...</td>\n",
       "      <td>-0.037279</td>\n",
       "      <td>0.0</td>\n",
       "      <td>0.240269</td>\n",
       "      <td>-0.420373</td>\n",
       "      <td>0.0</td>\n",
       "      <td>-0.500803</td>\n",
       "      <td>-0.486264</td>\n",
       "      <td>0.0</td>\n",
       "      <td>1.0</td>\n",
       "      <td>0.0</td>\n",
       "    </tr>\n",
       "  </tbody>\n",
       "</table>\n",
       "<p>5 rows × 38 columns</p>\n",
       "</div>"
      ],
      "text/plain": [
       "          0         1         2         3         4         5         6  \\\n",
       "0  0.871034 -0.330589 -0.607641 -0.523100 -0.291773 -0.551684 -0.145343   \n",
       "1  1.060679 -0.110761 -0.000591  0.895754  0.327080 -0.144424  0.960203   \n",
       "2 -1.120246 -0.110761 -0.540191 -0.582219 -0.360534 -0.551684 -0.436276   \n",
       "3  0.510707 -0.403865 -0.202941 -0.582219 -0.360534 -0.388780 -0.203530   \n",
       "4 -0.304769 -0.403865 -0.135491 -0.523100 -0.429296 -0.470232 -0.319903   \n",
       "\n",
       "          7         8         9  ...        28   29        30        31   32  \\\n",
       "0 -0.404923 -0.462626  3.209596  ... -0.338197  0.0 -0.490036 -0.481973  0.0   \n",
       "1 -0.255007  0.553999  0.103117  ... -0.037279  0.0 -0.124883 -0.358773  0.0   \n",
       "2 -0.329965 -0.535242  0.768791  ... -0.413427  0.0 -0.563066 -0.420373  0.0   \n",
       "3 -0.255007 -0.244777 -0.451611  ... -0.338197  0.0 -0.343975 -0.420373  0.0   \n",
       "4  0.569532 -0.462626 -0.562557  ... -0.037279  0.0  0.240269 -0.420373  0.0   \n",
       "\n",
       "         33        34   35  prediction  actual  \n",
       "0 -0.575475 -0.216964  0.0         0.0     0.0  \n",
       "1 -0.351461 -0.284289  0.0         0.0     0.0  \n",
       "2 -0.500803 -0.418939  0.0         1.0     1.0  \n",
       "3 -0.500803 -0.418939  0.0         0.0     0.0  \n",
       "4 -0.500803 -0.486264  0.0         1.0     0.0  \n",
       "\n",
       "[5 rows x 38 columns]"
      ]
     },
     "execution_count": 18,
     "metadata": {},
     "output_type": "execute_result"
    }
   ],
   "source": [
    "predictions = model.predict(X_test)\n",
    "df_pred = pd.DataFrame(X_test)\n",
    "df_pred['prediction'] = predictions\n",
    "df_pred['actual'] = y_test.values\n",
    "df_pred.to_csv(os.path.join(cn.clean_dir, \n",
    "        'random_forest_time','final_time_predictions_demo.csv'), \n",
    "        index = False)\n",
    "df_pred.head()"
   ]
  },
  {
   "cell_type": "markdown",
   "metadata": {},
   "source": [
    "## Get accuracy score"
   ]
  },
  {
   "cell_type": "code",
   "execution_count": 19,
   "metadata": {},
   "outputs": [
    {
     "name": "stdout",
     "output_type": "stream",
     "text": [
      "0.9998583680856086\n"
     ]
    }
   ],
   "source": [
    "print(model.score(X_train,y_train))"
   ]
  },
  {
   "cell_type": "markdown",
   "metadata": {},
   "source": [
    "## Calculate the confusion matrix"
   ]
  },
  {
   "cell_type": "code",
   "execution_count": 20,
   "metadata": {},
   "outputs": [
    {
     "name": "stdout",
     "output_type": "stream",
     "text": [
      "[[26271  3110   125]\n",
      " [ 1908  9176   142]\n",
      " [  116   671   845]]\n"
     ]
    }
   ],
   "source": [
    "cnf_matrix = metrics.confusion_matrix(y_test,predictions)\n",
    "print(cnf_matrix)"
   ]
  },
  {
   "cell_type": "markdown",
   "metadata": {},
   "source": [
    "## Print the precision, recall, and accuracy"
   ]
  },
  {
   "cell_type": "code",
   "execution_count": 21,
   "metadata": {},
   "outputs": [
    {
     "name": "stdout",
     "output_type": "stream",
     "text": [
      "              precision    recall  f1-score   support\n",
      "\n",
      "         0.0      0.928     0.890     0.909     29506\n",
      "         1.0      0.708     0.817     0.759     11226\n",
      "         2.0      0.760     0.518     0.616      1632\n",
      "\n",
      "    accuracy                          0.857     42364\n",
      "   macro avg      0.799     0.742     0.761     42364\n",
      "weighted avg      0.864     0.857     0.858     42364\n",
      "\n"
     ]
    }
   ],
   "source": [
    "met = metrics.classification_report(y_test, predictions, digits=3)\n",
    "folder = os.path.join(cn.clean_dir, 'random_forest_time',)\n",
    "f_name = 'metrics_time_balanced_metrics.csv'\n",
    "print(met)"
   ]
  },
  {
   "cell_type": "markdown",
   "metadata": {},
   "source": [
    "## Plot the confusion matriix"
   ]
  },
  {
   "cell_type": "code",
   "execution_count": 22,
   "metadata": {},
   "outputs": [
    {
     "data": {
      "image/png": "[encoded data removed]",
      "text/plain": [
       "<Figure size 576x576 with 2 Axes>"
      ]
     },
     "metadata": {
      "needs_background": "light"
     },
     "output_type": "display_data"
    }
   ],
   "source": [
    "fig2, ax = plt.subplots(figsize = (8,8))\n",
    "sns.heatmap(pd.DataFrame(cnf_matrix), annot = True, cmap = 'viridis', fmt = 'g', annot_kws={\"size\":16})\n",
    "ax.set_xlabel (\"Predicted Value\", fontsize = 18)\n",
    "ax.set_ylabel (\"Actual Value\", fontsize = 18)\n",
    "ax.tick_params (labelsize = 14)\n",
    "plt.tight_layout()\n",
    "fig2.savefig(os.path.join(cn.clean_dir, 'random_forest_time','cnfmatrix_time_balanced.png'), dpi=180)"
   ]
  },
  {
   "cell_type": "markdown",
   "metadata": {},
   "source": [
    "## Save the model"
   ]
  },
  {
   "cell_type": "code",
   "execution_count": 23,
   "metadata": {},
   "outputs": [],
   "source": [
    "# save the model to disk\n",
    "pickle_name = 'final_time_model_20_08_03.sav'\n",
    "os.chdir(os.path.join(cn.clean_dir,'random_forest_time'))\n",
    "with open(pickle_name, 'wb') as file:\n",
    "    pickle.dump(model, file)\n",
    "plt.show()"
   ]
  },
  {
   "cell_type": "markdown",
   "metadata": {},
   "source": [
    "## Get importances (years-months)"
   ]
  },
  {
   "cell_type": "code",
   "execution_count": 24,
   "metadata": {
    "scrolled": false
   },
   "outputs": [
    {
     "data": {
      "text/html": [
       "<div>\n",
       "<style scoped>\n",
       "    .dataframe tbody tr th:only-of-type {\n",
       "        vertical-align: middle;\n",
       "    }\n",
       "\n",
       "    .dataframe tbody tr th {\n",
       "        vertical-align: top;\n",
       "    }\n",
       "\n",
       "    .dataframe thead th {\n",
       "        text-align: right;\n",
       "    }\n",
       "</style>\n",
       "<table border=\"1\" class=\"dataframe\">\n",
       "  <thead>\n",
       "    <tr style=\"text-align: right;\">\n",
       "      <th></th>\n",
       "      <th>importance</th>\n",
       "    </tr>\n",
       "  </thead>\n",
       "  <tbody>\n",
       "    <tr>\n",
       "      <th>gear_score</th>\n",
       "      <td>0.191149</td>\n",
       "    </tr>\n",
       "    <tr>\n",
       "      <th>2020-05</th>\n",
       "      <td>0.049375</td>\n",
       "    </tr>\n",
       "    <tr>\n",
       "      <th>2019-11</th>\n",
       "      <td>0.039674</td>\n",
       "    </tr>\n",
       "    <tr>\n",
       "      <th>2020-04</th>\n",
       "      <td>0.038564</td>\n",
       "    </tr>\n",
       "    <tr>\n",
       "      <th>2019-12</th>\n",
       "      <td>0.033889</td>\n",
       "    </tr>\n",
       "    <tr>\n",
       "      <th>2019-07</th>\n",
       "      <td>0.031143</td>\n",
       "    </tr>\n",
       "    <tr>\n",
       "      <th>2020-03</th>\n",
       "      <td>0.030930</td>\n",
       "    </tr>\n",
       "    <tr>\n",
       "      <th>2020-01</th>\n",
       "      <td>0.029257</td>\n",
       "    </tr>\n",
       "    <tr>\n",
       "      <th>2019-08</th>\n",
       "      <td>0.028793</td>\n",
       "    </tr>\n",
       "    <tr>\n",
       "      <th>2018-08</th>\n",
       "      <td>0.028472</td>\n",
       "    </tr>\n",
       "    <tr>\n",
       "      <th>2018-09</th>\n",
       "      <td>0.027751</td>\n",
       "    </tr>\n",
       "    <tr>\n",
       "      <th>2020-02</th>\n",
       "      <td>0.027451</td>\n",
       "    </tr>\n",
       "    <tr>\n",
       "      <th>2019-04</th>\n",
       "      <td>0.026583</td>\n",
       "    </tr>\n",
       "    <tr>\n",
       "      <th>2018-07</th>\n",
       "      <td>0.025882</td>\n",
       "    </tr>\n",
       "    <tr>\n",
       "      <th>2018-01</th>\n",
       "      <td>0.025704</td>\n",
       "    </tr>\n",
       "    <tr>\n",
       "      <th>2019-06</th>\n",
       "      <td>0.025264</td>\n",
       "    </tr>\n",
       "    <tr>\n",
       "      <th>2018-10</th>\n",
       "      <td>0.024743</td>\n",
       "    </tr>\n",
       "    <tr>\n",
       "      <th>2019-10</th>\n",
       "      <td>0.024262</td>\n",
       "    </tr>\n",
       "    <tr>\n",
       "      <th>2019-05</th>\n",
       "      <td>0.024035</td>\n",
       "    </tr>\n",
       "    <tr>\n",
       "      <th>2018-12</th>\n",
       "      <td>0.023981</td>\n",
       "    </tr>\n",
       "    <tr>\n",
       "      <th>2020-06</th>\n",
       "      <td>0.023743</td>\n",
       "    </tr>\n",
       "    <tr>\n",
       "      <th>2019-02</th>\n",
       "      <td>0.023582</td>\n",
       "    </tr>\n",
       "    <tr>\n",
       "      <th>2019-01</th>\n",
       "      <td>0.023519</td>\n",
       "    </tr>\n",
       "    <tr>\n",
       "      <th>2019-03</th>\n",
       "      <td>0.023111</td>\n",
       "    </tr>\n",
       "    <tr>\n",
       "      <th>2018-11</th>\n",
       "      <td>0.022825</td>\n",
       "    </tr>\n",
       "    <tr>\n",
       "      <th>2018-02</th>\n",
       "      <td>0.021938</td>\n",
       "    </tr>\n",
       "    <tr>\n",
       "      <th>2019-09</th>\n",
       "      <td>0.021905</td>\n",
       "    </tr>\n",
       "    <tr>\n",
       "      <th>2018-04</th>\n",
       "      <td>0.021124</td>\n",
       "    </tr>\n",
       "    <tr>\n",
       "      <th>2018-03</th>\n",
       "      <td>0.020790</td>\n",
       "    </tr>\n",
       "    <tr>\n",
       "      <th>2018-06</th>\n",
       "      <td>0.020480</td>\n",
       "    </tr>\n",
       "    <tr>\n",
       "      <th>2018-05</th>\n",
       "      <td>0.020081</td>\n",
       "    </tr>\n",
       "    <tr>\n",
       "      <th>2020-08</th>\n",
       "      <td>0.000000</td>\n",
       "    </tr>\n",
       "    <tr>\n",
       "      <th>2020-09</th>\n",
       "      <td>0.000000</td>\n",
       "    </tr>\n",
       "    <tr>\n",
       "      <th>2020-10</th>\n",
       "      <td>0.000000</td>\n",
       "    </tr>\n",
       "    <tr>\n",
       "      <th>2020-11</th>\n",
       "      <td>0.000000</td>\n",
       "    </tr>\n",
       "    <tr>\n",
       "      <th>2020-12</th>\n",
       "      <td>0.000000</td>\n",
       "    </tr>\n",
       "  </tbody>\n",
       "</table>\n",
       "</div>"
      ],
      "text/plain": [
       "            importance\n",
       "gear_score    0.191149\n",
       "2020-05       0.049375\n",
       "2019-11       0.039674\n",
       "2020-04       0.038564\n",
       "2019-12       0.033889\n",
       "2019-07       0.031143\n",
       "2020-03       0.030930\n",
       "2020-01       0.029257\n",
       "2019-08       0.028793\n",
       "2018-08       0.028472\n",
       "2018-09       0.027751\n",
       "2020-02       0.027451\n",
       "2019-04       0.026583\n",
       "2018-07       0.025882\n",
       "2018-01       0.025704\n",
       "2019-06       0.025264\n",
       "2018-10       0.024743\n",
       "2019-10       0.024262\n",
       "2019-05       0.024035\n",
       "2018-12       0.023981\n",
       "2020-06       0.023743\n",
       "2019-02       0.023582\n",
       "2019-01       0.023519\n",
       "2019-03       0.023111\n",
       "2018-11       0.022825\n",
       "2018-02       0.021938\n",
       "2019-09       0.021905\n",
       "2018-04       0.021124\n",
       "2018-03       0.020790\n",
       "2018-06       0.020480\n",
       "2018-05       0.020081\n",
       "2020-08       0.000000\n",
       "2020-09       0.000000\n",
       "2020-10       0.000000\n",
       "2020-11       0.000000\n",
       "2020-12       0.000000"
      ]
     },
     "metadata": {},
     "output_type": "display_data"
    }
   ],
   "source": [
    "importances = model.feature_importances_\n",
    "dfp = pd.DataFrame(importances, index = X.columns, \n",
    "        columns = ['importance']).sort_values('importance', ascending = False)\n",
    "display(dfp)"
   ]
  },
  {
   "cell_type": "markdown",
   "metadata": {},
   "source": [
    "#### **Subscriber loyalty is the primary determinant of future engagement.**"
   ]
  },
  {
   "cell_type": "markdown",
   "metadata": {},
   "source": [
    "Gear score is the most important indicator of whether or not a player will remain engaged. This makes sense because gear score increases continuously throughout an expansion, even if the player is only accomplishing menial tasks instead of achievement-granting tasks. It is also expected that the next three most important features predicting a player's engagement is how often they have been playing in the previous months, as well as their 2-3 year loyalty."
   ]
  },
  {
   "cell_type": "markdown",
   "metadata": {},
   "source": [
    "## Repeat the predictions as if the player had completed 1-5 recommended activities in May 2020"
   ]
  },
  {
   "cell_type": "code",
   "execution_count": null,
   "metadata": {},
   "outputs": [],
   "source": [
    "print(df.shape, df_pred.shape)"
   ]
  },
  {
   "cell_type": "code",
   "execution_count": 30,
   "metadata": {},
   "outputs": [],
   "source": [
    "dfo = pd.read_csv(os.path.join(cn.clean_dir,'random_forest_time',\n",
    "        'final_time_stats.csv'),dtype = 'unicode')\n",
    "dfo = dfo.drop_duplicates()\n",
    "dfo = dfo.fillna(0)\n",
    "dfo['id'] = dfo.player + '_' + dfo.realm\n"
   ]
  },
  {
   "cell_type": "code",
   "execution_count": 34,
   "metadata": {},
   "outputs": [],
   "source": [
    "i = 1\n",
    "\n",
    "for i in np.arange(0,6):\n",
    "    if i == 0:\n",
    "        df['2020-05'] = df['2020-05'].values.astype(float)\n",
    "    else:\n",
    "        df['2020-05'] = df['2020-05'].values.astype(float) + 1\n",
    "    X = scaler.transform(df[recent_cols].drop(['engagement', 'time_since_login'], axis = 1))\n",
    "    new_pred = model.predict(X)\n",
    "    dfo['pred' + str(i)] = new_pred\n"
   ]
  },
  {
   "cell_type": "code",
   "execution_count": 38,
   "metadata": {},
   "outputs": [],
   "source": [
    "dfo['id'] = dfo.player + '_' + dfo.realm\n",
    "#dfo = dfo.set_index ('id')\n",
    "dfo.to_csv(os.path.join(cn.clean_dir, 'random_forest_time',\n",
    "        'test_predictions2.csv'), index = False)"
   ]
  },
  {
   "cell_type": "code",
   "execution_count": 28,
   "metadata": {},
   "outputs": [],
   "source": [
    "#df['id'] = dfo.id\n",
    "#df['status'] = dfo.status\n",
    "#df['last_login'] = dfo.last_login\n",
    "#df = df.set_index ('id')\n",
    "#df.to_csv(os.path.join(cn.clean_dir, 'random_forest_time',\n",
    "        'test_predictions2.csv'), index = False)"
   ]
  },
  {
   "cell_type": "code",
   "execution_count": 42,
   "metadata": {},
   "outputs": [
    {
     "data": {
      "text/plain": [
       "(29979, 100)"
      ]
     },
     "execution_count": 42,
     "metadata": {},
     "output_type": "execute_result"
    }
   ],
   "source": [
    "dfo[dfo.pred0 == '1.0'].shape"
   ]
  },
  {
   "cell_type": "code",
   "execution_count": null,
   "metadata": {},
   "outputs": [],
   "source": [
    "def update_plot(fig, ax, df_results):\n",
    "    \"\"\" Plots the Maximum Estimated ROI\"\"\"\n",
    "    retained = list()\n",
    "    sub_cost = 15.99\n",
    "    test_size = df_results.shape[0]\n",
    "    for i in np.arange(1,6):\n",
    "        hyp = df_results[df_results['pred' + str(i)] == '0.0'].index.values\n",
    "        retained.append(len(hyp))\n",
    "    y1 = round(retained[0] * sub_cost / 1000,1) #* (100000/test_size)\n",
    "    y2 = round(retained[1] * sub_cost / 1000,1) # * (100000/test_size)\n",
    "    y3 = round(retained[2] * sub_cost / 1000,1) # * (100000/test_size)\n",
    "    y4 = round(retained[3] * sub_cost / 1000,1) # * (100000/test_size)\n",
    "    y5 = round(retained[4] * sub_cost / 1000,1) # * (100000/test_size)\n",
    "    ax.bar (x = 1, height = y1, color = 'turquoise', edgecolor = 'dimgray')\n",
    "    ax.bar (x = 2, height = y2, color = 'skyblue', edgecolor = 'dimgray')\n",
    "    ax.bar (x = 3, height = y3, color = 'mediumpurple', edgecolor = 'dimgray')\n",
    "    ax.bar (x = 4, height = y4, color = 'plum', edgecolor = 'dimgray')\n",
    "    ax.bar (x = 5, height = y5, color = 'salmon', edgecolor = 'dimgray')\n",
    "    ax.annotate('$' + str(y1)[:4] + 'k', xy=(0.75, y1 + y1 * 0.02), fontsize = 12)\n",
    "    ax.annotate('$' + str(y2)[:4] + 'k', xy=(1.75, y2 + y2 * 0.02), fontsize = 12)\n",
    "    ax.annotate('$' + str(y3)[:4] + 'k', xy=(2.75, y3 + y3 * 0.02), fontsize = 12)\n",
    "    ax.annotate('$' + str(y4)[:4] + 'k', xy=(3.75, y4 + y4 * 0.02), fontsize = 12)\n",
    "    ax.annotate('$' + str(y5)[:4] + 'k', xy=(4.75, y5 + y5 * 0.02), fontsize = 12)\n",
    "    ax.tick_params(labelsize = 12)\n",
    "    ax.set_xlim(0.5, 5.5)\n",
    "    ax.set_ylim(0,y5 + y5 *0.5)\n",
    "    ax.set_ylabel('Estimated Monthly Revenue Recovered \\n (per 100,000 players) \\n', fontsize = 12)\n",
    "    ax.set_xlabel('\\n Additional Content Completed', fontsize = 12)\n",
    "    plt.tight_layout()\n",
    "    #main_bottom.pyplot()\n",
    "    return retained"
   ]
  },
  {
   "cell_type": "code",
   "execution_count": null,
   "metadata": {},
   "outputs": [],
   "source": [
    "fig, ax = plt.subplots()\n",
    "retained = update_plot(fig, ax, df[df.pred0 == '1.0'])\n",
    "percent_recovery = []\n",
    "sample_size = df[df.pred0 == '1.0'].shape[0]\n",
    "print('sample size = {}'.format(sample_size))\n",
    "for i in np.arange(0,5):\n",
    "    print(retained[i])\n",
    "    percent_recovery.append(round(100*(retained[i])/sample_size,1))\n",
    "print('Estimated Conversion from At-Risk to Active Status: ')\n",
    "print('1 additional activity: ' + str(percent_recovery[0]) + '%')\n",
    "print('2 additional activities: ' + str(percent_recovery[1])+ '%')\n",
    "print('3 additional activities: ' + str(percent_recovery[2])+ '%')\n",
    "print('4 additional activities: '+ str(percent_recovery[3])+ '%')\n",
    "print('5 additional activities: '+ str(percent_recovery[4])+ '%')\n"
   ]
  },
  {
   "cell_type": "code",
   "execution_count": null,
   "metadata": {},
   "outputs": [],
   "source": []
  }
 ],
 "metadata": {
  "kernelspec": {
   "display_name": "ins_env",
   "language": "python",
   "name": "ins_env"
  },
  "language_info": {
   "codemirror_mode": {
    "name": "ipython",
    "version": 3
   },
   "file_extension": ".py",
   "mimetype": "text/x-python",
   "name": "python",
   "nbconvert_exporter": "python",
   "pygments_lexer": "ipython3",
   "version": "3.7.7"
  }
 },
 "nbformat": 4,
 "nbformat_minor": 4
}

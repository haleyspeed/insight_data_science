{
 "cells": [
  {
   "cell_type": "markdown",
   "metadata": {},
   "source": [
    "# Subscript MySQL Manager\n",
    "A collection of tools for maintaining the SubScript database hosted on my n-coding.net website."
   ]
  },
  {
   "cell_type": "code",
   "execution_count": 16,
   "metadata": {},
   "outputs": [],
   "source": [
    "import mysql.connector\n",
    "from mysql.connector import errorcode\n",
    "import configparser\n",
    "import pandas as pd\n",
    "import os\n",
    "import subscript.config as cn\n",
    "from subscript.custom_funcs import create_database, create_table, locate_database \n",
    "import numpy as np"
   ]
  },
  {
   "cell_type": "markdown",
   "metadata": {},
   "source": [
    "## Configure database connections"
   ]
  },
  {
   "cell_type": "code",
   "execution_count": 2,
   "metadata": {},
   "outputs": [],
   "source": [
    "config = configparser.ConfigParser()\n",
    "config.read('../config.ini')\n",
    "DB_NAME = config.get('connections', 'db_name')\n",
    "USER_NAME = config.get('connections', 'db_user')\n",
    "PWD = config.get('connections', 'db_pwd')\n",
    "HOST_NAME = config.get('connections','db_host')\n",
    "PORT = config.get('connections', 'db_port')"
   ]
  },
  {
   "cell_type": "markdown",
   "metadata": {},
   "source": [
    "## Connect to database"
   ]
  },
  {
   "cell_type": "code",
   "execution_count": 11,
   "metadata": {},
   "outputs": [],
   "source": [
    "def connect():\n",
    "    cnx = mysql.connector.connect(user = USER_NAME,\n",
    "    password = PWD, host = HOST_NAME, database = DB_NAME,\n",
    "    port = PORT)\n",
    "    cursor = cnx.cursor(buffered = True)\n",
    "    locate_database(cursor, DB_NAME)\n",
    "    return cnx, cursor"
   ]
  },
  {
   "cell_type": "markdown",
   "metadata": {},
   "source": [
    "## Final_time_stats table"
   ]
  },
  {
   "cell_type": "markdown",
   "metadata": {},
   "source": [
    "#### Create final_time_stats table"
   ]
  },
  {
   "cell_type": "code",
   "execution_count": 23,
   "metadata": {},
   "outputs": [
    {
     "name": "stdout",
     "output_type": "stream",
     "text": [
      "94\n",
      "CREATE TABLE final_time_stats (time_since_login varchar(100), status varchar(100), realm varchar(100), player varchar(100), last_login varchar(100), id varchar(100), gear_score varchar(100), engagement varchar(100), a2020_12 varchar(100), a2020_11 varchar(100), a2020_10 varchar(100), a2020_09 varchar(100), a2020_08 varchar(100), a2020_06 varchar(100), a2020_05 varchar(100), a2020_04 varchar(100), a2020_03 varchar(100), a2020_02 varchar(100), a2020_01 varchar(100), a2019_12 varchar(100), a2019_11 varchar(100), a2019_10 varchar(100), a2019_09 varchar(100), a2019_08 varchar(100), a2019_07 varchar(100), a2019_06 varchar(100), a2019_05 varchar(100), a2019_04 varchar(100), a2019_03 varchar(100), a2019_02 varchar(100), a2019_01 varchar(100), a2018_12 varchar(100), a2018_11 varchar(100), a2018_10 varchar(100), a2018_09 varchar(100), a2018_08 varchar(100), a2018_07 varchar(100), a2018_06 varchar(100), a2018_05 varchar(100), a2018_04 varchar(100), a2018_03 varchar(100), a2018_02 varchar(100), a2018_01 varchar(100), a2017_12 varchar(100), a2017_11 varchar(100), a2017_10 varchar(100), a2017_09 varchar(100), a2017_08 varchar(100), a2017_07 varchar(100), a2017_06 varchar(100), a2017_05 varchar(100), a2017_04 varchar(100), a2017_03 varchar(100), a2017_02 varchar(100), a2017_01 varchar(100), a2016_12 varchar(100), a2016_11 varchar(100), a2016_10 varchar(100), a2016_09 varchar(100), a2016_08 varchar(100), a2016_07 varchar(100), a2016_06 varchar(100), a2016_05 varchar(100), a2016_04 varchar(100), a2016_03 varchar(100), a2016_02 varchar(100), a2016_01 varchar(100), a2015_12 varchar(100), a2015_11 varchar(100), a2015_10 varchar(100), a2015_09 varchar(100), a2015_08 varchar(100), a2015_07 varchar(100), a2015_06 varchar(100), a2015_05 varchar(100), a2015_04 varchar(100), a2015_03 varchar(100), a2015_02 varchar(100), a2015_01 varchar(100), a2014_12 varchar(100), a2014_11 varchar(100), a2014_10 varchar(100), a2014_09 varchar(100), a2014_08 varchar(100), a2014_07 varchar(100), a2014_06 varchar(100), a2014_05 varchar(100), a2014_04 varchar(100), a2014_03 varchar(100), a2014_02 varchar(100), a2014_01 varchar(100)) engine=innodb default charset=utf8;\n",
      "Database haleygee_subscript  is active.\n"
     ]
    }
   ],
   "source": [
    "csv = pd.read_csv(os.path.join(cn.clean_dir, 'random_forest_time', 'final_time_stats.csv'), dtype = 'unicode')\n",
    "\n",
    "# Make ID column from player name and realm\n",
    "csv['id'] = csv.player + '-' + csv.realm\n",
    "\n",
    "# Get fields from the column names of the csv and replace any '-' for '_' for compatibility\n",
    "fields = sorted([c.replace('-','_') for c in csv.columns.values if 'Unnamed' not in c], reverse = True)\n",
    "sizes = ['varchar(100)']*len(csv.columns)\n",
    "\n",
    "sql = \"CREATE TABLE final_time_stats (\"\n",
    "i = 0\n",
    "for field in fields:\n",
    "    if i == 0:\n",
    "        sql = sql + field + ' ' + sizes[i]\n",
    "    elif '20' not in field:\n",
    "         sql = sql + ', ' + field + ' ' + sizes[i]\n",
    "    elif '20' in field: \n",
    "        # Fields can't have dashes or start with a number, so add an a for compatibility\n",
    "        sql = sql + ', ' + 'a' + field + ' ' + sizes[i]\n",
    "    i = i + 1\n",
    "sql = sql + ') engine=innodb default charset=utf8;'\n",
    "\n",
    "print (len(csv.columns))\n",
    "print(sql)\n",
    "cnx, cursor = connect()\n",
    "#cursor.execute(sql)  # Remove '#' if I need to make the table again\n",
    "cnx.commit()"
   ]
  },
  {
   "cell_type": "markdown",
   "metadata": {},
   "source": [
    "#### Add records to the final_time_stats table"
   ]
  },
  {
   "cell_type": "code",
   "execution_count": 49,
   "metadata": {},
   "outputs": [
    {
     "name": "stdout",
     "output_type": "stream",
     "text": [
      "91 91\n"
     ]
    }
   ],
   "source": [
    "csv = pd.read_csv(os.path.join(cn.clean_dir, 'random_forest_time', 'final_time_stats.csv'), dtype = 'unicode')\n",
    "\n",
    "# Make ID column from player name and realm\n",
    "csv['id'] = csv.player + '-' + csv.realm\n",
    "\n",
    "# Get fields from the column names of the csv and replace any '-' for '_' for compatibility\n",
    "cols = sorted([c for c in csv.columns.values if 'Unnamed' not in c], reverse = True)\n",
    "player_fields = [c for c in cols if '20' not in c]\n",
    "raw_date_fields = [c for c in cols if '20' in c]\n",
    "date_fields = ['a' + c.replace('-','_') for c in cols if '20' in c]\n",
    "raw_fields = player_fields + raw_date_fields\n",
    "sql_fields = player_fields + date_fields\n",
    "print(len(raw_fields), len(sql_fields))"
   ]
  },
  {
   "cell_type": "markdown",
   "metadata": {},
   "source": [
    "#### Insert records into the final_time_stats table"
   ]
  },
  {
   "cell_type": "code",
   "execution_count": 94,
   "metadata": {
    "scrolled": false
   },
   "outputs": [
    {
     "name": "stdout",
     "output_type": "stream",
     "text": [
      "Database haleygee_subscript  is active.\n"
     ]
    }
   ],
   "source": [
    "cnx, cursor = connect()\n",
    "for index, row in csv[153202:].iterrows():\n",
    "    values =  row[raw_fields]\n",
    "    values = [str(v) for v in values]\n",
    "    sql = \"INSERT INTO final_time_stats (\" + str(sql_fields).replace('[', '').replace(']','').replace(\"'\",'') + \") VALUES (\" + '%s,'*(len(sql_fields)-1) +  \"%s)\"\n",
    "    cursor.execute(sql, values)\n",
    "    cnx.commit()"
   ]
  },
  {
   "cell_type": "markdown",
   "metadata": {},
   "source": [
    "#### Fetch records from the final_time_stats table"
   ]
  },
  {
   "cell_type": "code",
   "execution_count": 143,
   "metadata": {},
   "outputs": [
    {
     "name": "stdout",
     "output_type": "stream",
     "text": [
      "Database haleygee_subscript  is active.\n"
     ]
    }
   ],
   "source": [
    "cnx, cursor = connect()\n",
    "sql = \"SELECT * FROM final_time_stats WHERE realm = 'whisperwind' AND status = 'risk'\"\n",
    "cursor.execute(sql)\n",
    "search = cursor.fetchall()"
   ]
  },
  {
   "cell_type": "markdown",
   "metadata": {},
   "source": [
    "#### Display records from the final_time_stats table"
   ]
  },
  {
   "cell_type": "code",
   "execution_count": 144,
   "metadata": {},
   "outputs": [
    {
     "data": {
      "text/html": [
       "<div>\n",
       "<style scoped>\n",
       "    .dataframe tbody tr th:only-of-type {\n",
       "        vertical-align: middle;\n",
       "    }\n",
       "\n",
       "    .dataframe tbody tr th {\n",
       "        vertical-align: top;\n",
       "    }\n",
       "\n",
       "    .dataframe thead th {\n",
       "        text-align: right;\n",
       "    }\n",
       "</style>\n",
       "<table border=\"1\" class=\"dataframe\">\n",
       "  <thead>\n",
       "    <tr style=\"text-align: right;\">\n",
       "      <th></th>\n",
       "      <th>time_since_login</th>\n",
       "      <th>status</th>\n",
       "      <th>realm</th>\n",
       "      <th>player</th>\n",
       "      <th>last_login</th>\n",
       "      <th>id</th>\n",
       "      <th>gear_score</th>\n",
       "      <th>engagement</th>\n",
       "      <th>2020-12</th>\n",
       "      <th>2020-11</th>\n",
       "      <th>...</th>\n",
       "      <th>2014-10</th>\n",
       "      <th>2014-09</th>\n",
       "      <th>2014-08</th>\n",
       "      <th>2014-07</th>\n",
       "      <th>2014-06</th>\n",
       "      <th>2014-05</th>\n",
       "      <th>2014-04</th>\n",
       "      <th>2014-03</th>\n",
       "      <th>2014-02</th>\n",
       "      <th>2014-01</th>\n",
       "    </tr>\n",
       "  </thead>\n",
       "  <tbody>\n",
       "    <tr>\n",
       "      <th>0</th>\n",
       "      <td>226</td>\n",
       "      <td>risk</td>\n",
       "      <td>whisperwind</td>\n",
       "      <td>portsforsale</td>\n",
       "      <td>2019-10-23</td>\n",
       "      <td>portsforsale-whisperwind</td>\n",
       "      <td>268.0</td>\n",
       "      <td>1.0</td>\n",
       "      <td>0.0</td>\n",
       "      <td>0.0</td>\n",
       "      <td>...</td>\n",
       "      <td>5.0</td>\n",
       "      <td>75.0</td>\n",
       "      <td>3.0</td>\n",
       "      <td>11.0</td>\n",
       "      <td>0.0</td>\n",
       "      <td>16.0</td>\n",
       "      <td>0.0</td>\n",
       "      <td>30.0</td>\n",
       "      <td>9.0</td>\n",
       "      <td>3.0</td>\n",
       "    </tr>\n",
       "    <tr>\n",
       "      <th>1</th>\n",
       "      <td>195</td>\n",
       "      <td>risk</td>\n",
       "      <td>whisperwind</td>\n",
       "      <td>tooter</td>\n",
       "      <td>2019-11-23</td>\n",
       "      <td>tooter-whisperwind</td>\n",
       "      <td>386.0</td>\n",
       "      <td>1.0</td>\n",
       "      <td>0.0</td>\n",
       "      <td>0.0</td>\n",
       "      <td>...</td>\n",
       "      <td>1.0</td>\n",
       "      <td>12.0</td>\n",
       "      <td>0.0</td>\n",
       "      <td>0.0</td>\n",
       "      <td>2.0</td>\n",
       "      <td>3.0</td>\n",
       "      <td>5.0</td>\n",
       "      <td>6.0</td>\n",
       "      <td>10.0</td>\n",
       "      <td>3.0</td>\n",
       "    </tr>\n",
       "    <tr>\n",
       "      <th>2</th>\n",
       "      <td>46</td>\n",
       "      <td>risk</td>\n",
       "      <td>whisperwind</td>\n",
       "      <td>migflurries</td>\n",
       "      <td>2020-04-20</td>\n",
       "      <td>migflurries-whisperwind</td>\n",
       "      <td>433.0</td>\n",
       "      <td>1.0</td>\n",
       "      <td>0.0</td>\n",
       "      <td>0.0</td>\n",
       "      <td>...</td>\n",
       "      <td>1.0</td>\n",
       "      <td>0.0</td>\n",
       "      <td>7.0</td>\n",
       "      <td>0.0</td>\n",
       "      <td>2.0</td>\n",
       "      <td>4.0</td>\n",
       "      <td>5.0</td>\n",
       "      <td>7.0</td>\n",
       "      <td>7.0</td>\n",
       "      <td>0.0</td>\n",
       "    </tr>\n",
       "    <tr>\n",
       "      <th>3</th>\n",
       "      <td>202</td>\n",
       "      <td>risk</td>\n",
       "      <td>whisperwind</td>\n",
       "      <td>sukmehealz</td>\n",
       "      <td>2019-11-16</td>\n",
       "      <td>sukmehealz-whisperwind</td>\n",
       "      <td>384.0</td>\n",
       "      <td>1.0</td>\n",
       "      <td>0.0</td>\n",
       "      <td>0.0</td>\n",
       "      <td>...</td>\n",
       "      <td>2.0</td>\n",
       "      <td>0.0</td>\n",
       "      <td>1.0</td>\n",
       "      <td>0.0</td>\n",
       "      <td>4.0</td>\n",
       "      <td>27.0</td>\n",
       "      <td>3.0</td>\n",
       "      <td>4.0</td>\n",
       "      <td>4.0</td>\n",
       "      <td>0.0</td>\n",
       "    </tr>\n",
       "    <tr>\n",
       "      <th>4</th>\n",
       "      <td>41</td>\n",
       "      <td>risk</td>\n",
       "      <td>whisperwind</td>\n",
       "      <td>kaxanna</td>\n",
       "      <td>2020-04-25</td>\n",
       "      <td>kaxanna-whisperwind</td>\n",
       "      <td>401.0</td>\n",
       "      <td>1.0</td>\n",
       "      <td>0.0</td>\n",
       "      <td>0.0</td>\n",
       "      <td>...</td>\n",
       "      <td>3.0</td>\n",
       "      <td>0.0</td>\n",
       "      <td>0.0</td>\n",
       "      <td>1.0</td>\n",
       "      <td>17.0</td>\n",
       "      <td>13.0</td>\n",
       "      <td>2.0</td>\n",
       "      <td>5.0</td>\n",
       "      <td>5.0</td>\n",
       "      <td>0.0</td>\n",
       "    </tr>\n",
       "  </tbody>\n",
       "</table>\n",
       "<p>5 rows × 91 columns</p>\n",
       "</div>"
      ],
      "text/plain": [
       "  time_since_login status        realm        player  last_login  \\\n",
       "0             226    risk  whisperwind  portsforsale  2019-10-23   \n",
       "1             195    risk  whisperwind        tooter  2019-11-23   \n",
       "2              46    risk  whisperwind   migflurries  2020-04-20   \n",
       "3             202    risk  whisperwind    sukmehealz  2019-11-16   \n",
       "4              41    risk  whisperwind       kaxanna  2020-04-25   \n",
       "\n",
       "                         id gear_score engagement 2020-12 2020-11  ...  \\\n",
       "0  portsforsale-whisperwind      268.0        1.0     0.0     0.0  ...   \n",
       "1        tooter-whisperwind      386.0        1.0     0.0     0.0  ...   \n",
       "2   migflurries-whisperwind      433.0        1.0     0.0     0.0  ...   \n",
       "3    sukmehealz-whisperwind      384.0        1.0     0.0     0.0  ...   \n",
       "4       kaxanna-whisperwind      401.0        1.0     0.0     0.0  ...   \n",
       "\n",
       "  2014-10 2014-09 2014-08 2014-07 2014-06 2014-05 2014-04 2014-03 2014-02  \\\n",
       "0     5.0    75.0     3.0    11.0     0.0    16.0     0.0    30.0     9.0   \n",
       "1     1.0    12.0     0.0     0.0     2.0     3.0     5.0     6.0    10.0   \n",
       "2     1.0     0.0     7.0     0.0     2.0     4.0     5.0     7.0     7.0   \n",
       "3     2.0     0.0     1.0     0.0     4.0    27.0     3.0     4.0     4.0   \n",
       "4     3.0     0.0     0.0     1.0    17.0    13.0     2.0     5.0     5.0   \n",
       "\n",
       "  2014-01  \n",
       "0     3.0  \n",
       "1     3.0  \n",
       "2     0.0  \n",
       "3     0.0  \n",
       "4     0.0  \n",
       "\n",
       "[5 rows x 91 columns]"
      ]
     },
     "execution_count": 144,
     "metadata": {},
     "output_type": "execute_result"
    }
   ],
   "source": [
    "df_search = pd.DataFrame(columns = raw_fields)\n",
    "for item in search:\n",
    "    tmp = pd.DataFrame(item)\n",
    "    tmp = tmp.T\n",
    "    tmp.columns = raw_fields\n",
    "    tmp.time_since_login = tmp.time_since_login.str.split('days')[0][0]\n",
    "    df_search = df_search.append(tmp, ignore_index = True)\n",
    "df_search.head()"
   ]
  },
  {
   "cell_type": "markdown",
   "metadata": {},
   "source": [
    "## Create the achievement_list table"
   ]
  },
  {
   "cell_type": "code",
   "execution_count": 146,
   "metadata": {},
   "outputs": [
    {
     "name": "stdout",
     "output_type": "stream",
     "text": [
      "3\n",
      "CREATE TABLE features (name varchar(100), importance varchar(100), category varchar(100)) engine=innodb default charset=utf8;\n",
      "Database haleygee_subscript  is active.\n"
     ]
    }
   ],
   "source": [
    "csv = pd.read_csv(os.path.join(cn.clean_dir, 'random_forest_features', 'final_curated_recommendations.csv'), dtype = 'unicode')\n",
    "\n",
    "# Get fields from the column names of the csv and replace any '-' for '_' for compatibility\n",
    "fields = sorted([c.replace('-','_') for c in csv.columns.values if 'Unnamed' not in c], reverse = True)\n",
    "sizes = ['varchar(100)']*len(csv.columns)\n",
    "\n",
    "sql = \"CREATE TABLE features (\"\n",
    "i = 0\n",
    "for field in fields:\n",
    "    if i == 0:\n",
    "        sql = sql + field + ' ' + sizes[i]\n",
    "    else:\n",
    "         sql = sql + ', ' + field + ' ' + sizes[i]\n",
    "    i = i + 1\n",
    "sql = sql + ') engine=innodb default charset=utf8;'\n",
    "\n",
    "print (len(csv.columns))\n",
    "print(sql)\n",
    "cnx, cursor = connect()\n",
    "cursor.execute(sql)  # Remove '#' if I need to make the table again\n",
    "cnx.commit()"
   ]
  },
  {
   "cell_type": "markdown",
   "metadata": {},
   "source": [
    "#### Add records to the features table"
   ]
  },
  {
   "cell_type": "code",
   "execution_count": 169,
   "metadata": {},
   "outputs": [
    {
     "name": "stdout",
     "output_type": "stream",
     "text": [
      "Database haleygee_subscript  is active.\n"
     ]
    }
   ],
   "source": [
    "csv = pd.read_csv(os.path.join(cn.clean_dir, 'random_forest_features', 'final_curated_recommendations.csv'), dtype = 'unicode')\n",
    "\n",
    "cnx, cursor = connect()\n",
    "for index, row in csv[6:].iterrows():\n",
    "    values =  row[fields]\n",
    "    values = [str(v) for v in values]\n",
    "    sql = \"INSERT INTO features (\" + str(fields).replace('[', '').replace(']','').replace(\"'\",'') + \")\\\n",
    "            VALUES (\" + '%s,'*(len(fields)-1) +  \"%s)\"\n",
    "    cursor.execute(sql, values)\n",
    "    #print(sql,values)\n",
    "    cnx.commit()"
   ]
  },
  {
   "cell_type": "markdown",
   "metadata": {},
   "source": [
    "#### Search records in the features table"
   ]
  },
  {
   "cell_type": "code",
   "execution_count": 170,
   "metadata": {},
   "outputs": [
    {
     "name": "stdout",
     "output_type": "stream",
     "text": [
      "Database haleygee_subscript  is active.\n"
     ]
    }
   ],
   "source": [
    "cnx, cursor = connect()\n",
    "sql = \"SELECT * FROM features\"\n",
    "cursor.execute(sql)\n",
    "search = cursor.fetchall()"
   ]
  },
  {
   "cell_type": "markdown",
   "metadata": {},
   "source": [
    "#### Display records from the features table"
   ]
  },
  {
   "cell_type": "code",
   "execution_count": 171,
   "metadata": {},
   "outputs": [
    {
     "data": {
      "text/html": [
       "<div>\n",
       "<style scoped>\n",
       "    .dataframe tbody tr th:only-of-type {\n",
       "        vertical-align: middle;\n",
       "    }\n",
       "\n",
       "    .dataframe tbody tr th {\n",
       "        vertical-align: top;\n",
       "    }\n",
       "\n",
       "    .dataframe thead th {\n",
       "        text-align: right;\n",
       "    }\n",
       "</style>\n",
       "<table border=\"1\" class=\"dataframe\">\n",
       "  <thead>\n",
       "    <tr style=\"text-align: right;\">\n",
       "      <th></th>\n",
       "      <th>name</th>\n",
       "      <th>importance</th>\n",
       "      <th>category</th>\n",
       "    </tr>\n",
       "  </thead>\n",
       "  <tbody>\n",
       "    <tr>\n",
       "      <th>0</th>\n",
       "      <td>Rustbolt Rebellion</td>\n",
       "      <td>0.03642103754444700</td>\n",
       "      <td>Battle for Azeroth</td>\n",
       "    </tr>\n",
       "    <tr>\n",
       "      <th>1</th>\n",
       "      <td>Waveblade Ankoan</td>\n",
       "      <td>0.010034979074682200</td>\n",
       "      <td>Battle for Azeroth</td>\n",
       "    </tr>\n",
       "    <tr>\n",
       "      <th>2</th>\n",
       "      <td>The Unshackled</td>\n",
       "      <td>0.007394899241371400</td>\n",
       "      <td>Battle for Azeroth</td>\n",
       "    </tr>\n",
       "    <tr>\n",
       "      <th>3</th>\n",
       "      <td>The Heart Forge</td>\n",
       "      <td>0.007120127044205260</td>\n",
       "      <td>Heart of Azeroth</td>\n",
       "    </tr>\n",
       "    <tr>\n",
       "      <th>4</th>\n",
       "      <td>Power Up</td>\n",
       "      <td>0.0068742343139909400</td>\n",
       "      <td>Heart of Azeroth</td>\n",
       "    </tr>\n",
       "  </tbody>\n",
       "</table>\n",
       "</div>"
      ],
      "text/plain": [
       "                  name             importance             category\n",
       "0   Rustbolt Rebellion    0.03642103754444700   Battle for Azeroth\n",
       "1     Waveblade Ankoan   0.010034979074682200   Battle for Azeroth\n",
       "2       The Unshackled   0.007394899241371400   Battle for Azeroth\n",
       "3      The Heart Forge   0.007120127044205260     Heart of Azeroth\n",
       "4             Power Up  0.0068742343139909400     Heart of Azeroth"
      ]
     },
     "execution_count": 171,
     "metadata": {},
     "output_type": "execute_result"
    }
   ],
   "source": [
    "df_search = pd.DataFrame(columns = fields)\n",
    "for item in search:\n",
    "    tmp = pd.DataFrame(item)\n",
    "    tmp = tmp.T\n",
    "    tmp.columns = fields\n",
    "    df_search = df_search.append(tmp, ignore_index = True)\n",
    "df_search.head()"
   ]
  },
  {
   "cell_type": "code",
   "execution_count": null,
   "metadata": {},
   "outputs": [],
   "source": []
  }
 ],
 "metadata": {
  "kernelspec": {
   "display_name": "ins_env",
   "language": "python",
   "name": "ins_env"
  },
  "language_info": {
   "codemirror_mode": {
    "name": "ipython",
    "version": 3
   },
   "file_extension": ".py",
   "mimetype": "text/x-python",
   "name": "python",
   "nbconvert_exporter": "python",
   "pygments_lexer": "ipython3",
   "version": "3.7.7"
  }
 },
 "nbformat": 4,
 "nbformat_minor": 4
}

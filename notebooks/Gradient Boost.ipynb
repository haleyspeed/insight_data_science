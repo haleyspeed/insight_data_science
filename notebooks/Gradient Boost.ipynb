{
 "cells": [
  {
   "cell_type": "code",
   "execution_count": null,
   "metadata": {},
   "outputs": [],
   "source": []
  },
  {
   "cell_type": "code",
   "execution_count": null,
   "metadata": {},
   "outputs": [],
   "source": []
  },
  {
   "cell_type": "code",
   "execution_count": 3,
   "metadata": {},
   "outputs": [],
   "source": [
    "# Gradient Boost\n",
    "clf = GradientBoostingClassifier(random_state = 17)\n",
    "clf.fit(X_train, y_train)\n",
    "GradientBoostingClassifier(random_state = 17)\n",
    "predictions = clf.predict(X_test)\n",
    "score = clf.score(X_test, y_test)\n"
   ]
  },
  {
   "cell_type": "code",
   "execution_count": 4,
   "metadata": {},
   "outputs": [
    {
     "name": "stdout",
     "output_type": "stream",
     "text": [
      "[1. 0. 0. ... 0. 0. 0.]\n",
      "<bound method ClassifierMixin.score of GradientBoostingClassifier(ccp_alpha=0.0, criterion='friedman_mse', init=None,\n",
      "                           learning_rate=0.1, loss='deviance', max_depth=3,\n",
      "                           max_features=None, max_leaf_nodes=None,\n",
      "                           min_impurity_decrease=0.0, min_impurity_split=None,\n",
      "                           min_samples_leaf=1, min_samples_split=2,\n",
      "                           min_weight_fraction_leaf=0.0, n_estimators=100,\n",
      "                           n_iter_no_change=None, presort='deprecated',\n",
      "                           random_state=17, subsample=1.0, tol=0.0001,\n",
      "                           validation_fraction=0.1, verbose=0,\n",
      "                           warm_start=False)>\n"
     ]
    }
   ],
   "source": [
    "print (predictions)\n",
    "print(clf.score)\n",
    "\n"
   ]
  },
  {
   "cell_type": "code",
   "execution_count": 5,
   "metadata": {},
   "outputs": [
    {
     "name": "stdout",
     "output_type": "stream",
     "text": [
      "[[23079  2163    24]\n",
      " [ 6137  3847     8]\n",
      " [  622  1115    41]]\n",
      "              precision    recall  f1-score   support\n",
      "\n",
      "         0.0      0.773     0.913     0.838     25266\n",
      "         1.0      0.540     0.385     0.449      9992\n",
      "         2.0      0.562     0.023     0.044      1778\n",
      "\n",
      "    accuracy                          0.728     37036\n",
      "   macro avg      0.625     0.441     0.444     37036\n",
      "weighted avg      0.700     0.728     0.695     37036\n",
      "\n"
     ]
    }
   ],
   "source": [
    "cnf_matrix = metrics.confusion_matrix(y_test,predictions)\n",
    "print(cnf_matrix)\n",
    "\n",
    "# Print the precision and recall, among other metrics\n",
    "met = metrics.classification_report(y_test, predictions, digits=3)\n",
    "folder = os.path.join(cn.clean_dir, 'random_forest_classifier',)\n",
    "f_name = 'metrics_time_balanced_metrics.csv'\n",
    "print(met)\n",
    "\n",
    "\n"
   ]
  },
  {
   "cell_type": "code",
   "execution_count": null,
   "metadata": {},
   "outputs": [],
   "source": [
    "# save the model to disk\n",
    "#pickle_name = 'final_boost_model.sav'\n",
    "#os.chdir(os.path.join(cn.clean_dir,'gradient_boost'))\n",
    "#with open(pickle_name, 'wb') as file:\n",
    "#    pickle.dump(clf, file)"
   ]
  }
 ],
 "metadata": {
  "kernelspec": {
   "display_name": "ins_env",
   "language": "python",
   "name": "ins_env"
  },
  "language_info": {
   "codemirror_mode": {
    "name": "ipython",
    "version": 3
   },
   "file_extension": ".py",
   "mimetype": "text/x-python",
   "name": "python",
   "nbconvert_exporter": "python",
   "pygments_lexer": "ipython3",
   "version": "3.7.7"
  }
 },
 "nbformat": 4,
 "nbformat_minor": 4
}

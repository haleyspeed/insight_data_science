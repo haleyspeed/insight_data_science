{
 "cells": [
  {
   "cell_type": "markdown",
   "metadata": {},
   "source": [
    "# Random Forest Classifier for Recently Completed Content\n"
   ]
  },
  {
   "cell_type": "markdown",
   "metadata": {},
   "source": [
    "## Dependencies and Defaults"
   ]
  },
  {
   "cell_type": "code",
   "execution_count": null,
   "metadata": {},
   "outputs": [],
   "source": []
  },
  {
   "cell_type": "code",
   "execution_count": null,
   "metadata": {},
   "outputs": [],
   "source": [
    "import config as cn\n",
    "import pandas as pd\n",
    "import numpy as np\n",
    "import os\n",
    "from IPython.display import HTML"
   ]
  },
  {
   "cell_type": "code",
   "execution_count": null,
   "metadata": {},
   "outputs": [],
   "source": [
    "dir_home = cn.home_dir\n",
    "dir_clean = cn.clean_dir\n",
    "dir_processed = cn.processed_dir\n",
    "dir_raw = cn.raw_dir\n",
    "f_in = os.path.join(dir_clean,  'final_player_stats_test.csv')"
   ]
  },
  {
   "cell_type": "code",
   "execution_count": null,
   "metadata": {},
   "outputs": [],
   "source": [
    "df = pd.read_csv(f_in,dtype='unicode')\n",
    "df.info()\n",
    "df_just_in_case = df.copy()"
   ]
  },
  {
   "cell_type": "markdown",
   "metadata": {},
   "source": [
    "## Clean Player Data"
   ]
  },
  {
   "cell_type": "code",
   "execution_count": null,
   "metadata": {
    "scrolled": false
   },
   "outputs": [],
   "source": [
    "# Load player data\n",
    "df = pd.read_csv(f_in,dtype='unicode')\n",
    "df = df.drop_duplicates()\n",
    "df['id'] = df.player + '_' + df.realm\n",
    "df = df.set_index('id')\n",
    "del_cols = [c for c in df.columns.values if 'unnamed' in c.lower()]\n",
    "df = df.drop(del_cols, axis = 1)\n",
    "\n",
    "\n",
    "if 'engagement' not in df.columns.values:\n",
    "    df['engagement'] = np.nan\n",
    "    for index, row in df.iterrows():\n",
    "        if int(row.time_since_login.split(' ')[0]) <= 30:\n",
    "            df.at[index,'engagement'] = 1\n",
    "        elif int(row.time_since_login.split(' ')[0]) <= 120:\n",
    "            df.at[index,'engagement'] = 2\n",
    "        elif int(row.time_since_login.split(' ')[0]) <= 365:\n",
    "            df.at[index,'engagement'] = 3\n",
    "        elif int(row.time_since_login.split(' ')[0]) > 365:\n",
    "            df.at[index,'engagement'] = 4\n",
    "\n",
    "display(HTML(df.head().to_html()))"
   ]
  },
  {
   "cell_type": "code",
   "execution_count": null,
   "metadata": {},
   "outputs": [],
   "source": [
    "df.describe()"
   ]
  },
  {
   "cell_type": "markdown",
   "metadata": {},
   "source": [
    "## Random Forest Classifier with 5 years of data"
   ]
  },
  {
   "cell_type": "code",
   "execution_count": null,
   "metadata": {},
   "outputs": [],
   "source": [
    "# Pick only the months we're interested in\n",
    "months = np.arange(1, 13)\n",
    "years = [2015 ,2016, 2017, 2018, 2019, 2020]\n",
    "timepoints = []\n",
    "\n",
    "for month in months:\n",
    "    if month < 10:\n",
    "        month = str(0) + str(month)\n",
    "    for year in years:\n",
    "        if year == 2020 and month >= '06':\n",
    "            break\n",
    "        if year < 2011 and month != '01':\n",
    "\n",
    "            continue\n",
    "        else:\n",
    "            month = str(month)\n",
    "            timepoints.append(str(year) + '-' + str(month))\n",
    "print(sorted(timepoints))"
   ]
  },
  {
   "cell_type": "code",
   "execution_count": null,
   "metadata": {},
   "outputs": [],
   "source": [
    "df_tree = df.copy()\n",
    "keep_cols = timepoints.append('engagement')\n",
    "df_tree = df_tree[timepoints]\n",
    "\n",
    "df_tree = df_tree.dropna()\n",
    "df_tree = df_tree.reset_index()\n",
    "df_tree.describe()\n",
    "display(HTML(df_tree.head().to_html()))"
   ]
  },
  {
   "cell_type": "code",
   "execution_count": null,
   "metadata": {},
   "outputs": [],
   "source": [
    "from sklearn.model_selection import cross_val_score, GridSearchCV\n",
    "from sklearn.ensemble import RandomForestClassifier\n",
    "from sklearn.preprocessing import MinMaxScaler"
   ]
  },
  {
   "cell_type": "code",
   "execution_count": null,
   "metadata": {},
   "outputs": [],
   "source": [
    "from sklearn.model_selection import ShuffleSplit\n",
    "\n",
    "rs = ShuffleSplit(n_splits=10, test_size=.25, random_state=17)\n",
    "for train_index, test_index in rs.split(df_tree):\n",
    "    train_set = df_tree.iloc[train_index].copy()\n",
    "    train_set = train_set.set_index('id')\n",
    "    test_set = df_tree.iloc[test_index].copy()\n",
    "    test_set = test_set.set_index('id')\n",
    "\n",
    "y_train = train_set.engagement\n",
    "X_train = train_set.drop('engagement',axis = 1)\n",
    "y_test = test_set.engagement\n",
    "X_test = test_set.drop('engagement',axis = 1)\n",
    "\n",
    "print(y_train.head())"
   ]
  },
  {
   "cell_type": "code",
   "execution_count": null,
   "metadata": {},
   "outputs": [],
   "source": [
    "selected = RandomForestClassifier(n_estimators = 100,n_jobs = -1,\n",
    "                           oob_score = True,bootstrap = True,random_state = 17)\n",
    "selected.fit(X_train, y_train)"
   ]
  },
  {
   "cell_type": "code",
   "execution_count": null,
   "metadata": {
    "scrolled": false
   },
   "outputs": [],
   "source": [
    "importances = selected.feature_importances_\n",
    "indices = np.argsort(importances)\n",
    "important_features = X_train.columns.values[indices]\n",
    "\n",
    "for i, v in enumerate(important_features[:25]):\n",
    "    print(i,v)"
   ]
  },
  {
   "cell_type": "code",
   "execution_count": null,
   "metadata": {},
   "outputs": [],
   "source": [
    "import seaborn as sns\n",
    "import matplotlib.pyplot as plt\n",
    "\n",
    "corr_matrix = train_set.corr()\n",
    "sns.set()\n",
    "fig, ax = plt.subplots(figsize=(9,6), dpi = 300)\n",
    "corr_map = sns.heatmap(corr_matrix,  annot = True, ax=ax, cmap = \"viridis\")"
   ]
  },
  {
   "cell_type": "code",
   "execution_count": null,
   "metadata": {},
   "outputs": [],
   "source": [
    "predictions = selected.predict(X_test)"
   ]
  },
  {
   "cell_type": "code",
   "execution_count": null,
   "metadata": {},
   "outputs": [],
   "source": [
    "df_pred = pd.DataFrame(X_test)\n",
    "df_pred['prediction'] = predictions\n",
    "df_pred['actual'] = y_test\n",
    "display(HTML(df_pred.iloc[:100][:].to_html()))"
   ]
  },
  {
   "cell_type": "code",
   "execution_count": null,
   "metadata": {},
   "outputs": [],
   "source": [
    "print(selected.score(X_train,y_train))"
   ]
  },
  {
   "cell_type": "code",
   "execution_count": null,
   "metadata": {},
   "outputs": [],
   "source": [
    "print(selected.oob_score_)"
   ]
  },
  {
   "cell_type": "code",
   "execution_count": null,
   "metadata": {},
   "outputs": [],
   "source": [
    "print(len(y_test), len(predictions))"
   ]
  },
  {
   "cell_type": "code",
   "execution_count": null,
   "metadata": {},
   "outputs": [],
   "source": [
    "from sklearn import metrics\n",
    "\n",
    "# Print the confusion matrix\n",
    "cnf_matrix = metrics.confusion_matrix(y_test,predictions)\n",
    "print(cnf_matrix)\n",
    "\n",
    "# Print the precision and recall, among other metrics\n",
    "metrics = metrics.classification_report(y_test, predictions, digits=3)\n",
    "print(metrics)"
   ]
  },
  {
   "cell_type": "code",
   "execution_count": null,
   "metadata": {},
   "outputs": [],
   "source": [
    "#display (HTML('<br><h2>Confusion Matrix</h2><br>'))\n",
    "fig3, ax = plt.subplots(figsize = (8,8))\n",
    "sns.heatmap(pd.DataFrame(cnf_matrix), annot = True, cmap = 'viridis', fmt = 'g', annot_kws={\"size\":16})\n",
    "ax.set_xlabel (\"Predicted Value\", fontsize = 18)\n",
    "ax.set_ylabel (\"Acutal Value\", fontsize = 18)\n",
    "ax.tick_params (labelsize = 14)\n",
    "plt.tight_layout()\n",
    "cnf_matrix"
   ]
  },
  {
   "cell_type": "markdown",
   "metadata": {},
   "source": [
    "This is pretty bad for the target audience I'm looking for (2)"
   ]
  },
  {
   "cell_type": "markdown",
   "metadata": {},
   "source": [
    "## Random Forest with 2 years of data"
   ]
  },
  {
   "cell_type": "code",
   "execution_count": null,
   "metadata": {},
   "outputs": [],
   "source": [
    "df_tree = df.copy()\n",
    "\n",
    "df_tree = df_tree[['2018-06', '2018-07', '2018-08', '2018-09', \n",
    "                  '2018-10', '2018-11', '2018-12', '2019-01', \n",
    "                  '2019-02', '2019-03', '2019-04', '2019-05', \n",
    "                  '2019-06', '2019-07', '2019-08', '2019-09', \n",
    "                  '2019-10', '2019-11', '2019-12', '2020-01', \n",
    "                  '2020-02', '2020-03', '2020-04', '2020-05',\n",
    "                  'engagement']]\n",
    "\n",
    "df_tree = df_tree.dropna()\n",
    "df_tree = df_tree.reset_index()\n",
    "df_tree.describe()\n",
    "display(HTML(df_tree.to_html()))"
   ]
  },
  {
   "cell_type": "code",
   "execution_count": null,
   "metadata": {},
   "outputs": [],
   "source": [
    "from sklearn.model_selection import ShuffleSplit\n",
    "\n",
    "rs = ShuffleSplit(n_splits=10, test_size=.25, random_state=17)\n",
    "for train_index, test_index in rs.split(df_tree):\n",
    "    train_set = df_tree.iloc[train_index].copy()\n",
    "    train_set = train_set.set_index('id')\n",
    "    test_set = df_tree.iloc[test_index].copy()\n",
    "    test_set = test_set.set_index('id')\n",
    "\n",
    "y_train = train_set.engagement\n",
    "X_train = train_set.drop('engagement',axis = 1)\n",
    "y_test = test_set.engagement\n",
    "X_test = test_set.drop('engagement',axis = 1)\n",
    "\n",
    "print(y_train.head())"
   ]
  },
  {
   "cell_type": "code",
   "execution_count": null,
   "metadata": {},
   "outputs": [],
   "source": [
    "selected = RandomForestClassifier(n_estimators = 200,n_jobs = -1,\n",
    "                           oob_score = True,bootstrap = True,random_state = 17)\n",
    "selected.fit(X_train, y_train)"
   ]
  },
  {
   "cell_type": "code",
   "execution_count": null,
   "metadata": {},
   "outputs": [],
   "source": [
    "importances = selected.feature_importances_\n",
    "indices = np.argsort(importances)\n",
    "important_features = X_train.columns.values[indices]\n",
    "\n",
    "for i, v in enumerate(important_features[:25]):\n",
    "    print(i,v)"
   ]
  },
  {
   "cell_type": "code",
   "execution_count": null,
   "metadata": {},
   "outputs": [],
   "source": [
    "import seaborn as sns\n",
    "import matplotlib.pyplot as plt\n",
    "\n",
    "corr_matrix = train_set.corr()\n",
    "sns.set()\n",
    "fig, ax = plt.subplots(figsize=(9,6), dpi = 300)\n",
    "corr_map = sns.heatmap(corr_matrix,  annot = False, ax=ax, cmap = \"Purples\")"
   ]
  },
  {
   "cell_type": "code",
   "execution_count": null,
   "metadata": {},
   "outputs": [],
   "source": [
    "predictions = selected.predict(X_test)"
   ]
  },
  {
   "cell_type": "code",
   "execution_count": null,
   "metadata": {
    "scrolled": true
   },
   "outputs": [],
   "source": [
    "print(selected.score(X_train,y_train))"
   ]
  },
  {
   "cell_type": "code",
   "execution_count": null,
   "metadata": {},
   "outputs": [],
   "source": [
    "print(selected.oob_score_)"
   ]
  },
  {
   "cell_type": "code",
   "execution_count": null,
   "metadata": {},
   "outputs": [],
   "source": [
    "from sklearn import metrics\n",
    "\n",
    "# Print the confusion matrix\n",
    "cnf_matrix = metrics.confusion_matrix(y_test,predictions)\n",
    "print(cnf_matrix)\n",
    "\n",
    "# Print the precision and recall, among other metrics\n",
    "metrics = metrics.classification_report(y_test, predictions, digits=3)\n",
    "print(metrics)"
   ]
  },
  {
   "cell_type": "code",
   "execution_count": null,
   "metadata": {},
   "outputs": [],
   "source": [
    "#display (HTML('<br><h2>Confusion Matrix</h2><br>'))\n",
    "fig3, ax = plt.subplots(figsize = (8,8))\n",
    "sns.heatmap(pd.DataFrame(cnf_matrix), annot = True, cmap = 'viridis', fmt = 'g', annot_kws={\"size\":16})\n",
    "ax.set_xlabel (\"Predicted Value\", fontsize = 18)\n",
    "ax.set_ylabel (\"Acutal Value\", fontsize = 18)\n",
    "ax.tick_params (labelsize = 14)\n",
    "plt.tight_layout()\n",
    "cnf_matrix"
   ]
  },
  {
   "cell_type": "code",
   "execution_count": null,
   "metadata": {},
   "outputs": [],
   "source": []
  }
 ],
 "metadata": {
  "kernelspec": {
   "display_name": "ins_env",
   "language": "python",
   "name": "ins_env"
  },
  "language_info": {
   "codemirror_mode": {
    "name": "ipython",
    "version": 3
   },
   "file_extension": ".py",
   "mimetype": "text/x-python",
   "name": "python",
   "nbconvert_exporter": "python",
   "pygments_lexer": "ipython3",
   "version": "3.7.7"
  }
 },
 "nbformat": 4,
 "nbformat_minor": 4
}

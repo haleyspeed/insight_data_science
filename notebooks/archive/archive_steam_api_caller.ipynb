{
 "cells": [
  {
   "cell_type": "markdown",
   "metadata": {},
   "source": [
    "# Steam API Caller\n",
    "A collection of functions and calls for the steam API. Credentials and steam_ids are stored in a config file in a separate folder. I used my own and some friends' accounts for validation, but have only included demo steam IDs from the official steam documentation here. These are not real players, so some functions will return a null value (Recently Played Games and Shared Games). Some methods may be blocked if the user has their profile set to private rather than public. "
   ]
  },
  {
   "cell_type": "markdown",
   "metadata": {},
   "source": [
    "## Retrieve Config Details"
   ]
  },
  {
   "cell_type": "code",
   "execution_count": 1,
   "metadata": {},
   "outputs": [],
   "source": [
    "import os\n",
    "import configparser\n",
    "import requests\n",
    "import json\n",
    "import pandas as pd\n",
    "from IPython.display import HTML\n",
    "import numpy as np\n",
    "\n",
    "app_id = 440\n",
    "dir_in = \"//Users//haleyspeed//Docs//insight//api\"\n",
    "f_config = 'config.ini'\n",
    "config = configparser.ConfigParser()\n",
    "os.chdir(dir_in)\n",
    "config.read(f_config)\n",
    "steam_key = config.get('KEYS', 'steam')\n",
    "steam_id = config.get('ID', 'demo_steam_id')\n",
    "steam_id2 = config.get('ID', 'demo_steam_id3')\n"
   ]
  },
  {
   "cell_type": "markdown",
   "metadata": {},
   "source": [
    "## Function Definitions"
   ]
  },
  {
   "cell_type": "code",
   "execution_count": 2,
   "metadata": {},
   "outputs": [],
   "source": [
    "def unpack_json (txt):\n",
    "    \"\"\"Takes the output of an api call and unpacks it for \"\"\"\n",
    "    unpacked = json.loads(txt)\n",
    "    return unpacked\n"
   ]
  },
  {
   "cell_type": "markdown",
   "metadata": {},
   "source": [
    "## Modules (API calls + Formatting)\n"
   ]
  },
  {
   "cell_type": "markdown",
   "metadata": {},
   "source": [
    "#### To get steam news per game"
   ]
  },
  {
   "cell_type": "code",
   "execution_count": 3,
   "metadata": {
    "scrolled": false
   },
   "outputs": [
    {
     "data": {
      "text/plain": "<IPython.core.display.HTML object>",
      "text/html": "<h1>A Hell of a Campaign</h1><br><strong>Author: </strong><br><strong>App ID: </strong>440.0<br><strong>Date: </strong>2020-05-04 20:15:00<br><strong>ID: </strong>3127131079140731615<br><strong>URL: </strong>https://steamstore-a.akamaihd.net/news/externalpost/tf2_blog/3127131079140731615<br><strong>Feed Label: </strong>TF2 Blog<br><strong>Feed Name: </strong>tf2_blog<br><strong>Feed Type: </strong>0.0<br>"
     },
     "metadata": {},
     "output_type": "display_data"
    },
    {
     "data": {
      "text/plain": "<IPython.core.display.HTML object>",
      "text/html": "<br><img src=\"https://steamcdn-a.akamaihd.net/steam/news/61081/soldier_statue.png?t=1482255080\"><br><br>\n\n<p>Rick May, the inimitable voice of the Soldier for thirteen years, many shorts and countless updates, passed away this April at age 79. We were lucky enough to work with Rick many times in the studio over the past decade. A quick-witted and kind-hearted collaborator, Rick endowed the character with a trademark bellow and bootfulls of idiotic charm. The Soldier wouldn   t be the Soldier without him.</p><br> \n\n<p>We are honoring Rick during the month of May with an in-game Soldier statue that will play some of Rick   s signature lines. He will be missed by the Team Fortress dev team and community, and remembered for the indelible character he helped bring to life for so many years.</p><br>\n<hr><br>"
     },
     "metadata": {},
     "output_type": "display_data"
    },
    {
     "data": {
      "text/plain": "<IPython.core.display.HTML object>",
      "text/html": "<h1>A Hell of a Campaign</h1><br><strong>Author: </strong><br><strong>App ID: </strong>440.0<br><strong>Date: </strong>2020-05-04 20:15:00<br><strong>ID: </strong>4742798964251744414<br><strong>URL: </strong>https://steamstore-a.akamaihd.net/news/externalpost/tf2_blog/4742798964251744414<br><strong>Feed Label: </strong>TF2 Blog<br><strong>Feed Name: </strong>tf2_blog<br><strong>Feed Type: </strong>0.0<br>"
     },
     "metadata": {},
     "output_type": "display_data"
    },
    {
     "data": {
      "text/plain": "<IPython.core.display.HTML object>",
      "text/html": "<br><img src=\"https://steamcdn-a.akamaihd.net/steam/news/61081/soldier_statue.png?t=1482255080\"><br><br>\n\n<p>Rick May, the inimitable voice of the Soldier for thirteen years, many shorts and countless updates, passed away this April at age 79. We were lucky enough to work with Rick many times in the studio over the past decade. A quick-witted and kind-hearted collaborator, Rick endowed the character with a trademark bellow and bootfulls of idiotic charm. The Soldier wouldn   t be the Soldier without him.</p><br> \n\n<p>We are honoring Rick during the month of May with an in-game Soldier statue that will play some of Rick   s signature lines. He will be missed by the Team Fortress dev team and community, and remembered for the indelible character he helped bring to life for so many years.</p><br>\n<hr><br>"
     },
     "metadata": {},
     "output_type": "display_data"
    }
   ],
   "source": [
    "import datetime\n",
    "\n",
    "def get_steam_game_news (app_id):\n",
    "    url = 'http://api.steampowered.com/ISteamNews/GetNewsForApp/v0002/?appid=' + str(app_id) + '&format=json'\n",
    "    r = requests.get(url, data = {'key':'value'})\n",
    "    return r.text\n",
    "\n",
    "def unpack_json (txt):\n",
    "    unpacked = json.loads(txt)\n",
    "    return unpacked\n",
    "\n",
    "def explore_game_news (unpacked):\n",
    "    df = pd.DataFrame ()\n",
    "    for keys,appnews in unpacked.items():\n",
    "        for keys,news_items in appnews.items():\n",
    "            if keys == 'appid':\n",
    "                row = [keys]\n",
    "            if keys == 'newsitems':  \n",
    "                for item in news_items:\n",
    "                    df = df.append(item, ignore_index = True)\n",
    "    #display(HTML(df.head().to_html()))  # For testing. Outputs a huge table\n",
    "    return df\n",
    "\n",
    "def display_news (news):\n",
    "    for i,title in enumerate(news.title):\n",
    "        display(HTML('<h1>' + title + '</h1>' +\n",
    "                     '<br><strong>Author: </strong>' + news.author[i] + '<br>' +\n",
    "                     '<strong>App ID: </strong>' + str(news.appid[i]) + '<br>' +\n",
    "                     '<strong>Date: </strong>' + str(datetime.datetime.utcfromtimestamp(news.date[i], datetime.datetime.utc)) + '<br>' +\n",
    "                     '<strong>ID: </strong>' + str(news.gid[i]) + '<br>' +\n",
    "                     '<strong>URL: </strong>' + str(news.url[i]) + '<br>' + \n",
    "                     '<strong>Feed Label: </strong>' + str(news.feedlabel[i]) + '<br>' +\n",
    "                     '<strong>Feed Name: </strong>' + str(news.feedname[i]) + '<br>' +\n",
    "                     '<strong>Feed Type: </strong>' + str(news.feed_type[i]) + '<br>'))\n",
    "        display(HTML('<br>' + news.contents[i].replace('[','<').replace(']','>').replace('<*>','<br>* ').replace('<h1>','<h3>').replace('</h1>','</h3>') + '<hr><br>'))\n",
    "                 \n",
    "\n",
    "\n",
    "game_news = get_steam_game_news (app_id)\n",
    "unpacked = unpack_json (game_news)\n",
    "df = explore_game_news(unpacked)\n",
    "display_news (df[:2])"
   ]
  },
  {
   "cell_type": "markdown",
   "metadata": {},
   "source": [
    "#### To get global achievement stats per game"
   ]
  },
  {
   "cell_type": "code",
   "execution_count": 4,
   "metadata": {
    "scrolled": false
   },
   "outputs": [
    {
     "data": {
      "text/plain": "<IPython.core.display.HTML object>",
      "text/html": "<table border=\"1\" class=\"dataframe\">\n  <thead>\n    <tr style=\"text-align: right;\">\n      <th></th>\n      <th>achievement</th>\n      <th>percent</th>\n    </tr>\n  </thead>\n  <tbody>\n    <tr>\n      <th>0</th>\n      <td>TF_SCOUT_LONG_DISTANCE_RUNNER</td>\n      <td>55.200001</td>\n    </tr>\n    <tr>\n      <th>1</th>\n      <td>TF_HEAVY_DAMAGE_TAKEN</td>\n      <td>45.799999</td>\n    </tr>\n    <tr>\n      <th>2</th>\n      <td>TF_GET_CONSECUTIVEKILLS_NODEATHS</td>\n      <td>42.299999</td>\n    </tr>\n    <tr>\n      <th>3</th>\n      <td>TF_PYRO_CAMP_POSITION</td>\n      <td>34.799999</td>\n    </tr>\n    <tr>\n      <th>4</th>\n      <td>TF_KILL_NEMESIS</td>\n      <td>32.400002</td>\n    </tr>\n  </tbody>\n</table>"
     },
     "metadata": {},
     "output_type": "display_data"
    }
   ],
   "source": [
    "def get_steam_global_achievement_progress (app_id):\n",
    "    url = 'http://api.steampowered.com/ISteamUserStats/GetGlobalAchievementPercentagesForApp/v0002/?gameid=' + str(app_id) + '&format=json'\n",
    "    r = requests.get(url, data = {'key':'value'})\n",
    "    return r.text\n",
    "\n",
    "def unpack_json (txt):\n",
    "    unpacked = json.loads(txt)\n",
    "    return unpacked\n",
    "\n",
    "def explore_global_achievements (unpacked):\n",
    "    df = pd.DataFrame (columns = ['achievement', 'percent'])\n",
    "    name = ''\n",
    "    percent = np.nan\n",
    "    for keys,achievementpercentages in unpacked.items():\n",
    "        for keys, achievements in achievementpercentages.items():\n",
    "            for i,achievement in enumerate(achievements):\n",
    "                for keys,names_percent in achievement.items():\n",
    "                    if isinstance(names_percent, str)==True:\n",
    "                        name = names_percent\n",
    "                    if isinstance(names_percent, float) == True or isinstance(names_percent, int):\n",
    "                        percent = names_percent\n",
    "                        df = df.append({\"achievement\":name, \"percent\":percent}, ignore_index = True) \n",
    "                        \n",
    "    display(HTML(df.head().to_html()))\n",
    "    return df\n",
    "\n",
    "global_achieves = get_steam_global_achievement_progress(app_id)\n",
    "unpacked = unpack_json (global_achieves)\n",
    "df = explore_global_achievements(unpacked)"
   ]
  },
  {
   "cell_type": "markdown",
   "metadata": {},
   "source": [
    "#### Get Steam Global Game Stats"
   ]
  },
  {
   "cell_type": "code",
   "execution_count": 5,
   "metadata": {},
   "outputs": [
    {
     "data": {
      "text/html": [
       "<table border=\"1\" class=\"dataframe\">\n",
       "  <thead>\n",
       "    <tr style=\"text-align: right;\">\n",
       "      <th></th>\n",
       "      <th>result</th>\n",
       "      <th>error</th>\n",
       "    </tr>\n",
       "  </thead>\n",
       "  <tbody>\n",
       "    <tr>\n",
       "      <th>0</th>\n",
       "      <td>8</td>\n",
       "      <td>Stat 'global.map.emp_isle' not found</td>\n",
       "    </tr>\n",
       "  </tbody>\n",
       "</table>"
      ],
      "text/plain": [
       "<IPython.core.display.HTML object>"
      ]
     },
     "metadata": {},
     "output_type": "display_data"
    }
   ],
   "source": [
    "def get_steam_global_stats (app_id):\n",
    "    url = 'http://api.steampowered.com/ISteamUserStats/GetGlobalStatsForGame/v0001/?format=json&appid=' + str(app_id) + '&count=1&name%5B0%5D=global.map.emp_isle'\n",
    "    r = requests.get(url, data = {'key':'value'})\n",
    "    return r.text\n",
    "\n",
    "def unpack_json (txt):\n",
    "    unpacked = json.loads(txt)\n",
    "    return unpacked\n",
    "\n",
    "def explore_steam_global_stats (unpacked):\n",
    "    df = pd.DataFrame ()\n",
    "    for keys,response in unpacked.items():\n",
    "        for keys, values in response.items():\n",
    "            if isinstance(values,dict):\n",
    "                for keys, results in values.items():\n",
    "                    tmp = pd.DataFrame()\n",
    "                    for keys, more_results in results.items():\n",
    "                        tmp[keys] = [more_results]\n",
    "                    df = df.append(tmp)\n",
    "            else:\n",
    "                df[keys] = [values]\n",
    "                    \n",
    "    display(HTML(df.head().to_html()))\n",
    "    return df\n",
    "            \n",
    "\n",
    "app_id = 22380 # Empires Mod\n",
    "game_stats = get_steam_global_stats (app_id)\n",
    "unpacked = unpack_json (game_stats)\n",
    "df = explore_steam_global_stats (unpacked)"
   ]
  },
  {
   "cell_type": "markdown",
   "metadata": {},
   "source": [
    "#### Get Player Summary"
   ]
  },
  {
   "cell_type": "code",
   "execution_count": 6,
   "metadata": {},
   "outputs": [
    {
     "data": {
      "text/html": [
       "<table border=\"1\" class=\"dataframe\">\n",
       "  <thead>\n",
       "    <tr style=\"text-align: right;\">\n",
       "      <th></th>\n",
       "      <th>0</th>\n",
       "    </tr>\n",
       "  </thead>\n",
       "  <tbody>\n",
       "    <tr>\n",
       "      <th>steamid</th>\n",
       "      <td>76561197960435530</td>\n",
       "    </tr>\n",
       "    <tr>\n",
       "      <th>communityvisibilitystate</th>\n",
       "      <td>3</td>\n",
       "    </tr>\n",
       "    <tr>\n",
       "      <th>profilestate</th>\n",
       "      <td>1</td>\n",
       "    </tr>\n",
       "    <tr>\n",
       "      <th>personaname</th>\n",
       "      <td>Robin</td>\n",
       "    </tr>\n",
       "    <tr>\n",
       "      <th>profileurl</th>\n",
       "      <td>https://steamcommunity.com/id/robinwalker/</td>\n",
       "    </tr>\n",
       "  </tbody>\n",
       "</table>"
      ],
      "text/plain": [
       "<IPython.core.display.HTML object>"
      ]
     },
     "metadata": {},
     "output_type": "display_data"
    }
   ],
   "source": [
    "def get_player_summaries (steam_key, steam_id):\n",
    "    url = 'http://api.steampowered.com/ISteamUser/GetPlayerSummaries/v0002/?key=' + str(steam_key) + '&steamids=' + str(steam_id)\n",
    "    r = requests.get(url, data = {'key':'value'})\n",
    "    return r.text\n",
    "\n",
    "def unpack_json (txt):\n",
    "    unpacked = json.loads(txt)\n",
    "    return unpacked\n",
    "\n",
    "def explore_player_summaries (unpacked):\n",
    "    df = pd.DataFrame ()\n",
    "    for keys,response in unpacked.items():\n",
    "        for keys,players in response.items():\n",
    "            for player in players:\n",
    "                tmp = pd.DataFrame()\n",
    "                for keys,values in player.items():\n",
    "                    tmp[keys] = [values]\n",
    "                df = df.append(tmp)\n",
    "    df = df.transpose()\n",
    "    display(HTML(df.head().to_html()))\n",
    "    return df\n",
    "\n",
    "player_summary = get_player_summaries (steam_key, steam_id2)\n",
    "unpacked = unpack_json (player_summary)\n",
    "df = explore_player_summaries (unpacked)"
   ]
  },
  {
   "cell_type": "markdown",
   "metadata": {},
   "source": [
    "#### Get Player's Friends List"
   ]
  },
  {
   "cell_type": "code",
   "execution_count": 7,
   "metadata": {
    "scrolled": false
   },
   "outputs": [
    {
     "data": {
      "text/html": [
       "<table border=\"1\" class=\"dataframe\">\n",
       "  <thead>\n",
       "    <tr style=\"text-align: right;\">\n",
       "      <th></th>\n",
       "      <th>steamid</th>\n",
       "      <th>relationship</th>\n",
       "      <th>friend_since</th>\n",
       "    </tr>\n",
       "  </thead>\n",
       "  <tbody>\n",
       "    <tr>\n",
       "      <th>0</th>\n",
       "      <td>76561197960265731</td>\n",
       "      <td>friend</td>\n",
       "      <td>1970-01-01 00:00:00</td>\n",
       "    </tr>\n",
       "    <tr>\n",
       "      <th>0</th>\n",
       "      <td>76561197960265738</td>\n",
       "      <td>friend</td>\n",
       "      <td>1970-01-01 00:00:00</td>\n",
       "    </tr>\n",
       "    <tr>\n",
       "      <th>0</th>\n",
       "      <td>76561197960265740</td>\n",
       "      <td>friend</td>\n",
       "      <td>1970-01-01 00:00:00</td>\n",
       "    </tr>\n",
       "    <tr>\n",
       "      <th>0</th>\n",
       "      <td>76561197960265744</td>\n",
       "      <td>friend</td>\n",
       "      <td>2020-03-29 19:03:33</td>\n",
       "    </tr>\n",
       "    <tr>\n",
       "      <th>0</th>\n",
       "      <td>76561197960265747</td>\n",
       "      <td>friend</td>\n",
       "      <td>1970-01-01 00:00:00</td>\n",
       "    </tr>\n",
       "  </tbody>\n",
       "</table>"
      ],
      "text/plain": [
       "<IPython.core.display.HTML object>"
      ]
     },
     "metadata": {},
     "output_type": "display_data"
    }
   ],
   "source": [
    "import datetime\n",
    "\n",
    "def get_player_friends (steam_key, steam_id):\n",
    "    url = 'http://api.steampowered.com/ISteamUser/GetFriendList/v0001/?key=' + str(steam_key) + '&steamid=' + str(steam_id) + '&relationship=friend'\n",
    "    r = requests.get(url, data = {'key':'value'})\n",
    "    return r.text\n",
    "\n",
    "def unpack_json (txt):\n",
    "    unpacked = json.loads(txt)\n",
    "    return unpacked\n",
    "\n",
    "def explore_player_friends (unpacked):\n",
    "    df = pd.DataFrame ()\n",
    "    for keys, friendslist in unpacked.items():\n",
    "        for keys, friends in friendslist.items():\n",
    "            for friend in friends:\n",
    "                tmp = pd.DataFrame()\n",
    "                for keys, values in friend.items():\n",
    "                    if \"friend_since\" in keys:\n",
    "                        values = datetime.datetime.utcfromtimestamp(values, datetime.datetime.utc)\n",
    "                    tmp[keys] = [values]\n",
    "                df = df.append(tmp)   \n",
    "    display(HTML(df.head().to_html()))\n",
    "    return df\n",
    "\n",
    "player_friends = get_player_friends (steam_key, steam_id2)\n",
    "unpacked = unpack_json (player_friends)\n",
    "df = explore_player_friends (unpacked)"
   ]
  },
  {
   "cell_type": "markdown",
   "metadata": {},
   "source": [
    "#### Get Player Achievements"
   ]
  },
  {
   "cell_type": "code",
   "execution_count": 8,
   "metadata": {},
   "outputs": [
    {
     "name": "stdout",
     "output_type": "stream",
     "text": [
      "Profile is not public\n"
     ]
    },
    {
     "data": {
      "text/html": [
       "<table border=\"1\" class=\"dataframe\">\n",
       "  <thead>\n",
       "    <tr style=\"text-align: right;\">\n",
       "      <th></th>\n",
       "    </tr>\n",
       "  </thead>\n",
       "  <tbody>\n",
       "  </tbody>\n",
       "</table>"
      ],
      "text/plain": [
       "<IPython.core.display.HTML object>"
      ]
     },
     "metadata": {},
     "output_type": "display_data"
    }
   ],
   "source": [
    "def get_player_achievements (app_id,steam_key, steam_id):\n",
    "    url = 'http://api.steampowered.com/ISteamUserStats/GetPlayerAchievements/v0001/?appid=' + str(app_id) + '&key=' + str(steam_key) + '&steamid=' + str(steam_id)\n",
    "    r = requests.get(url, data = {'key':'value'})\n",
    "    return r.text\n",
    "\n",
    "def unpack_json (txt):\n",
    "    unpacked = json.loads(txt)\n",
    "    return unpacked\n",
    "\n",
    "def explore_player_achievements(unpack):\n",
    "    df = pd.DataFrame ()\n",
    "    for keys, playerstats in unpack.items():\n",
    "        for keys,steam_id in playerstats.items():\n",
    "            if 'error' in keys:\n",
    "                print('Profile is not public')\n",
    "            else:\n",
    "                if \"achievements\" in keys:\n",
    "                    for achievements in steam_id:\n",
    "                        tmp = pd.DataFrame()\n",
    "                        for keys, values in achievements.items():\n",
    "                            if 'unlocktime' in keys:\n",
    "                                values = datetime.datetime.utcfromtimestamp(values,datetime.datetime.utc)\n",
    "                            tmp[keys] = [values]\n",
    "                        df = df.append(tmp)\n",
    "    display(HTML(df.head().to_html()))\n",
    "    return df\n",
    "\n",
    "player_achievements = get_player_achievements (app_id,steam_key, steam_id)\n",
    "unpacked = unpack_json(player_achievements)\n",
    "df = explore_player_achievements (unpacked)"
   ]
  },
  {
   "cell_type": "markdown",
   "metadata": {},
   "source": [
    "#### Get Player Stats Per Game"
   ]
  },
  {
   "cell_type": "code",
   "execution_count": 9,
   "metadata": {},
   "outputs": [
    {
     "name": "stdout",
     "output_type": "stream",
     "text": [
      "<html>\n",
      "<head>\n",
      "<title>500 Internal Server Error</title>\n",
      "</head>\n",
      "<body>\n",
      "<h1>Internal Server Error</h1>\n",
      "</body>\n",
      "</html>\n"
     ]
    }
   ],
   "source": [
    "## Gives a server Internal Error even with example URL\n",
    "def get_user_stats_per_game (app_id,steam_key,steam_id):\n",
    "    url = 'http://api.steampowered.com/ISteamUserStats/GetUserStatsForGame/v0002/?appid='+ str(app_id) + '&key=' + str(steam_key) + '&steamid=' + str(steam_id)\n",
    "    r = requests.get(url, data = {'key':'value'})\n",
    "    return r.text\n",
    "\n",
    "def unpack_json (txt):\n",
    "    unpacked = json.loads(txt)\n",
    "    return unpacked\n",
    "\n",
    "\n",
    "player_stats = get_user_stats_per_game (app_id,steam_key,steam_id)\n",
    "print(player_stats)"
   ]
  },
  {
   "cell_type": "markdown",
   "metadata": {},
   "source": [
    "#### Get Recently Played Games"
   ]
  },
  {
   "cell_type": "code",
   "execution_count": 10,
   "metadata": {},
   "outputs": [
    {
     "data": {
      "text/html": [
       "<table border=\"1\" class=\"dataframe\">\n",
       "  <thead>\n",
       "    <tr style=\"text-align: right;\">\n",
       "      <th></th>\n",
       "    </tr>\n",
       "  </thead>\n",
       "  <tbody>\n",
       "  </tbody>\n",
       "</table>"
      ],
      "text/plain": [
       "<IPython.core.display.HTML object>"
      ]
     },
     "metadata": {},
     "output_type": "display_data"
    }
   ],
   "source": [
    "def get_recently_played_games (steam_key,steam_id):\n",
    "    url = 'http://api.steampowered.com/IPlayerService/GetRecentlyPlayedGames/v0001/?key=' + str(steam_key) + '&steamid=' + str(steam_id) + '&format=json'\n",
    "    r = requests.get(url, data = {'key':'value'})\n",
    "    return r.text\n",
    "\n",
    "def unpack_json (txt):\n",
    "    unpacked = json.loads(txt)\n",
    "    return unpacked\n",
    "\n",
    "def explore_recent_games (unpacked):\n",
    "    df = pd.DataFrame ()\n",
    "    for keys,values in unpacked.items():\n",
    "        for key, games in values.items():\n",
    "            if 'games' in key:\n",
    "                for game in games:\n",
    "                    tmp = pd.DataFrame()\n",
    "                    for key, item in game.items():\n",
    "                        tmp [key] = [item]\n",
    "                    df = df.append(tmp)\n",
    "    display(HTML(df.head().to_html()))\n",
    "    return df\n",
    "\n",
    "recent_games = get_recently_played_games (steam_key,steam_id2)\n",
    "unpacked = unpack_json (recent_games)\n",
    "df = explore_recent_games (unpacked)"
   ]
  },
  {
   "cell_type": "markdown",
   "metadata": {},
   "source": [
    "#### Get Shared Games"
   ]
  },
  {
   "cell_type": "code",
   "execution_count": 11,
   "metadata": {},
   "outputs": [
    {
     "data": {
      "text/html": [
       "<table border=\"1\" class=\"dataframe\">\n",
       "  <thead>\n",
       "    <tr style=\"text-align: right;\">\n",
       "      <th></th>\n",
       "    </tr>\n",
       "  </thead>\n",
       "  <tbody>\n",
       "  </tbody>\n",
       "</table>"
      ],
      "text/plain": [
       "<IPython.core.display.HTML object>"
      ]
     },
     "metadata": {},
     "output_type": "display_data"
    }
   ],
   "source": [
    "def get_shared_games (steam_key,steam_id):\n",
    "    url = 'http://api.steampowered.com/IPlayerService/GetRecentlyPlayedGames/v0001/?key=' + str(steam_key) + '&steamid=' + str(steam_id) + '&format=json'\n",
    "    r = requests.get(url, data = {'key':'value'})\n",
    "    return r.text\n",
    "\n",
    "def unpack_json (txt):\n",
    "    unpacked = json.loads(txt)\n",
    "    return unpacked\n",
    "\n",
    "def explore_shared_games (unpacked):\n",
    "    df = pd.DataFrame ()\n",
    "    for keys,values in unpacked.items():\n",
    "        for keys, total_count in values.items():\n",
    "            if isinstance(total_count, list):\n",
    "                tmp = pd.DataFrame()\n",
    "                for count in total_count:\n",
    "                    for key, value in count.items():\n",
    "                        tmp[key] = [value]\n",
    "                    df = df.append(tmp)\n",
    "    display(HTML(df.head().to_html()))\n",
    "    return df\n",
    "\n",
    "shared_games = get_shared_games (steam_key,steam_id)\n",
    "unpacked = unpack_json (shared_games)\n",
    "df = explore_shared_games (unpacked)"
   ]
  },
  {
   "cell_type": "markdown",
   "metadata": {},
   "source": [
    "#### Get Game Schema"
   ]
  },
  {
   "cell_type": "code",
   "execution_count": 12,
   "metadata": {},
   "outputs": [
    {
     "data": {
      "text/html": [
       "<table border=\"1\" class=\"dataframe\">\n",
       "  <thead>\n",
       "    <tr style=\"text-align: right;\">\n",
       "      <th></th>\n",
       "      <th>name</th>\n",
       "      <th>gameName</th>\n",
       "      <th>gameVersion</th>\n",
       "      <th>defaultvalue</th>\n",
       "      <th>displayName</th>\n",
       "      <th>hidden</th>\n",
       "      <th>description</th>\n",
       "      <th>icon</th>\n",
       "      <th>icongray</th>\n",
       "    </tr>\n",
       "  </thead>\n",
       "  <tbody>\n",
       "    <tr>\n",
       "      <th>0</th>\n",
       "      <td>A01</td>\n",
       "      <td>ValveTestApp22380</td>\n",
       "      <td>25</td>\n",
       "      <td>0</td>\n",
       "      <td>New Kid</td>\n",
       "      <td>0</td>\n",
       "      <td>Reached 10th level.</td>\n",
       "      <td>https://steamcdn-a.akamaihd.net/steamcommunity/public/images/apps/22380/57ffeb21c637010758bf87f708a47ff8c62256ef.jpg</td>\n",
       "      <td>https://steamcdn-a.akamaihd.net/steamcommunity/public/images/apps/22380/6c7f9d60669a89566e3aa1b19a460574407540d8.jpg</td>\n",
       "    </tr>\n",
       "    <tr>\n",
       "      <th>0</th>\n",
       "      <td>A02</td>\n",
       "      <td>ValveTestApp22380</td>\n",
       "      <td>25</td>\n",
       "      <td>0</td>\n",
       "      <td>Up and Comer</td>\n",
       "      <td>0</td>\n",
       "      <td>Reach 20th level.</td>\n",
       "      <td>https://steamcdn-a.akamaihd.net/steamcommunity/public/images/apps/22380/3cc42e549932da26fcbb049bd46f35893b98e78c.jpg</td>\n",
       "      <td>https://steamcdn-a.akamaihd.net/steamcommunity/public/images/apps/22380/281021c27b423faa73c87762ce6ffb2823d78a17.jpg</td>\n",
       "    </tr>\n",
       "    <tr>\n",
       "      <th>0</th>\n",
       "      <td>A03</td>\n",
       "      <td>ValveTestApp22380</td>\n",
       "      <td>25</td>\n",
       "      <td>0</td>\n",
       "      <td>The Boss</td>\n",
       "      <td>0</td>\n",
       "      <td>Reach 30th level.</td>\n",
       "      <td>https://steamcdn-a.akamaihd.net/steamcommunity/public/images/apps/22380/e2395a7100759c3e1d422bfe98dbe860941329a3.jpg</td>\n",
       "      <td>https://steamcdn-a.akamaihd.net/steamcommunity/public/images/apps/22380/a9ce0a7b692913f0f1f0b4cdd7fda22ee61a8332.jpg</td>\n",
       "    </tr>\n",
       "    <tr>\n",
       "      <th>0</th>\n",
       "      <td>A04</td>\n",
       "      <td>ValveTestApp22380</td>\n",
       "      <td>25</td>\n",
       "      <td>0</td>\n",
       "      <td>Ol' Buddy Ol' Pal</td>\n",
       "      <td>0</td>\n",
       "      <td>Recruit any companion.</td>\n",
       "      <td>https://steamcdn-a.akamaihd.net/steamcommunity/public/images/apps/22380/5f627959d8b341f1e0e4268e21448bb9b7986132.jpg</td>\n",
       "      <td>https://steamcdn-a.akamaihd.net/steamcommunity/public/images/apps/22380/87437a68f94c051099420c587d2badef41e6e102.jpg</td>\n",
       "    </tr>\n",
       "    <tr>\n",
       "      <th>0</th>\n",
       "      <td>A05</td>\n",
       "      <td>ValveTestApp22380</td>\n",
       "      <td>25</td>\n",
       "      <td>0</td>\n",
       "      <td>The Whole Gang's Here</td>\n",
       "      <td>0</td>\n",
       "      <td>Recruit all companions.</td>\n",
       "      <td>https://steamcdn-a.akamaihd.net/steamcommunity/public/images/apps/22380/6ec46779e08726ef3c936a1bde010e66abea7eac.jpg</td>\n",
       "      <td>https://steamcdn-a.akamaihd.net/steamcommunity/public/images/apps/22380/ab634a9cdf83baedd628bc4dd54e65e43dc6f46e.jpg</td>\n",
       "    </tr>\n",
       "  </tbody>\n",
       "</table>"
      ],
      "text/plain": [
       "<IPython.core.display.HTML object>"
      ]
     },
     "metadata": {},
     "output_type": "display_data"
    }
   ],
   "source": [
    "def get_game_schema (app_id, steam_key):\n",
    "    url = 'http://api.steampowered.com/ISteamUserStats/GetSchemaForGame/v2/?key=' + str(steam_key)+ '&appid= '+ str(app_id)\n",
    "    r = requests.get(url, data = {'key':'value'})\n",
    "    return r.text\n",
    "\n",
    "def unpack_json (txt):\n",
    "    unpacked = json.loads(txt)\n",
    "    return unpacked\n",
    "\n",
    "def explore_game_schema (unpacked):\n",
    "    df = pd.DataFrame ()\n",
    "    gameName = ''\n",
    "    gameVersion = np.nan\n",
    "    for keys,game in unpacked.items():\n",
    "        i = 0\n",
    "        for field, subfield in game.items():\n",
    "            if field == 'gameName':\n",
    "                gameName = subfield\n",
    "            elif field == 'gameVersion':\n",
    "                gameVersion = subfield\n",
    "            elif field == 'availableGameStats':\n",
    "                tmp = pd.DataFrame()\n",
    "                for keys,values in subfield.items():\n",
    "                    for value in values:\n",
    "                        for keys, schema in value.items():\n",
    "                            tmp[keys] = [schema]\n",
    "                            tmp['gameName'] = gameName\n",
    "                            tmp['gameVersion'] = gameVersion\n",
    "                        df = df.append(tmp)\n",
    "    display(HTML(df.head().to_html()))\n",
    "    return df\n",
    "\n",
    "game_schema = get_game_schema (app_id, steam_key)\n",
    "unpacked = unpack_json(game_schema)\n",
    "df = explore_game_schema (unpacked)"
   ]
  },
  {
   "cell_type": "markdown",
   "metadata": {},
   "source": [
    "#### Get Player Bans"
   ]
  },
  {
   "cell_type": "code",
   "execution_count": 13,
   "metadata": {},
   "outputs": [
    {
     "data": {
      "text/html": [
       "<table border=\"1\" class=\"dataframe\">\n",
       "  <thead>\n",
       "    <tr style=\"text-align: right;\">\n",
       "      <th></th>\n",
       "      <th>SteamId</th>\n",
       "      <th>CommunityBanned</th>\n",
       "      <th>VACBanned</th>\n",
       "      <th>NumberOfVACBans</th>\n",
       "      <th>DaysSinceLastBan</th>\n",
       "      <th>NumberOfGameBans</th>\n",
       "      <th>EconomyBan</th>\n",
       "    </tr>\n",
       "  </thead>\n",
       "  <tbody>\n",
       "    <tr>\n",
       "      <th>0</th>\n",
       "      <td>76561197972495328</td>\n",
       "      <td>False</td>\n",
       "      <td>False</td>\n",
       "      <td>0</td>\n",
       "      <td>0</td>\n",
       "      <td>0</td>\n",
       "      <td>none</td>\n",
       "    </tr>\n",
       "  </tbody>\n",
       "</table>"
      ],
      "text/plain": [
       "<IPython.core.display.HTML object>"
      ]
     },
     "metadata": {},
     "output_type": "display_data"
    }
   ],
   "source": [
    "def get_player_bans (app_id, steam_key):\n",
    "    url = 'http://api.steampowered.com/ISteamUser/GetPlayerBans/v1/?key=' + str(steam_key)+ '&steamids='+ str(steam_id)\n",
    "    r = requests.get(url, data = {'key':'value'})\n",
    "    return r.text\n",
    "\n",
    "\n",
    "def explore_player_bans (unpacked):\n",
    "    df = pd.DataFrame ()\n",
    "    for keys,values in unpacked.items():\n",
    "        tmp = pd.DataFrame()\n",
    "        for key, value in values[0].items():\n",
    "            tmp[key] = [value]\n",
    "        df = df.append(tmp)\n",
    "    display(HTML(df.head().to_html()))\n",
    "    return df\n",
    "\n",
    "def unpack_json (txt):\n",
    "    unpacked = json.loads(txt)\n",
    "    return unpacked\n",
    "\n",
    "\n",
    "player_bans = get_player_bans (app_id, steam_key)\n",
    "unpacked = unpack_json (player_bans)\n",
    "df = explore_player_bans(unpacked)"
   ]
  },
  {
   "cell_type": "code",
   "execution_count": null,
   "metadata": {},
   "outputs": [],
   "source": []
  }
 ],
 "metadata": {
  "kernelspec": {
   "name": "ins_env",
   "language": "python",
   "display_name": "ins_env"
  },
  "language_info": {
   "codemirror_mode": {
    "name": "ipython",
    "version": 3
   },
   "file_extension": ".py",
   "mimetype": "text/x-python",
   "name": "python",
   "nbconvert_exporter": "python",
   "pygments_lexer": "ipython3",
   "version": "3.7.7"
  }
 },
 "nbformat": 4,
 "nbformat_minor": 4
}
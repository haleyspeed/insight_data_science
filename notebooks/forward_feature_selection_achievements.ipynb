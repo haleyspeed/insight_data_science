{
 "cells": [
  {
   "cell_type": "markdown",
   "metadata": {},
   "source": [
    "# Forward Feature Selection for Achievements"
   ]
  },
  {
   "cell_type": "markdown",
   "metadata": {},
   "source": [
    "### Import dependencies"
   ]
  },
  {
   "cell_type": "code",
   "execution_count": 1,
   "metadata": {},
   "outputs": [],
   "source": [
    "import pandas as pd\n",
    "import os\n",
    "import subscript.config as cn\n",
    "from sklearn.ensemble import RandomForestClassifier\n",
    "from sklearn.metrics import roc_auc_score\n",
    "from mlxtend.feature_selection import SequentialFeatureSelector\n",
    "from sklearn.model_selection import StratifiedShuffleSplit\n",
    "import numpy as np"
   ]
  },
  {
   "cell_type": "markdown",
   "metadata": {},
   "source": [
    "### Read in and prepare data"
   ]
  },
  {
   "cell_type": "code",
   "execution_count": 24,
   "metadata": {},
   "outputs": [
    {
     "data": {
      "text/html": [
       "<div>\n",
       "<style scoped>\n",
       "    .dataframe tbody tr th:only-of-type {\n",
       "        vertical-align: middle;\n",
       "    }\n",
       "\n",
       "    .dataframe tbody tr th {\n",
       "        vertical-align: top;\n",
       "    }\n",
       "\n",
       "    .dataframe thead th {\n",
       "        text-align: right;\n",
       "    }\n",
       "</style>\n",
       "<table border=\"1\" class=\"dataframe\">\n",
       "  <thead>\n",
       "    <tr style=\"text-align: right;\">\n",
       "      <th></th>\n",
       "      <th>6</th>\n",
       "      <th>7</th>\n",
       "      <th>8</th>\n",
       "      <th>9</th>\n",
       "      <th>10</th>\n",
       "      <th>11</th>\n",
       "      <th>12</th>\n",
       "      <th>13</th>\n",
       "      <th>16</th>\n",
       "      <th>31</th>\n",
       "      <th>...</th>\n",
       "      <th>11018</th>\n",
       "      <th>11030</th>\n",
       "      <th>11043</th>\n",
       "      <th>11056</th>\n",
       "      <th>12037</th>\n",
       "      <th>12197</th>\n",
       "      <th>13643</th>\n",
       "      <th>1412</th>\n",
       "      <th>1416</th>\n",
       "      <th>id</th>\n",
       "    </tr>\n",
       "  </thead>\n",
       "  <tbody>\n",
       "    <tr>\n",
       "      <th>0</th>\n",
       "      <td>Character</td>\n",
       "      <td>Character</td>\n",
       "      <td>Character</td>\n",
       "      <td>Character</td>\n",
       "      <td>Character</td>\n",
       "      <td>Character</td>\n",
       "      <td>Character</td>\n",
       "      <td>Character</td>\n",
       "      <td>none</td>\n",
       "      <td>none</td>\n",
       "      <td>...</td>\n",
       "      <td>none</td>\n",
       "      <td>none</td>\n",
       "      <td>none</td>\n",
       "      <td>none</td>\n",
       "      <td>none</td>\n",
       "      <td>none</td>\n",
       "      <td>none</td>\n",
       "      <td>none</td>\n",
       "      <td>none</td>\n",
       "      <td>airgeyser_proudmoore</td>\n",
       "    </tr>\n",
       "    <tr>\n",
       "      <th>3</th>\n",
       "      <td>Character</td>\n",
       "      <td>Character</td>\n",
       "      <td>Character</td>\n",
       "      <td>Character</td>\n",
       "      <td>Character</td>\n",
       "      <td>Character</td>\n",
       "      <td>Character</td>\n",
       "      <td>Character</td>\n",
       "      <td>none</td>\n",
       "      <td>Quests</td>\n",
       "      <td>...</td>\n",
       "      <td>none</td>\n",
       "      <td>none</td>\n",
       "      <td>none</td>\n",
       "      <td>none</td>\n",
       "      <td>none</td>\n",
       "      <td>none</td>\n",
       "      <td>none</td>\n",
       "      <td>none</td>\n",
       "      <td>none</td>\n",
       "      <td>tharivool_proudmoore</td>\n",
       "    </tr>\n",
       "    <tr>\n",
       "      <th>5</th>\n",
       "      <td>Character</td>\n",
       "      <td>Character</td>\n",
       "      <td>Character</td>\n",
       "      <td>Character</td>\n",
       "      <td>Character</td>\n",
       "      <td>Character</td>\n",
       "      <td>Character</td>\n",
       "      <td>Character</td>\n",
       "      <td>none</td>\n",
       "      <td>Quests</td>\n",
       "      <td>...</td>\n",
       "      <td>none</td>\n",
       "      <td>none</td>\n",
       "      <td>none</td>\n",
       "      <td>none</td>\n",
       "      <td>none</td>\n",
       "      <td>none</td>\n",
       "      <td>none</td>\n",
       "      <td>none</td>\n",
       "      <td>none</td>\n",
       "      <td>yareij_proudmoore</td>\n",
       "    </tr>\n",
       "    <tr>\n",
       "      <th>6</th>\n",
       "      <td>Character</td>\n",
       "      <td>Character</td>\n",
       "      <td>Character</td>\n",
       "      <td>Character</td>\n",
       "      <td>Character</td>\n",
       "      <td>Character</td>\n",
       "      <td>Character</td>\n",
       "      <td>Character</td>\n",
       "      <td>none</td>\n",
       "      <td>none</td>\n",
       "      <td>...</td>\n",
       "      <td>none</td>\n",
       "      <td>none</td>\n",
       "      <td>none</td>\n",
       "      <td>none</td>\n",
       "      <td>none</td>\n",
       "      <td>none</td>\n",
       "      <td>none</td>\n",
       "      <td>none</td>\n",
       "      <td>none</td>\n",
       "      <td>oretenbro_proudmoore</td>\n",
       "    </tr>\n",
       "    <tr>\n",
       "      <th>7</th>\n",
       "      <td>Character</td>\n",
       "      <td>Character</td>\n",
       "      <td>Character</td>\n",
       "      <td>Character</td>\n",
       "      <td>Character</td>\n",
       "      <td>Character</td>\n",
       "      <td>Character</td>\n",
       "      <td>Character</td>\n",
       "      <td>none</td>\n",
       "      <td>Quests</td>\n",
       "      <td>...</td>\n",
       "      <td>none</td>\n",
       "      <td>none</td>\n",
       "      <td>none</td>\n",
       "      <td>none</td>\n",
       "      <td>none</td>\n",
       "      <td>none</td>\n",
       "      <td>none</td>\n",
       "      <td>none</td>\n",
       "      <td>none</td>\n",
       "      <td>connorpriest_proudmoore</td>\n",
       "    </tr>\n",
       "  </tbody>\n",
       "</table>\n",
       "<p>5 rows × 4015 columns</p>\n",
       "</div>"
      ],
      "text/plain": [
       "           6          7          8          9         10         11  \\\n",
       "0  Character  Character  Character  Character  Character  Character   \n",
       "3  Character  Character  Character  Character  Character  Character   \n",
       "5  Character  Character  Character  Character  Character  Character   \n",
       "6  Character  Character  Character  Character  Character  Character   \n",
       "7  Character  Character  Character  Character  Character  Character   \n",
       "\n",
       "          12         13    16      31  ... 11018 11030 11043 11056 12037  \\\n",
       "0  Character  Character  none    none  ...  none  none  none  none  none   \n",
       "3  Character  Character  none  Quests  ...  none  none  none  none  none   \n",
       "5  Character  Character  none  Quests  ...  none  none  none  none  none   \n",
       "6  Character  Character  none    none  ...  none  none  none  none  none   \n",
       "7  Character  Character  none  Quests  ...  none  none  none  none  none   \n",
       "\n",
       "  12197 13643  1412  1416                       id  \n",
       "0  none  none  none  none     airgeyser_proudmoore  \n",
       "3  none  none  none  none     tharivool_proudmoore  \n",
       "5  none  none  none  none        yareij_proudmoore  \n",
       "6  none  none  none  none     oretenbro_proudmoore  \n",
       "7  none  none  none  none  connorpriest_proudmoore  \n",
       "\n",
       "[5 rows x 4015 columns]"
      ]
     },
     "execution_count": 24,
     "metadata": {},
     "output_type": "execute_result"
    }
   ],
   "source": [
    "df = pd.read_csv(os.path.join(cn.clean_dir,'final_feature_categories.csv'), dtype = 'unicode')\n",
    "player_cols =  ['Unnamed: 0','player','realm','gear_score','last_login',\n",
    "            'time_since_login','status']\n",
    "df = df.drop(player_cols, axis = 1)\n",
    "dfp = pd.DataFrame()\n",
    "df = df[df.engagement.astype(float) != 1]\n",
    "df_original = df.copy()\n",
    "df.head()"
   ]
  },
  {
   "cell_type": "markdown",
   "metadata": {},
   "source": [
    "## Convert any completed achievement to 1 for "
   ]
  },
  {
   "cell_type": "code",
   "execution_count": null,
   "metadata": {},
   "outputs": [],
   "source": [
    "df = df_original.copy()\n",
    "categroies = ['Alterac Valley','Arathi Basin','Archaeology',\n",
    "              'Arena','Argent Tournament','Ashran','Battle Dungeon',\n",
    "              'Battle Raid','Battle for Azeroth','Battle for Gilneas',\n",
    "              'Battlegrounds',\"Brawler's Guild\",'Brewfest','Cataclysm',\n",
    "              'Cataclysm Dungeon','Cataclysm Raid','Character',\n",
    "              \"Children's Week\",'Classic','Collections','Cooking',\n",
    "              'Currencies','Darkmoon Faire','Deepwind Gorge','Draenor',\n",
    "              'Draenor Dungeon','Draenor Garrison','Draenor Raid',\n",
    "              'Dungeons','Dungeons & Raids','Eastern Kingdoms',\n",
    "              'Events','Expansion Features','Exploration',\n",
    "              'Eye of the Storm','Feats of Strength','Fishing',\n",
    "              'General','Guild Feats of Strength',\"Hallow's End\",\n",
    "              'Heart of Azeroth','Honor','Island Expeditions',\n",
    "              'Isle of Conquest','Kalimdor','Legacy','Legion',\n",
    "              'Legion Class Hall','Legion Dungeon','Legion Raid',\n",
    "              'Lich King Dungeon','Lich King Raid','Love is in the Air',\n",
    "              'Lunar Festival','Midsummer','Mounts','Noblegarden',\n",
    "              'Northrend','Outland','Pandaria','Pandaria Dungeon',\n",
    "              'Pandaria Raid','Pandaria Scenarios','Pet Battles',\n",
    "              \"Pilgrim's Bounty\",'Player vs. Player','Professions',\n",
    "              'Promotions','Quests','Raids','Rated Battleground',\n",
    "              'Reputation','Seething Shore','Silvershard Mines',\n",
    "              'Temple of Kotmogu','The Burning Crusade','Tol Barad',\n",
    "              'Twin Peaks',\"Visions of N'Zoth\",'War Effort',\n",
    "              'Warsong Gulch','Winter Veil','Wintergrasp','World',\n",
    "              'World Events','Wrath of the Lich King']\n",
    "xform = [c for c in df.columns.values if 'engagement' not in c]\n",
    "df[xform] = df[xform].replace('none', '0')\n",
    "df[xform] = df[xform].replace(categories, '1')\n",
    "df.head()"
   ]
  },
  {
   "cell_type": "code",
   "execution_count": 5,
   "metadata": {},
   "outputs": [],
   "source": [
    "split = StratifiedShuffleSplit(n_splits = 10, test_size = 0.25, random_state = 17)\n",
    "for train_index, test_index in split.split(df, df.engagement):\n",
    "    strat_train = df.iloc[train_index][:]\n",
    "    strat_test = df.iloc[test_index][:]\n",
    "\n",
    "y_train = strat_train.engagement\n",
    "X_train = strat_train.drop('engagement', axis = 1)\n",
    "y_test = strat_test.engagement\n",
    "X_test = strat_test.drop('engagement', axis = 1)\n"
   ]
  },
  {
   "cell_type": "code",
   "execution_count": 6,
   "metadata": {},
   "outputs": [
    {
     "name": "stderr",
     "output_type": "stream",
     "text": [
      "[Parallel(n_jobs=1)]: Using backend SequentialBackend with 1 concurrent workers.\n",
      "[Parallel(n_jobs=1)]: Done   1 out of   1 | elapsed:    2.5s remaining:    0.0s\n",
      "[Parallel(n_jobs=1)]: Done  86 out of  86 | elapsed:  4.7min finished\n",
      "\n",
      "[2020-06-18 23:22:45] Features: 1/15 -- score: 0.8275319279890125[Parallel(n_jobs=1)]: Using backend SequentialBackend with 1 concurrent workers.\n",
      "[Parallel(n_jobs=1)]: Done   1 out of   1 | elapsed:    4.7s remaining:    0.0s\n",
      "[Parallel(n_jobs=1)]: Done  85 out of  85 | elapsed:  6.4min finished\n",
      "\n",
      "[2020-06-18 23:29:11] Features: 2/15 -- score: 0.8655649323324635[Parallel(n_jobs=1)]: Using backend SequentialBackend with 1 concurrent workers.\n",
      "[Parallel(n_jobs=1)]: Done   1 out of   1 | elapsed:    5.2s remaining:    0.0s\n",
      "[Parallel(n_jobs=1)]: Done  84 out of  84 | elapsed:  7.8min finished\n",
      "\n",
      "[2020-06-18 23:37:01] Features: 3/15 -- score: 0.8657906385351571[Parallel(n_jobs=1)]: Using backend SequentialBackend with 1 concurrent workers.\n",
      "[Parallel(n_jobs=1)]: Done   1 out of   1 | elapsed:    6.4s remaining:    0.0s\n",
      "[Parallel(n_jobs=1)]: Done  83 out of  83 | elapsed:  9.0min finished\n",
      "\n",
      "[2020-06-18 23:46:00] Features: 4/15 -- score: 0.8654583053793531[Parallel(n_jobs=1)]: Using backend SequentialBackend with 1 concurrent workers.\n",
      "[Parallel(n_jobs=1)]: Done   1 out of   1 | elapsed:    5.4s remaining:    0.0s\n",
      "[Parallel(n_jobs=1)]: Done  82 out of  82 | elapsed:  8.1min finished\n",
      "\n",
      "[2020-06-18 23:54:04] Features: 5/15 -- score: 0.8611299562848634[Parallel(n_jobs=1)]: Using backend SequentialBackend with 1 concurrent workers.\n",
      "[Parallel(n_jobs=1)]: Done   1 out of   1 | elapsed:    6.3s remaining:    0.0s\n",
      "[Parallel(n_jobs=1)]: Done  81 out of  81 | elapsed:  8.3min finished\n",
      "\n",
      "[2020-06-19 00:02:23] Features: 6/15 -- score: 0.8537699587042812[Parallel(n_jobs=1)]: Using backend SequentialBackend with 1 concurrent workers.\n",
      "[Parallel(n_jobs=1)]: Done   1 out of   1 | elapsed:    6.9s remaining:    0.0s\n",
      "[Parallel(n_jobs=1)]: Done  80 out of  80 | elapsed:  9.4min finished\n",
      "\n",
      "[2020-06-19 00:11:45] Features: 7/15 -- score: 0.8970430099046565[Parallel(n_jobs=1)]: Using backend SequentialBackend with 1 concurrent workers.\n",
      "[Parallel(n_jobs=1)]: Done   1 out of   1 | elapsed:    8.1s remaining:    0.0s\n",
      "[Parallel(n_jobs=1)]: Done  79 out of  79 | elapsed: 11.1min finished\n",
      "\n",
      "[2020-06-19 00:22:51] Features: 8/15 -- score: 0.9235065883303801[Parallel(n_jobs=1)]: Using backend SequentialBackend with 1 concurrent workers.\n",
      "[Parallel(n_jobs=1)]: Done   1 out of   1 | elapsed:   10.9s remaining:    0.0s\n",
      "[Parallel(n_jobs=1)]: Done  78 out of  78 | elapsed: 14.5min finished\n",
      "\n",
      "[2020-06-19 00:37:22] Features: 9/15 -- score: 0.9370181956756694[Parallel(n_jobs=1)]: Using backend SequentialBackend with 1 concurrent workers.\n",
      "[Parallel(n_jobs=1)]: Done   1 out of   1 | elapsed:   11.1s remaining:    0.0s\n",
      "[Parallel(n_jobs=1)]: Done  77 out of  77 | elapsed: 14.6min finished\n",
      "\n",
      "[2020-06-19 00:51:59] Features: 10/15 -- score: 0.9461304506563893[Parallel(n_jobs=1)]: Using backend SequentialBackend with 1 concurrent workers.\n",
      "[Parallel(n_jobs=1)]: Done   1 out of   1 | elapsed:   12.2s remaining:    0.0s\n",
      "[Parallel(n_jobs=1)]: Done  76 out of  76 | elapsed: 19.5min finished\n",
      "\n",
      "[2020-06-19 01:11:30] Features: 11/15 -- score: 0.9510639166531227[Parallel(n_jobs=1)]: Using backend SequentialBackend with 1 concurrent workers.\n",
      "[Parallel(n_jobs=1)]: Done   1 out of   1 | elapsed:   16.0s remaining:    0.0s\n",
      "[Parallel(n_jobs=1)]: Done  75 out of  75 | elapsed: 20.0min finished\n",
      "\n",
      "[2020-06-19 01:31:29] Features: 12/15 -- score: 0.9539550047547911[Parallel(n_jobs=1)]: Using backend SequentialBackend with 1 concurrent workers.\n",
      "[Parallel(n_jobs=1)]: Done   1 out of   1 | elapsed:   15.4s remaining:    0.0s\n",
      "[Parallel(n_jobs=1)]: Done  74 out of  74 | elapsed: 16.0min finished\n",
      "\n",
      "[2020-06-19 01:47:32] Features: 13/15 -- score: 0.9584529025567805[Parallel(n_jobs=1)]: Using backend SequentialBackend with 1 concurrent workers.\n",
      "[Parallel(n_jobs=1)]: Done   1 out of   1 | elapsed:   12.2s remaining:    0.0s\n",
      "[Parallel(n_jobs=1)]: Done  73 out of  73 | elapsed: 15.1min finished\n",
      "\n",
      "[2020-06-19 02:02:37] Features: 14/15 -- score: 0.9592630079849682[Parallel(n_jobs=1)]: Using backend SequentialBackend with 1 concurrent workers.\n",
      "[Parallel(n_jobs=1)]: Done   1 out of   1 | elapsed:   12.6s remaining:    0.0s\n",
      "[Parallel(n_jobs=1)]: Done  72 out of  72 | elapsed: 15.3min finished\n",
      "\n",
      "[2020-06-19 02:17:58] Features: 15/15 -- score: 0.9607675259642493"
     ]
    }
   ],
   "source": [
    "feature_selector = SequentialFeatureSelector(RandomForestClassifier(n_jobs=1),\n",
    "           k_features=15,\n",
    "           forward=True,\n",
    "           verbose=2,\n",
    "           scoring='roc_auc',\n",
    "           cv=4)\n",
    "features = feature_selector.fit(np.array(X_train.fillna(0)), y_train)\n"
   ]
  },
  {
   "cell_type": "code",
   "execution_count": 7,
   "metadata": {},
   "outputs": [
    {
     "name": "stdout",
     "output_type": "stream",
     "text": [
      "Index(['Cataclysm Raid', 'Character', 'Currencies', 'Dungeons & Raids',\n",
      "       'Events', 'General', 'Guild Feats of Strength', 'Heart of Azeroth',\n",
      "       'Honor', 'Legion', 'Lich King Raid', 'Northrend', 'Professions',\n",
      "       'Reputation', 'Wrath of the Lich King'],\n",
      "      dtype='object')\n"
     ]
    }
   ],
   "source": [
    "filtered_features = X_train.columns[list(features.k_feature_idx_)]\n",
    "print(filtered_features)"
   ]
  },
  {
   "cell_type": "code",
   "execution_count": 8,
   "metadata": {},
   "outputs": [
    {
     "data": {
      "text/plain": [
       "RandomForestClassifier(max_depth=3, random_state=17)"
      ]
     },
     "execution_count": 8,
     "metadata": {},
     "output_type": "execute_result"
    }
   ],
   "source": [
    "clf = RandomForestClassifier(n_estimators=100, random_state=17, max_depth=3)\n",
    "clf.fit(X_train[filtered_features], y_train)\n"
   ]
  },
  {
   "cell_type": "code",
   "execution_count": 9,
   "metadata": {},
   "outputs": [
    {
     "name": "stdout",
     "output_type": "stream",
     "text": [
      "Accuracy on training set: 0.8914431887695774\n",
      "Accuracy on test set: 0.8910004372217928\n"
     ]
    }
   ],
   "source": [
    "train_pred = clf.predict_proba(X_train[filtered_features])\n",
    "\n",
    "print('Accuracy on training set: {}'.format(roc_auc_score(y_train, train_pred[:,1])))\n",
    "\n",
    "test_pred = clf.predict_proba(X_test[filtered_features].fillna(0))\n",
    "print('Accuracy on test set: {}'.format(roc_auc_score(y_test, test_pred [:,1])))"
   ]
  },
  {
   "cell_type": "code",
   "execution_count": null,
   "metadata": {},
   "outputs": [],
   "source": []
  }
 ],
 "metadata": {
  "kernelspec": {
   "display_name": "ins_env",
   "language": "python",
   "name": "ins_env"
  },
  "language_info": {
   "codemirror_mode": {
    "name": "ipython",
    "version": 3
   },
   "file_extension": ".py",
   "mimetype": "text/x-python",
   "name": "python",
   "nbconvert_exporter": "python",
   "pygments_lexer": "ipython3",
   "version": "3.7.7"
  }
 },
 "nbformat": 4,
 "nbformat_minor": 4
}

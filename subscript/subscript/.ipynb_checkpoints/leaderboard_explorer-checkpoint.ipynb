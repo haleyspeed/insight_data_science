{
 "cells": [
  {
   "cell_type": "markdown",
   "metadata": {},
   "source": [
    "# SubScript Leaderboard Explorer"
   ]
  },
  {
   "cell_type": "markdown",
   "metadata": {},
   "source": [
    "1. Explore the leaderboard data\n",
    "2. Use clustering to determine the core users of the service based on their activity\n",
    "3. Find out which activities are most salient for each cluster"
   ]
  },
  {
   "cell_type": "markdown",
   "metadata": {},
   "source": [
    "## Dependencies and Defaults"
   ]
  },
  {
   "cell_type": "code",
   "execution_count": 1,
   "metadata": {},
   "outputs": [],
   "source": [
    "import config\n",
    "import pandas as pd\n",
    "import numpy as np\n",
    "import os"
   ]
  },
  {
   "cell_type": "code",
   "execution_count": 2,
   "metadata": {},
   "outputs": [],
   "source": [
    "dir_home = config.home_dir\n",
    "dir_clean = config.clean_dir\n",
    "dir_processed = config.processed_dir\n",
    "dir_raw = config.raw_dir\n",
    "f_in = 'leaderboard_stats.csv'\n",
    "f_dfa = 'dataforazeroth_complete_dataset.csv'\n",
    "path_in = os.path.join(dir_processed, f_in) # leaderboard_player_stats\n",
    "path_in2 = os.path.join(dir_raw, f_dfa) # leaderboard_players"
   ]
  },
  {
   "cell_type": "markdown",
   "metadata": {},
   "source": [
    "## Clean Leaderboard Player Data"
   ]
  },
  {
   "cell_type": "code",
   "execution_count": 3,
   "metadata": {},
   "outputs": [],
   "source": [
    "df_ps = pd.read_csv(path_in) # Load in the leaderboard_player_stats\n",
    "df_dfa = pd.read_csv(path_in2) # load in the leaderboard_stats\n",
    "df_ps['id'] = df_ps.player + '_' + df_ps.realm\n",
    "df_dfa['id'] = ''\n",
    "df_dfa['id'] = df_dfa.player + '_' + df_dfa.realm \n",
    "df_ps = df_ps.fillna(0) # NA is equivalent to 0 for all columns (player has not attempted or completed)\n",
    "for index,row in df_dfa.iterrows(): # Format player and realm with lowercase and no special chars\n",
    "    if isinstance(row.player, str):\n",
    "        df_dfa.at[index,'player'] = row.player.lower()\n",
    "    if isinstance(row.realm, str):\n",
    "        df_dfa.at[index,'realm'] = row.realm.replace('US-', '').replace(\"'\", '').lower()\n",
    "        df_dfa.at[index,'id'] = df_dfa.loc[index,'player'] + '_' + df_dfa.loc[index,'realm']"
   ]
  },
  {
   "cell_type": "code",
   "execution_count": 4,
   "metadata": {},
   "outputs": [],
   "source": [
    "df_dfa = df_dfa.set_index('id')\n",
    "df_ps['leaderboard'] = ''\n",
    "for index, row in df_ps.iterrows(): # Add leaderboards to player stats\n",
    "    df_ps.at[index, 'leaderboard'] = df_dfa[df_dfa.index == row.id].leaderboard.values"
   ]
  },
  {
   "cell_type": "code",
   "execution_count": 5,
   "metadata": {},
   "outputs": [],
   "source": [
    "cols = [col for col in df_ps.columns if 'Unnamed' not in col] # Remove unnamed columns (former indexes)\n",
    "df_ps = df_ps[cols]"
   ]
  },
  {
   "cell_type": "code",
   "execution_count": 6,
   "metadata": {},
   "outputs": [],
   "source": [
    "df_ps.to_csv(os.path.join(dir_clean, 'cleaned_leaderboard_player_stats.csv'))\n",
    "df_dfa.to_csv(os.path.join(dir_clean, 'cleaned_leaderboard_players.csv'))"
   ]
  },
  {
   "cell_type": "markdown",
   "metadata": {},
   "source": [
    "## Describe the Leaderboard Player Stats Dataframe"
   ]
  },
  {
   "cell_type": "code",
   "execution_count": 7,
   "metadata": {},
   "outputs": [
    {
     "name": "stdout",
     "output_type": "stream",
     "text": [
      "<class 'pandas.core.frame.DataFrame'>\n",
      "RangeIndex: 15983 entries, 0 to 15982\n",
      "Columns: 5148 entries, 10 to leaderboard\n",
      "dtypes: float64(5140), object(8)\n",
      "memory usage: 627.8+ MB\n"
     ]
    }
   ],
   "source": [
    "df_ps.info()"
   ]
  },
  {
   "cell_type": "code",
   "execution_count": 8,
   "metadata": {},
   "outputs": [
    {
     "data": {
      "text/html": [
       "<div>\n",
       "<style scoped>\n",
       "    .dataframe tbody tr th:only-of-type {\n",
       "        vertical-align: middle;\n",
       "    }\n",
       "\n",
       "    .dataframe tbody tr th {\n",
       "        vertical-align: top;\n",
       "    }\n",
       "\n",
       "    .dataframe thead th {\n",
       "        text-align: right;\n",
       "    }\n",
       "</style>\n",
       "<table border=\"1\" class=\"dataframe\">\n",
       "  <thead>\n",
       "    <tr style=\"text-align: right;\">\n",
       "      <th></th>\n",
       "      <th>10</th>\n",
       "      <th>10000</th>\n",
       "      <th>10001</th>\n",
       "      <th>10010</th>\n",
       "      <th>10011</th>\n",
       "      <th>10012</th>\n",
       "      <th>10013</th>\n",
       "      <th>10015</th>\n",
       "      <th>10016</th>\n",
       "      <th>10017</th>\n",
       "      <th>...</th>\n",
       "      <th>9998</th>\n",
       "      <th>completed_quests</th>\n",
       "      <th>guild_rank</th>\n",
       "      <th>honor_level</th>\n",
       "      <th>level</th>\n",
       "      <th>mounts_collected</th>\n",
       "      <th>pets_collected</th>\n",
       "      <th>realm_id</th>\n",
       "      <th>total_achievement_points</th>\n",
       "      <th>total_achievements</th>\n",
       "    </tr>\n",
       "  </thead>\n",
       "  <tbody>\n",
       "    <tr>\n",
       "      <th>count</th>\n",
       "      <td>15983.000000</td>\n",
       "      <td>15983.0</td>\n",
       "      <td>15983.0</td>\n",
       "      <td>15983.000000</td>\n",
       "      <td>15983.000000</td>\n",
       "      <td>15983.000000</td>\n",
       "      <td>15983.000000</td>\n",
       "      <td>15983.000000</td>\n",
       "      <td>15983.000000</td>\n",
       "      <td>15983.000000</td>\n",
       "      <td>...</td>\n",
       "      <td>15983.0</td>\n",
       "      <td>15983.000000</td>\n",
       "      <td>1.598300e+04</td>\n",
       "      <td>15983.000000</td>\n",
       "      <td>15983.000000</td>\n",
       "      <td>15983.000000</td>\n",
       "      <td>15983.000000</td>\n",
       "      <td>15983.0</td>\n",
       "      <td>15983.000000</td>\n",
       "      <td>15983.000000</td>\n",
       "    </tr>\n",
       "    <tr>\n",
       "      <th>mean</th>\n",
       "      <td>0.994557</td>\n",
       "      <td>0.0</td>\n",
       "      <td>0.0</td>\n",
       "      <td>0.850716</td>\n",
       "      <td>0.848839</td>\n",
       "      <td>0.643684</td>\n",
       "      <td>0.749296</td>\n",
       "      <td>0.365764</td>\n",
       "      <td>0.416943</td>\n",
       "      <td>0.715135</td>\n",
       "      <td>...</td>\n",
       "      <td>0.0</td>\n",
       "      <td>6423.620096</td>\n",
       "      <td>1.319898e+08</td>\n",
       "      <td>136.499030</td>\n",
       "      <td>118.252080</td>\n",
       "      <td>488.479384</td>\n",
       "      <td>1073.709754</td>\n",
       "      <td>0.0</td>\n",
       "      <td>26060.873115</td>\n",
       "      <td>2997.514734</td>\n",
       "    </tr>\n",
       "    <tr>\n",
       "      <th>std</th>\n",
       "      <td>0.073580</td>\n",
       "      <td>0.0</td>\n",
       "      <td>0.0</td>\n",
       "      <td>0.356379</td>\n",
       "      <td>0.358217</td>\n",
       "      <td>0.478925</td>\n",
       "      <td>0.433432</td>\n",
       "      <td>0.481659</td>\n",
       "      <td>0.493069</td>\n",
       "      <td>0.451364</td>\n",
       "      <td>...</td>\n",
       "      <td>0.0</td>\n",
       "      <td>3617.390640</td>\n",
       "      <td>5.395812e+07</td>\n",
       "      <td>126.389915</td>\n",
       "      <td>10.918314</td>\n",
       "      <td>154.108984</td>\n",
       "      <td>447.911069</td>\n",
       "      <td>0.0</td>\n",
       "      <td>5920.919793</td>\n",
       "      <td>706.624994</td>\n",
       "    </tr>\n",
       "    <tr>\n",
       "      <th>min</th>\n",
       "      <td>0.000000</td>\n",
       "      <td>0.0</td>\n",
       "      <td>0.0</td>\n",
       "      <td>0.000000</td>\n",
       "      <td>0.000000</td>\n",
       "      <td>0.000000</td>\n",
       "      <td>0.000000</td>\n",
       "      <td>0.000000</td>\n",
       "      <td>0.000000</td>\n",
       "      <td>0.000000</td>\n",
       "      <td>...</td>\n",
       "      <td>0.0</td>\n",
       "      <td>0.000000</td>\n",
       "      <td>1.818800e+04</td>\n",
       "      <td>0.000000</td>\n",
       "      <td>10.000000</td>\n",
       "      <td>0.000000</td>\n",
       "      <td>0.000000</td>\n",
       "      <td>0.0</td>\n",
       "      <td>2695.000000</td>\n",
       "      <td>349.000000</td>\n",
       "    </tr>\n",
       "    <tr>\n",
       "      <th>25%</th>\n",
       "      <td>1.000000</td>\n",
       "      <td>0.0</td>\n",
       "      <td>0.0</td>\n",
       "      <td>1.000000</td>\n",
       "      <td>1.000000</td>\n",
       "      <td>0.000000</td>\n",
       "      <td>0.000000</td>\n",
       "      <td>0.000000</td>\n",
       "      <td>0.000000</td>\n",
       "      <td>0.000000</td>\n",
       "      <td>...</td>\n",
       "      <td>0.0</td>\n",
       "      <td>3000.000000</td>\n",
       "      <td>1.068713e+08</td>\n",
       "      <td>40.000000</td>\n",
       "      <td>120.000000</td>\n",
       "      <td>393.000000</td>\n",
       "      <td>746.500000</td>\n",
       "      <td>0.0</td>\n",
       "      <td>22290.000000</td>\n",
       "      <td>2537.000000</td>\n",
       "    </tr>\n",
       "    <tr>\n",
       "      <th>50%</th>\n",
       "      <td>1.000000</td>\n",
       "      <td>0.0</td>\n",
       "      <td>0.0</td>\n",
       "      <td>1.000000</td>\n",
       "      <td>1.000000</td>\n",
       "      <td>1.000000</td>\n",
       "      <td>1.000000</td>\n",
       "      <td>0.000000</td>\n",
       "      <td>0.000000</td>\n",
       "      <td>1.000000</td>\n",
       "      <td>...</td>\n",
       "      <td>0.0</td>\n",
       "      <td>7425.000000</td>\n",
       "      <td>1.390488e+08</td>\n",
       "      <td>105.000000</td>\n",
       "      <td>120.000000</td>\n",
       "      <td>532.000000</td>\n",
       "      <td>1215.000000</td>\n",
       "      <td>0.0</td>\n",
       "      <td>27490.000000</td>\n",
       "      <td>3152.000000</td>\n",
       "    </tr>\n",
       "    <tr>\n",
       "      <th>75%</th>\n",
       "      <td>1.000000</td>\n",
       "      <td>0.0</td>\n",
       "      <td>0.0</td>\n",
       "      <td>1.000000</td>\n",
       "      <td>1.000000</td>\n",
       "      <td>1.000000</td>\n",
       "      <td>1.000000</td>\n",
       "      <td>1.000000</td>\n",
       "      <td>1.000000</td>\n",
       "      <td>1.000000</td>\n",
       "      <td>...</td>\n",
       "      <td>0.0</td>\n",
       "      <td>9850.000000</td>\n",
       "      <td>1.744264e+08</td>\n",
       "      <td>192.000000</td>\n",
       "      <td>120.000000</td>\n",
       "      <td>605.000000</td>\n",
       "      <td>1379.000000</td>\n",
       "      <td>0.0</td>\n",
       "      <td>31055.000000</td>\n",
       "      <td>3593.000000</td>\n",
       "    </tr>\n",
       "    <tr>\n",
       "      <th>max</th>\n",
       "      <td>1.000000</td>\n",
       "      <td>0.0</td>\n",
       "      <td>0.0</td>\n",
       "      <td>1.000000</td>\n",
       "      <td>1.000000</td>\n",
       "      <td>1.000000</td>\n",
       "      <td>1.000000</td>\n",
       "      <td>1.000000</td>\n",
       "      <td>1.000000</td>\n",
       "      <td>1.000000</td>\n",
       "      <td>...</td>\n",
       "      <td>0.0</td>\n",
       "      <td>10938.000000</td>\n",
       "      <td>2.126883e+08</td>\n",
       "      <td>1139.000000</td>\n",
       "      <td>120.000000</td>\n",
       "      <td>718.000000</td>\n",
       "      <td>2018.000000</td>\n",
       "      <td>0.0</td>\n",
       "      <td>33585.000000</td>\n",
       "      <td>4033.000000</td>\n",
       "    </tr>\n",
       "  </tbody>\n",
       "</table>\n",
       "<p>8 rows × 5140 columns</p>\n",
       "</div>"
      ],
      "text/plain": [
       "                 10    10000    10001         10010         10011  \\\n",
       "count  15983.000000  15983.0  15983.0  15983.000000  15983.000000   \n",
       "mean       0.994557      0.0      0.0      0.850716      0.848839   \n",
       "std        0.073580      0.0      0.0      0.356379      0.358217   \n",
       "min        0.000000      0.0      0.0      0.000000      0.000000   \n",
       "25%        1.000000      0.0      0.0      1.000000      1.000000   \n",
       "50%        1.000000      0.0      0.0      1.000000      1.000000   \n",
       "75%        1.000000      0.0      0.0      1.000000      1.000000   \n",
       "max        1.000000      0.0      0.0      1.000000      1.000000   \n",
       "\n",
       "              10012         10013         10015         10016         10017  \\\n",
       "count  15983.000000  15983.000000  15983.000000  15983.000000  15983.000000   \n",
       "mean       0.643684      0.749296      0.365764      0.416943      0.715135   \n",
       "std        0.478925      0.433432      0.481659      0.493069      0.451364   \n",
       "min        0.000000      0.000000      0.000000      0.000000      0.000000   \n",
       "25%        0.000000      0.000000      0.000000      0.000000      0.000000   \n",
       "50%        1.000000      1.000000      0.000000      0.000000      1.000000   \n",
       "75%        1.000000      1.000000      1.000000      1.000000      1.000000   \n",
       "max        1.000000      1.000000      1.000000      1.000000      1.000000   \n",
       "\n",
       "       ...     9998  completed_quests    guild_rank   honor_level  \\\n",
       "count  ...  15983.0      15983.000000  1.598300e+04  15983.000000   \n",
       "mean   ...      0.0       6423.620096  1.319898e+08    136.499030   \n",
       "std    ...      0.0       3617.390640  5.395812e+07    126.389915   \n",
       "min    ...      0.0          0.000000  1.818800e+04      0.000000   \n",
       "25%    ...      0.0       3000.000000  1.068713e+08     40.000000   \n",
       "50%    ...      0.0       7425.000000  1.390488e+08    105.000000   \n",
       "75%    ...      0.0       9850.000000  1.744264e+08    192.000000   \n",
       "max    ...      0.0      10938.000000  2.126883e+08   1139.000000   \n",
       "\n",
       "              level  mounts_collected  pets_collected  realm_id  \\\n",
       "count  15983.000000      15983.000000    15983.000000   15983.0   \n",
       "mean     118.252080        488.479384     1073.709754       0.0   \n",
       "std       10.918314        154.108984      447.911069       0.0   \n",
       "min       10.000000          0.000000        0.000000       0.0   \n",
       "25%      120.000000        393.000000      746.500000       0.0   \n",
       "50%      120.000000        532.000000     1215.000000       0.0   \n",
       "75%      120.000000        605.000000     1379.000000       0.0   \n",
       "max      120.000000        718.000000     2018.000000       0.0   \n",
       "\n",
       "       total_achievement_points  total_achievements  \n",
       "count              15983.000000        15983.000000  \n",
       "mean               26060.873115         2997.514734  \n",
       "std                 5920.919793          706.624994  \n",
       "min                 2695.000000          349.000000  \n",
       "25%                22290.000000         2537.000000  \n",
       "50%                27490.000000         3152.000000  \n",
       "75%                31055.000000         3593.000000  \n",
       "max                33585.000000         4033.000000  \n",
       "\n",
       "[8 rows x 5140 columns]"
      ]
     },
     "execution_count": 8,
     "metadata": {},
     "output_type": "execute_result"
    }
   ],
   "source": [
    "df_ps.describe()"
   ]
  },
  {
   "cell_type": "markdown",
   "metadata": {},
   "source": [
    "## Transform leaderboard player stats reducing dataset to categories"
   ]
  },
  {
   "cell_type": "markdown",
   "metadata": {},
   "source": [
    "#### Make a new dataframe with categories instead of individual achievements"
   ]
  },
  {
   "cell_type": "code",
   "execution_count": 9,
   "metadata": {},
   "outputs": [],
   "source": [
    "import custom_funcs as cf\n",
    "\n",
    "\n",
    "# base_cols contains leaderboard player stats columns without achievements\n",
    "base_cols = ['leaderboard','level', 'guild_rank','player', 'id', 'realm', 'realm_id', \n",
    "        'playable_race', 'playable_class', 'faction', 'guild_name', 'completed_quests',\n",
    "        'honor_level','mounts_collected','pets_collected','total_achievement_points',\n",
    "        'total_achievements']\n",
    "\n",
    "# import a list of achievement categories\n",
    "df_cat = pd.read_csv(os.path.join(dir_raw, 'wow_achievement_categories.csv'))\n",
    "category_cols = list(df_cat.id.values.astype(int).astype(str))\n",
    "engineered_cols = base_cols + category_cols"
   ]
  },
  {
   "cell_type": "markdown",
   "metadata": {},
   "source": [
    "#### Get category for each achievement (create from scratch)"
   ]
  },
  {
   "cell_type": "code",
   "execution_count": 12,
   "metadata": {
    "scrolled": false
   },
   "outputs": [
    {
     "name": "stdout",
     "output_type": "stream",
     "text": [
      "unpacked['criteria']['name'] does not exist\n"
     ]
    }
   ],
   "source": [
    "ach_ids = df_ps.columns.difference(base_cols) # Keeps only the numeric achievement_id Columns\n",
    "df_ach = pd.DataFrame() # New dataframe for the achievement list\n",
    "for ach in ach_ids:\n",
    "    results = cf.get_wow_achievement(ach)\n",
    "df_ach.category_id = df_ach.category_id.astype(int).astype(str)\n",
    "df_ach.achievement_id = df_ach.achievement_id.astype(int).astype(str)\n",
    "df_ach.to_csv(os.path.join(dir_clean, 'achievement_details_list.csv'))\n"
   ]
  },
  {
   "cell_type": "markdown",
   "metadata": {},
   "source": [
    "#### Load from previously created category file"
   ]
  },
  {
   "cell_type": "code",
   "execution_count": 13,
   "metadata": {},
   "outputs": [
    {
     "data": {
      "text/html": [
       "<div>\n",
       "<style scoped>\n",
       "    .dataframe tbody tr th:only-of-type {\n",
       "        vertical-align: middle;\n",
       "    }\n",
       "\n",
       "    .dataframe tbody tr th {\n",
       "        vertical-align: top;\n",
       "    }\n",
       "\n",
       "    .dataframe thead th {\n",
       "        text-align: right;\n",
       "    }\n",
       "</style>\n",
       "<table border=\"1\" class=\"dataframe\">\n",
       "  <thead>\n",
       "    <tr style=\"text-align: right;\">\n",
       "      <th></th>\n",
       "      <th>Unnamed: 0</th>\n",
       "      <th>achievement_id</th>\n",
       "      <th>achievement_name</th>\n",
       "      <th>category_id</th>\n",
       "      <th>category_name</th>\n",
       "      <th>criteria_id</th>\n",
       "      <th>criteria_name</th>\n",
       "      <th>next_id</th>\n",
       "      <th>next_name</th>\n",
       "    </tr>\n",
       "  </thead>\n",
       "  <tbody>\n",
       "    <tr>\n",
       "      <th>0</th>\n",
       "      <td>0</td>\n",
       "      <td>10</td>\n",
       "      <td>Level 50</td>\n",
       "      <td>92</td>\n",
       "      <td>Character</td>\n",
       "      <td>2053.0</td>\n",
       "      <td>NaN</td>\n",
       "      <td>11.0</td>\n",
       "      <td>Level 60</td>\n",
       "    </tr>\n",
       "    <tr>\n",
       "      <th>1</th>\n",
       "      <td>1</td>\n",
       "      <td>10000</td>\n",
       "      <td>Guardian of the Horde: Warlords Season 1</td>\n",
       "      <td>15270</td>\n",
       "      <td>Player vs. Player</td>\n",
       "      <td>NaN</td>\n",
       "      <td>NaN</td>\n",
       "      <td>NaN</td>\n",
       "      <td>NaN</td>\n",
       "    </tr>\n",
       "    <tr>\n",
       "      <th>2</th>\n",
       "      <td>2</td>\n",
       "      <td>10001</td>\n",
       "      <td>Defender of the Horde: Warlords Season 1</td>\n",
       "      <td>15270</td>\n",
       "      <td>Player vs. Player</td>\n",
       "      <td>NaN</td>\n",
       "      <td>NaN</td>\n",
       "      <td>NaN</td>\n",
       "      <td>NaN</td>\n",
       "    </tr>\n",
       "    <tr>\n",
       "      <th>3</th>\n",
       "      <td>3</td>\n",
       "      <td>10010</td>\n",
       "      <td>Gate of the Setting Sun</td>\n",
       "      <td>15106</td>\n",
       "      <td>Pandaria Dungeon</td>\n",
       "      <td>43685.0</td>\n",
       "      <td>NaN</td>\n",
       "      <td>6759.0</td>\n",
       "      <td>Heroic: Gate of the Setting Sun</td>\n",
       "    </tr>\n",
       "    <tr>\n",
       "      <th>4</th>\n",
       "      <td>4</td>\n",
       "      <td>10011</td>\n",
       "      <td>Siege of Niuzao Temple</td>\n",
       "      <td>15106</td>\n",
       "      <td>Pandaria Dungeon</td>\n",
       "      <td>43688.0</td>\n",
       "      <td>NaN</td>\n",
       "      <td>6763.0</td>\n",
       "      <td>Heroic: Siege of Niuzao Temple</td>\n",
       "    </tr>\n",
       "  </tbody>\n",
       "</table>\n",
       "</div>"
      ],
      "text/plain": [
       "   Unnamed: 0  achievement_id                          achievement_name  \\\n",
       "0           0              10                                  Level 50   \n",
       "1           1           10000  Guardian of the Horde: Warlords Season 1   \n",
       "2           2           10001  Defender of the Horde: Warlords Season 1   \n",
       "3           3           10010                   Gate of the Setting Sun   \n",
       "4           4           10011                    Siege of Niuzao Temple   \n",
       "\n",
       "   category_id      category_name  criteria_id  criteria_name  next_id  \\\n",
       "0           92          Character       2053.0            NaN     11.0   \n",
       "1        15270  Player vs. Player          NaN            NaN      NaN   \n",
       "2        15270  Player vs. Player          NaN            NaN      NaN   \n",
       "3        15106   Pandaria Dungeon      43685.0            NaN   6759.0   \n",
       "4        15106   Pandaria Dungeon      43688.0            NaN   6763.0   \n",
       "\n",
       "                         next_name  \n",
       "0                         Level 60  \n",
       "1                              NaN  \n",
       "2                              NaN  \n",
       "3  Heroic: Gate of the Setting Sun  \n",
       "4   Heroic: Siege of Niuzao Temple  "
      ]
     },
     "execution_count": 13,
     "metadata": {},
     "output_type": "execute_result"
    }
   ],
   "source": [
    "df_ach = pd.read_csv(os.path.join(dir_clean, 'achievement_details_list.csv'))\n",
    "df_ach.head()"
   ]
  },
  {
   "cell_type": "markdown",
   "metadata": {},
   "source": [
    "#### Go through leaderboard player stats and tally achievements by category"
   ]
  },
  {
   "cell_type": "code",
   "execution_count": null,
   "metadata": {},
   "outputs": [],
   "source": [
    "# Make a new, empty dataframe with player info and achievement categories\n",
    "df_ps_cat = pd.DataFrame(columns=engineered_cols)\n",
    "i = 0\n",
    "for index, row in df_ps.iterrows():\n",
    "    print(i, end = ' ')\n",
    "    tmp = dict.fromkeys(engineered_cols,0) # Achieve cols should be numbers, default value = 0\n",
    "    for base_col in base_cols:\n",
    "        tmp[base_col] = row[base_col]  # Copy basic player information from the df_ps dataset\n",
    "    for col in ach_ids:  # Add category_id as columns instead of achievement_id\n",
    "        if row[col] == 1:\n",
    "            category_id = df_ach.loc[df_ach.achievement_id == col].category_id.values[0]\n",
    "            tmp[category_id] = tmp[category_id] + 1  # Tallies the number of achievements completed in a category\n",
    "    df_ps_cat = df_ps_cat.append(tmp, ignore_index = True)  \n",
    "    i = i +1"
   ]
  },
  {
   "cell_type": "code",
   "execution_count": null,
   "metadata": {},
   "outputs": [],
   "source": [
    "df_ps_cat['15106']"
   ]
  },
  {
   "cell_type": "markdown",
   "metadata": {},
   "source": [
    "## Create Chain Content"
   ]
  },
  {
   "cell_type": "code",
   "execution_count": null,
   "metadata": {},
   "outputs": [],
   "source": [
    "df_ach = df_ach.sort_values(by = ['criteria_id']) # Sort by criteria\n",
    "df_chain = pd.DataFrame()\n",
    "for index, row in df_ach.iterrows():\n",
    "    if row.criteria == '': # If no criteria\n",
    "        chain = []\n",
    "        if row.next_id != '': # Is there a next_id?\n",
    "            chain.append(row.achievement_id) # First step in the chain\n",
    "            next_id = row.next_id # Next step in the chain\n",
    "            end_reached = False  # Stop/Start variable for while loop\n",
    "            while end_reached == False: # If yes, repeat with the next id\n",
    "                chain.append(next_id) # Add the next achievement ID to the list\n",
    "                next_id = df_ach[df_ach.achievement_id == next_id].next_id # Find next achievement after that\n",
    "                if next_id == '': # If blank, it's the end of the chain\n",
    "                    end_reached = True # exit the loop\n",
    "        df_chain['chain_' + row.achievement_id] = chain # Add the achievement chain as a column in a new df"
   ]
  },
  {
   "cell_type": "code",
   "execution_count": null,
   "metadata": {},
   "outputs": [],
   "source": [
    "df_chain.to_csv(os.path.join(dir_clean, 'achievement_chains.csv'))\n",
    "df_chain.head()"
   ]
  },
  {
   "cell_type": "markdown",
   "metadata": {},
   "source": [
    "## DBSCAN Clustering"
   ]
  },
  {
   "cell_type": "markdown",
   "metadata": {},
   "source": [
    "#### Remove non-numeric columns "
   ]
  },
  {
   "cell_type": "code",
   "execution_count": null,
   "metadata": {},
   "outputs": [],
   "source": [
    "str_cols = ['leaderboard','level', 'guild_rank','player', 'id', 'realm', 'realm_id', 'playable_race', 'playable_class', 'faction', 'guild_name']\n",
    "try:\n",
    "    df_dbscan = df_ps.drop(str_cols, axis = 1)\n",
    "except:\n",
    "    pass"
   ]
  },
  {
   "cell_type": "code",
   "execution_count": null,
   "metadata": {},
   "outputs": [],
   "source": [
    "df_dbscan"
   ]
  },
  {
   "cell_type": "markdown",
   "metadata": {},
   "source": [
    "#### Run the DBSCAN clustering"
   ]
  },
  {
   "cell_type": "code",
   "execution_count": null,
   "metadata": {},
   "outputs": [],
   "source": [
    "from sklearn.cluster import DBSCAN\n",
    "from sklearn import metrics\n",
    "\n",
    "# Compute DBSCAN\n",
    "db = DBSCAN(eps=4, min_samples=10).fit(df_dbscan)\n",
    "core_samples_mask = np.zeros_like(db.labels_, dtype=bool)\n",
    "core_samples_mask[db.core_sample_indices_] = True\n",
    "labels = db.labels_\n",
    "\n",
    "# Number of clusters in labels, ignoring noise if present.\n",
    "n_clusters_ = len(set(labels)) - (1 if -1 in labels else 0)\n",
    "n_noise_ = list(labels).count(-1)\n",
    "\n",
    "print(n_clusters_)\n"
   ]
  },
  {
   "cell_type": "markdown",
   "metadata": {},
   "source": [
    "#### Print the results of the clustering"
   ]
  },
  {
   "cell_type": "code",
   "execution_count": null,
   "metadata": {},
   "outputs": [],
   "source": [
    "# Plot result\n",
    "import matplotlib.pyplot as plt\n",
    "\n",
    "# Black removed and is used for noise instead.\n",
    "unique_labels = set(labels)\n",
    "colors = [plt.cm.Spectral(each)\n",
    "          for each in np.linspace(0, 1, len(unique_labels))]\n",
    "for k, col in zip(unique_labels, colors):\n",
    "    if k == -1:\n",
    "        # Black used for noise.\n",
    "        col = [0, 0, 0, 1]\n",
    "\n",
    "    class_member_mask = (labels == k)\n",
    "\n",
    "    xy = df_dbscan[class_member_mask & core_samples_mask]\n",
    "    plt.plot(xy.iloc[:, 0], xy.iloc[:, 1], 'o', markerfacecolor=tuple(col),\n",
    "             markeredgecolor='k', markersize=14)\n",
    "\n",
    "    xy = df_dbscan[class_member_mask & ~core_samples_mask]\n",
    "    plt.plot(xy.iloc[:, 0], xy.iloc[:, 1], 'o', markerfacecolor=tuple(col),\n",
    "             markeredgecolor='k', markersize=6)\n",
    "\n",
    "plt.title('Estimated number of clusters: %d' % n_clusters_)\n",
    "plt.show()"
   ]
  },
  {
   "cell_type": "markdown",
   "metadata": {},
   "source": [
    "Did not work because of binary data\n",
    "\n",
    "Categorizaing data first based on achievement categories"
   ]
  },
  {
   "cell_type": "markdown",
   "metadata": {},
   "source": [
    "#### Trying again with only a few non-categorical columns"
   ]
  },
  {
   "cell_type": "code",
   "execution_count": null,
   "metadata": {},
   "outputs": [],
   "source": [
    "df_dbscan2 = df_ps[['completed_quests','honor_level','level','mounts_collected','pets_collected','total_achievement_points','total_achievements']]\n",
    "\n",
    "#Normalizing the data\n",
    "df_dbscan2.completed_quests = df_dbscan2.completed_quests.div(1000)\n",
    "df_dbscan2.honor_level = df_dbscan2.honor_level.div(100)\n",
    "df_dbscan2.mounts_collected = df_dbscan2.mounts_collected.div(100)\n",
    "df_dbscan2.pets_collected = df_dbscan2.pets_collected.div(1000)\n",
    "df_dbscan2.total_achievement_points = df_dbscan2.total_achievement_points.div(10000) \n",
    "df_dbscan2.total_achievements = df_dbscan2.total_achievements.div(1000)"
   ]
  },
  {
   "cell_type": "code",
   "execution_count": null,
   "metadata": {},
   "outputs": [],
   "source": [
    "from sklearn.cluster import DBSCAN\n",
    "from sklearn import metrics\n",
    "\n",
    "# Compute DBSCAN\n",
    "db = DBSCAN(eps=5, min_samples=50).fit(df_dbscan2)\n",
    "core_samples_mask = np.zeros_like(db.labels_, dtype=bool)\n",
    "core_samples_mask[db.core_sample_indices_] = True\n",
    "labels = db.labels_\n",
    "\n",
    "# Number of clusters in labels, ignoring noise if present.\n",
    "n_clusters_ = len(set(labels)) - (1 if -1 in labels else 0)\n",
    "n_noise_ = list(labels).count(-1)\n",
    "\n",
    "print(n_clusters_)\n"
   ]
  },
  {
   "cell_type": "code",
   "execution_count": null,
   "metadata": {},
   "outputs": [],
   "source": [
    "# Plot result\n",
    "import matplotlib.pyplot as plt\n",
    "\n",
    "# Black removed and is used for noise instead.\n",
    "unique_labels = set(labels)\n",
    "colors = [plt.cm.Spectral(each)\n",
    "          for each in np.linspace(0, 1, len(unique_labels))]\n",
    "for k, col in zip(unique_labels, colors):\n",
    "    if k == -1:\n",
    "        # Black used for noise.\n",
    "        col = [0, 0, 0, 1]\n",
    "\n",
    "    class_member_mask = (labels == k)\n",
    "\n",
    "    xy = df_dbscan2[class_member_mask & core_samples_mask]\n",
    "    plt.plot(xy.iloc[:, 0], xy.iloc[:, 1], 'o', markerfacecolor=tuple(col),\n",
    "             markeredgecolor='k', markersize=14, alpha = 0.02)\n",
    "\n",
    "    xy = df_dbscan2[class_member_mask & ~core_samples_mask]\n",
    "    plt.plot(xy.iloc[:, 0], xy.iloc[:, 1], 'o', markerfacecolor=tuple(col),\n",
    "             markeredgecolor='k', markersize=6, alpha = 0.02)\n",
    "\n",
    "plt.title('Estimated number of clusters: %d' % n_clusters_)\n",
    "plt.show()"
   ]
  },
  {
   "cell_type": "markdown",
   "metadata": {},
   "source": [
    "Sort of two groups but not what we're looking for"
   ]
  }
 ],
 "metadata": {
  "kernelspec": {
   "display_name": "ins_env",
   "language": "python",
   "name": "ins_env"
  },
  "language_info": {
   "codemirror_mode": {
    "name": "ipython",
    "version": 3
   },
   "file_extension": ".py",
   "mimetype": "text/x-python",
   "name": "python",
   "nbconvert_exporter": "python",
   "pygments_lexer": "ipython3",
   "version": "3.7.7"
  }
 },
 "nbformat": 4,
 "nbformat_minor": 4
}

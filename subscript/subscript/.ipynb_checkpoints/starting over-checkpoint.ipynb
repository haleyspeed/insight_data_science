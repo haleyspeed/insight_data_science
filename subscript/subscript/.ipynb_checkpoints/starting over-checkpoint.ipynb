{
 "cells": [
  {
   "cell_type": "code",
   "execution_count": 1,
   "metadata": {},
   "outputs": [],
   "source": [
    "import config as cn\n",
    "import pandas as pd\n",
    "import numpy as np\n",
    "import os\n",
    "import glob"
   ]
  },
  {
   "cell_type": "code",
   "execution_count": 2,
   "metadata": {},
   "outputs": [],
   "source": [
    "dir_in = os.path.join(cn.processed_dir, 'raw2')\n",
    "dir_out = cn.clean_dir\n",
    "dir_raw = cn.raw_dir"
   ]
  },
  {
   "cell_type": "code",
   "execution_count": 3,
   "metadata": {},
   "outputs": [],
   "source": [
    "df_cat = pd.read_csv(os.path.join(dir_raw, 'wow_achievement_categories.csv'))\n",
    "df_ach = pd.read_csv(os.path.join(dir_out, 'achievement_details_list.csv'))\n"
   ]
  },
  {
   "cell_type": "code",
   "execution_count": 4,
   "metadata": {},
   "outputs": [
    {
     "ename": "NameError",
     "evalue": "name 'df_ps' is not defined",
     "output_type": "error",
     "traceback": [
      "\u001b[0;31m---------------------------------------------------------------------------\u001b[0m",
      "\u001b[0;31mNameError\u001b[0m                                 Traceback (most recent call last)",
      "\u001b[0;32m<ipython-input-4-f36bea4f9485>\u001b[0m in \u001b[0;36m<module>\u001b[0;34m\u001b[0m\n\u001b[1;32m      3\u001b[0m              \u001b[0;34m'pets_collected'\u001b[0m\u001b[0;34m,\u001b[0m\u001b[0;34m'playable_class'\u001b[0m\u001b[0;34m,\u001b[0m\u001b[0;34m'playable_race'\u001b[0m\u001b[0;34m,\u001b[0m\u001b[0;34m'realm_id'\u001b[0m\u001b[0;34m,\u001b[0m\u001b[0;34m\u001b[0m\u001b[0;34m\u001b[0m\u001b[0m\n\u001b[1;32m      4\u001b[0m              'time_since_login','total_achievement_points','total_achievements']\n\u001b[0;32m----> 5\u001b[0;31m \u001b[0museless_cols\u001b[0m \u001b[0;34m=\u001b[0m \u001b[0;34m[\u001b[0m\u001b[0mc\u001b[0m \u001b[0;32mfor\u001b[0m \u001b[0mc\u001b[0m \u001b[0;32min\u001b[0m \u001b[0mdf_ps\u001b[0m\u001b[0;34m.\u001b[0m\u001b[0mcolumns\u001b[0m\u001b[0;34m.\u001b[0m\u001b[0mvalues\u001b[0m \u001b[0;32mif\u001b[0m \u001b[0;34m'unnamed'\u001b[0m \u001b[0;32min\u001b[0m \u001b[0mc\u001b[0m\u001b[0;34m.\u001b[0m\u001b[0mlower\u001b[0m\u001b[0;34m(\u001b[0m\u001b[0;34m)\u001b[0m\u001b[0;34m]\u001b[0m\u001b[0;34m\u001b[0m\u001b[0;34m\u001b[0m\u001b[0m\n\u001b[0m\u001b[1;32m      6\u001b[0m \u001b[0mbase_cols\u001b[0m \u001b[0;34m=\u001b[0m \u001b[0;34m[\u001b[0m\u001b[0;34m'player'\u001b[0m\u001b[0;34m,\u001b[0m \u001b[0;34m'realm'\u001b[0m\u001b[0;34m,\u001b[0m \u001b[0;34m'gear_score'\u001b[0m\u001b[0;34m,\u001b[0m \u001b[0;34m'last_login'\u001b[0m\u001b[0;34m,\u001b[0m\u001b[0;34m'time_since_login'\u001b[0m\u001b[0;34m]\u001b[0m\u001b[0;34m\u001b[0m\u001b[0;34m\u001b[0m\u001b[0m\n\u001b[1;32m      7\u001b[0m \u001b[0mcategory_cols\u001b[0m \u001b[0;34m=\u001b[0m \u001b[0;34m[\u001b[0m\u001b[0mstr\u001b[0m\u001b[0;34m(\u001b[0m\u001b[0mc\u001b[0m\u001b[0;34m)\u001b[0m\u001b[0;34m.\u001b[0m\u001b[0mlower\u001b[0m\u001b[0;34m(\u001b[0m\u001b[0;34m)\u001b[0m \u001b[0;32mfor\u001b[0m \u001b[0mc\u001b[0m \u001b[0;32min\u001b[0m \u001b[0mdf_cat\u001b[0m\u001b[0;34m.\u001b[0m\u001b[0mname\u001b[0m\u001b[0;34m.\u001b[0m\u001b[0mvalues\u001b[0m\u001b[0;34m]\u001b[0m\u001b[0;34m\u001b[0m\u001b[0;34m\u001b[0m\u001b[0m\n",
      "\u001b[0;31mNameError\u001b[0m: name 'df_ps' is not defined"
     ]
    }
   ],
   "source": [
    "unimportant_cols = ['completed_quests','engagement_score','faction','gear_score','guild_name',\n",
    "             'guild_rank','honor_level','id','last_login','level','mounts_collected',\n",
    "             'pets_collected','playable_class','playable_race','realm_id',\n",
    "             'time_since_login','total_achievement_points','total_achievements']\n"
   ]
  },
  {
   "cell_type": "code",
   "execution_count": null,
   "metadata": {},
   "outputs": [
    {
     "name": "stdout",
     "output_type": "stream",
     "text": [
      "Loading data...\n",
      "Cleaning data\n"
     ]
    }
   ],
   "source": [
    "os.chdir (dir_in)\n",
    "for f in glob.glob('*{}'.format('csv')):\n",
    "    \n",
    "\n",
    "    \n",
    "    #print (f)\n",
    "    file_out = os.path.join(dir_out, 'categorized_6-8', f.replace('.csv', 'categorized_68_.csv'))\n",
    "    \n",
    "    # Read in player stats and achievements to dataframes\n",
    "    print('Loading data...')\n",
    "    df = pd.read_csv(f)\n",
    "    useless_cols = [c for c in df.columns.values if 'unnamed' in c.lower()]\n",
    "    base_cols = ['player', 'realm', 'gear_score', 'last_login','time_since_login']\n",
    "    category_cols = [str(c).lower() for c in df_cat.name.values]\n",
    "    drop_cols = useless_cols\n",
    "    engineered_cols = base_cols + category_cols\n",
    "    dfo = df.drop(unimportant_cols, axis = 1)\n",
    "    \n",
    "\n",
    "    print('Cleaning data')\n",
    "    df_ps = df.drop(drop_cols, axis = 1)\n",
    "    df_ps = df_ps.drop_duplicates()\n",
    "    ach_ids = [c for c in df_ps.columns.values if 'player' not in c and 'realm' not in c]\n",
    "\n",
    "    dfo = pd.DataFrame()\n",
    "    for index, row in df_ps.iterrows():\n",
    "        #print(row)\n",
    "        tmp = dict.fromkeys(engineered_cols,0) # Achieve cols should be numbers, default value = 0\n",
    "        for base_col in base_cols:\n",
    "            tmp[base_col] = row[base_col]  # Copy basic player information from the df_ps dataset\n",
    "        for col in ach_ids:  # Add category_id as columns instead of achievement_id\n",
    "            try:\n",
    "                if 'none' not in row[str(col)]:\n",
    "                    category_id = df_ach.loc[df_ach.achievement_id.astype(str) == col].category_name.values[0].lower()\n",
    "                    #print(category_id)\n",
    "                    tmp[category_id] = tmp[category_id] + 1  # Tallies the number of achievements completed in a category\n",
    "            except:\n",
    "                continue\n",
    "        dfo = dfo.append(tmp, ignore_index = True)\n",
    "    print(i)\n",
    "    i = i + 1"
   ]
  },
  {
   "cell_type": "code",
   "execution_count": null,
   "metadata": {},
   "outputs": [],
   "source": [
    "from IPython.display import HTML\n",
    "display(HTML(dfo.head().to_html()))\n",
    "\n"
   ]
  },
  {
   "cell_type": "code",
   "execution_count": null,
   "metadata": {},
   "outputs": [],
   "source": []
  }
 ],
 "metadata": {
  "kernelspec": {
   "display_name": "ins_env",
   "language": "python",
   "name": "ins_env"
  },
  "language_info": {
   "codemirror_mode": {
    "name": "ipython",
    "version": 3
   },
   "file_extension": ".py",
   "mimetype": "text/x-python",
   "name": "python",
   "nbconvert_exporter": "python",
   "pygments_lexer": "ipython3",
   "version": "3.7.7"
  }
 },
 "nbformat": 4,
 "nbformat_minor": 4
}
